{
 "cells": [
  {
   "cell_type": "code",
   "execution_count": 1,
   "id": "cd792ced",
   "metadata": {},
   "outputs": [
    {
     "name": "stderr",
     "output_type": "stream",
     "text": [
      "2024-01-09 14:22:44.742950: I tensorflow/stream_executor/platform/default/dso_loader.cc:49] Successfully opened dynamic library libcudart.so.10.1\n"
     ]
    }
   ],
   "source": [
    "import numpy as np\n",
    "import cv2\n",
    "import tensorflow as tf\n",
    "import keras\n",
    "from tensorflow.python.distribute.mirrored_strategy import MirroredStrategy\n",
    "\n",
    "from tensorflow.keras.callbacks import EarlyStopping\n",
    "from tensorflow.keras.callbacks import ModelCheckpoint\n",
    "#from keras.utils import to_categorical\n",
    "from tensorflow.keras.models import Sequential, Model\n",
    "from tensorflow.keras.layers import (ConvLSTM2D, BatchNormalization, Convolution3D, Convolution2D, Conv2D, Dropout,\n",
    "                          TimeDistributed, MaxPooling2D, MaxPooling3D, UpSampling2D, UpSampling3D, Input,  AveragePooling3D)\n",
    "\n",
    "import matplotlib.pyplot as plt\n",
    "import matplotlib.ticker as mticker\n",
    "import os\n",
    "import gc"
   ]
  },
  {
   "cell_type": "code",
   "execution_count": 2,
   "id": "de8d4fee",
   "metadata": {},
   "outputs": [],
   "source": [
    "# os.environ['TF_XLA_FLAGS'] = '--tf_xla_enable_xla_devices'\n",
    "os.environ[\"CUDA_DEVICE_ORDER\"]=\"PCI_BUS_ID\"   # see issue #152\n",
    "os.environ['CUDA_VISIBLE_DEVICES'] = \"2\"\n",
    "# os.environ['TF_CPP_MIN_LOG_LEVEL'] = '2'\n",
    "# os.environ['TF_FORCE_GPU_ALLOW_GROWTH'] = 'true'"
   ]
  },
  {
   "cell_type": "code",
   "execution_count": 3,
   "id": "5e8cb29e",
   "metadata": {},
   "outputs": [],
   "source": [
    "import tensorflow.keras.backend as K"
   ]
  },
  {
   "cell_type": "code",
   "execution_count": 4,
   "id": "63a81085",
   "metadata": {},
   "outputs": [
    {
     "name": "stdout",
     "output_type": "stream",
     "text": [
      "(250, 32, 32, 32, 256)\n",
      "(250, 32, 32, 32, 256)\n",
      "(250, 32, 32, 32, 256)\n",
      "(250, 32, 32, 32, 256)\n",
      "(250, 32, 32, 32, 256)\n",
      "(250, 32, 32, 32, 256)\n",
      "(250, 32, 32, 32, 256)\n",
      "(150, 32, 32, 32, 256)\n"
     ]
    }
   ],
   "source": [
    "encoder_predictions1 = np.load(\"encoder_predictions1.npy\", mmap_mode='r+')\n",
    "encoder_predictions2 = np.load(\"encoder_predictions2.npy\", mmap_mode='r+')\n",
    "encoder_predictions3 = np.load(\"encoder_predictions3.npy\", mmap_mode='r+')\n",
    "encoder_predictions4 = np.load(\"encoder_predictions4.npy\", mmap_mode='r+')\n",
    "encoder_predictions5 = np.load(\"encoder_predictions5.npy\", mmap_mode='r+')\n",
    "encoder_predictions6 = np.load(\"encoder_predictions6.npy\", mmap_mode='r+')\n",
    "encoder_predictions7 = np.load(\"encoder_predictions7.npy\", mmap_mode='r+')\n",
    "encoder_predictions8 = np.load(\"encoder_predictions8.npy\", mmap_mode='r+')\n",
    "\n",
    "print(encoder_predictions1.shape)\n",
    "print(encoder_predictions2.shape)\n",
    "print(encoder_predictions3.shape)\n",
    "print(encoder_predictions4.shape)\n",
    "print(encoder_predictions5.shape)\n",
    "print(encoder_predictions6.shape)\n",
    "print(encoder_predictions7.shape)\n",
    "print(encoder_predictions8.shape)"
   ]
  },
  {
   "cell_type": "code",
   "execution_count": 5,
   "id": "a37179f0",
   "metadata": {},
   "outputs": [],
   "source": [
    "encoder_predictions = np.concatenate([encoder_predictions1, encoder_predictions2, encoder_predictions3, encoder_predictions4,\n",
    "                                      encoder_predictions5, encoder_predictions6, encoder_predictions7, encoder_predictions8], axis = 0)"
   ]
  },
  {
   "cell_type": "code",
   "execution_count": 6,
   "id": "67a0d7a6",
   "metadata": {},
   "outputs": [
    {
     "name": "stdout",
     "output_type": "stream",
     "text": [
      "(1900, 32, 32, 32, 256)\n"
     ]
    }
   ],
   "source": [
    "print(encoder_predictions.shape)"
   ]
  },
  {
   "cell_type": "code",
   "execution_count": 7,
   "id": "3b6ea0ea",
   "metadata": {},
   "outputs": [],
   "source": [
    "np.save('encoder_predictions_mse', encoder_predictions)"
   ]
  },
  {
   "cell_type": "code",
   "execution_count": null,
   "id": "1671ee99",
   "metadata": {},
   "outputs": [],
   "source": []
  }
 ],
 "metadata": {
  "kernelspec": {
   "display_name": "Python 3 (ipykernel)",
   "language": "python",
   "name": "python3"
  },
  "language_info": {
   "codemirror_mode": {
    "name": "ipython",
    "version": 3
   },
   "file_extension": ".py",
   "mimetype": "text/x-python",
   "name": "python",
   "nbconvert_exporter": "python",
   "pygments_lexer": "ipython3",
   "version": "3.7.11"
  }
 },
 "nbformat": 4,
 "nbformat_minor": 5
}
