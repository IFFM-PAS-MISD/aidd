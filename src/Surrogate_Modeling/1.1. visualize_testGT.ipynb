{
 "cells": [
  {
   "cell_type": "markdown",
   "id": "b591a461",
   "metadata": {},
   "source": [
    "# Test/Predict the saved Model.."
   ]
  },
  {
   "cell_type": "code",
   "execution_count": 1,
   "id": "cd792ced",
   "metadata": {},
   "outputs": [
    {
     "name": "stderr",
     "output_type": "stream",
     "text": [
      "2023-04-20 14:49:07.480351: I tensorflow/stream_executor/platform/default/dso_loader.cc:49] Successfully opened dynamic library libcudart.so.10.1\n"
     ]
    }
   ],
   "source": [
    "import numpy as np\n",
    "import cv2\n",
    "import tensorflow as tf\n",
    "import os\n",
    "import matplotlib.pyplot as plt\n",
    "from tensorflow.keras.models import load_model\n",
    "from pathlib import Path"
   ]
  },
  {
   "cell_type": "code",
   "execution_count": 2,
   "id": "de8d4fee",
   "metadata": {},
   "outputs": [],
   "source": [
    "# os.environ['TF_XLA_FLAGS'] = '--tf_xla_enable_xla_devices'\n",
    "os.environ[\"CUDA_DEVICE_ORDER\"]=\"PCI_BUS_ID\"   # see issue #152\n",
    "os.environ['CUDA_VISIBLE_DEVICES'] = \"2\"\n",
    "# os.environ['TF_CPP_MIN_LOG_LEVEL'] = '2'\n",
    "# os.environ['TF_FORCE_GPU_ALLOW_GROWTH'] = 'true'"
   ]
  },
  {
   "cell_type": "code",
   "execution_count": 3,
   "id": "5e8cb29e",
   "metadata": {},
   "outputs": [],
   "source": [
    "import tensorflow.keras.backend as K"
   ]
  },
  {
   "cell_type": "code",
   "execution_count": 4,
   "id": "af255ea2",
   "metadata": {},
   "outputs": [
    {
     "name": "stdout",
     "output_type": "stream",
     "text": [
      "(1900, 32, 256, 256, 1)\n"
     ]
    }
   ],
   "source": [
    "GT = np.load(\"/home/sullah/PycharmProjects/EDSR/Alphorn_Project/dataset_after_augmentation_256x256/GT_after_augmentation_256x256.npy\", mmap_mode='r+')\n",
    "print(GT.shape)"
   ]
  },
  {
   "cell_type": "code",
   "execution_count": 5,
   "id": "fc96bbf1",
   "metadata": {},
   "outputs": [
    {
     "name": "stdout",
     "output_type": "stream",
     "text": [
      "(380, 32, 256, 256, 1)\n"
     ]
    }
   ],
   "source": [
    "\n",
    "test_GT = GT[1520:]\n",
    "\n",
    "print(test_GT.shape)"
   ]
  },
  {
   "cell_type": "code",
   "execution_count": 6,
   "id": "555d2dbd",
   "metadata": {},
   "outputs": [
    {
     "name": "stdout",
     "output_type": "stream",
     "text": [
      "(12160, 256, 256, 1)\n"
     ]
    }
   ],
   "source": [
    "test_GT = test_GT.reshape((380*32, 256, 256, 1))\n",
    "\n",
    "print(test_GT.shape)"
   ]
  },
  {
   "cell_type": "code",
   "execution_count": 7,
   "id": "9045c6f3",
   "metadata": {},
   "outputs": [],
   "source": [
    "for i in range(12160):\n",
    "    case_num = 1521 + (i // 32)\n",
    "#     plt.title('Plotting the Ground Truth')\n",
    "\n",
    "############################################################################################################\n",
    "    plt.figure(figsize=(15 / 2.54, 5 / 2.54), dpi=600)\n",
    "    plt.gca().set_axis_off()\n",
    "    plt.axis('off')\n",
    "    plt.subplots_adjust(left=0.0, bottom=0.0, right=1, top=1.0, wspace=0.1, hspace=0.0)\n",
    "    plt.margins(0, 0)\n",
    "    plt.gca().xaxis.set_major_locator(plt.NullLocator())\n",
    "    plt.gca().yaxis.set_major_locator(plt.NullLocator())\n",
    "############################################################################################################\n",
    "\n",
    "    plt.imshow(test_GT[i].astype(np.float32))\n",
    "#     plt.show()\n",
    "    path = '/home/sullah/PycharmProjects/EDSR/Alphorn_Project/Test_GT/%d_GT/' % case_num\n",
    "    Path(path).mkdir(parents=True, exist_ok=True)\n",
    "    os.chdir(path)      \n",
    "    plt.savefig('Test_GT_%d_GT_%d.png' % (i+1, case_num))\n",
    "    plt.close('all')"
   ]
  },
  {
   "cell_type": "code",
   "execution_count": null,
   "id": "3c74155c",
   "metadata": {},
   "outputs": [],
   "source": []
  }
 ],
 "metadata": {
  "kernelspec": {
   "display_name": "Python 3 (ipykernel)",
   "language": "python",
   "name": "python3"
  },
  "language_info": {
   "codemirror_mode": {
    "name": "ipython",
    "version": 3
   },
   "file_extension": ".py",
   "mimetype": "text/x-python",
   "name": "python",
   "nbconvert_exporter": "python",
   "pygments_lexer": "ipython3",
   "version": "3.7.11"
  }
 },
 "nbformat": 4,
 "nbformat_minor": 5
}
