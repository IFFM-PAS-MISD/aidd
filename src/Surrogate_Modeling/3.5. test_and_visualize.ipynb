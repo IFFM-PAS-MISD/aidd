{
 "cells": [
  {
   "cell_type": "markdown",
   "id": "b591a461",
   "metadata": {},
   "source": [
    "# Test/Predict the saved Model.."
   ]
  },
  {
   "cell_type": "code",
   "execution_count": 1,
   "id": "cd792ced",
   "metadata": {},
   "outputs": [
    {
     "name": "stderr",
     "output_type": "stream",
     "text": [
      "2023-07-29 21:17:38.728762: I tensorflow/stream_executor/platform/default/dso_loader.cc:49] Successfully opened dynamic library libcudart.so.10.1\n"
     ]
    }
   ],
   "source": [
    "import numpy as np\n",
    "import cv2\n",
    "import tensorflow as tf\n",
    "import os\n",
    "import matplotlib.pyplot as plt\n",
    "from tensorflow.keras.models import load_model\n",
    "from pathlib import Path"
   ]
  },
  {
   "cell_type": "code",
   "execution_count": 2,
   "id": "de8d4fee",
   "metadata": {},
   "outputs": [],
   "source": [
    "# os.environ['TF_XLA_FLAGS'] = '--tf_xla_enable_xla_devices'\n",
    "os.environ[\"CUDA_DEVICE_ORDER\"]=\"PCI_BUS_ID\"   # see issue #152\n",
    "os.environ['CUDA_VISIBLE_DEVICES'] = \"2\"\n",
    "# os.environ['TF_CPP_MIN_LOG_LEVEL'] = '2'\n",
    "# os.environ['TF_FORCE_GPU_ALLOW_GROWTH'] = 'true'"
   ]
  },
  {
   "cell_type": "code",
   "execution_count": 3,
   "id": "5e8cb29e",
   "metadata": {},
   "outputs": [],
   "source": [
    "import tensorflow.keras.backend as K"
   ]
  },
  {
   "cell_type": "code",
   "execution_count": 4,
   "id": "af255ea2",
   "metadata": {},
   "outputs": [
    {
     "name": "stdout",
     "output_type": "stream",
     "text": [
      "(1900, 32, 256, 256, 2)\n",
      "(1900, 32, 256, 256, 1)\n",
      "(1900, 32, 256, 256, 1)\n"
     ]
    }
   ],
   "source": [
    "data = np.load(\"/home/sullah/PycharmProjects/EDSR/Alphorn_Project/for_professor_method_after_augmentation_256x256_another_try/combined_inputs.npy\", mmap_mode='r+')\n",
    "\n",
    "labels = np.load(\"/home/sullah/PycharmProjects/EDSR/Alphorn_Project/dataset_after_augmentation_256x256/del_data_after_augmentation_256x256.npy\", mmap_mode='r+')\n",
    "\n",
    "reference_images = np.load(\"/home/sullah/PycharmProjects/EDSR/Alphorn_Project/dataset_after_augmentation_256x256/healthy_data_after_augmentation_256x256.npy\", mmap_mode='r+')\n",
    "\n",
    "print(data.shape)\n",
    "print(labels.shape)\n",
    "print(reference_images.shape)"
   ]
  },
  {
   "cell_type": "code",
   "execution_count": 5,
   "id": "fc96bbf1",
   "metadata": {},
   "outputs": [
    {
     "name": "stdout",
     "output_type": "stream",
     "text": [
      "(20, 32, 256, 256, 2)\n",
      "(20, 32, 256, 256, 1)\n",
      "(20, 32, 256, 256, 1)\n"
     ]
    }
   ],
   "source": [
    "test_data = data[1880:1900]\n",
    "test_labels = labels[1880:1900]\n",
    "test_reference_images = reference_images[1880:1900]\n",
    "\n",
    "print(test_data.shape)\n",
    "print(test_labels.shape)\n",
    "print(test_reference_images.shape)"
   ]
  },
  {
   "cell_type": "code",
   "execution_count": 6,
   "id": "9e3bc931",
   "metadata": {},
   "outputs": [],
   "source": [
    "# def PSNR(y_true,y_pred):\n",
    "#   mse=tf.reduce_mean( (y_true - y_pred) ** 2 )\n",
    "#   return 20 * log10(1 / (mse ** 0.5))\n",
    "\n",
    "# def log10(x):\n",
    "#   numerator = tf.math.log(x)\n",
    "#   denominator = tf.math.log(tf.constant(10, dtype=numerator.dtype))\n",
    "#   return numerator / denominator\n",
    "\n",
    "# def pixel_MSE(y_true,y_pred):\n",
    "#   return tf.reduce_mean( (y_true - y_pred) ** 2 )\n",
    "\n",
    "\n",
    "def PSNR(orig, pred):\n",
    "\t# cast the target images to integer\n",
    "\torig = orig * 255.0\n",
    "\torig = tf.cast(orig, tf.uint8)\n",
    "\torig = tf.clip_by_value(orig, 0, 255)\n",
    "\t# cast the predicted images to integer\n",
    "\tpred = pred * 255.0\n",
    "\tpred = tf.cast(pred, tf.uint8)\n",
    "\tpred = tf.clip_by_value(pred, 0, 255)\n",
    "\t# return the psnr\n",
    "\treturn tf.image.psnr(orig, pred, max_val=255)"
   ]
  },
  {
   "cell_type": "code",
   "execution_count": 7,
   "id": "0ecb5136",
   "metadata": {},
   "outputs": [],
   "source": [
    "def pearson_r(y_true, y_pred):\n",
    "    x = y_true\n",
    "    y = y_pred\n",
    "    mx = K.mean(x, axis=0)\n",
    "    my = K.mean(y, axis=0)\n",
    "    xm, ym = x - mx, y - my\n",
    "    r_num = K.sum(xm * ym)\n",
    "    x_square_sum = K.sum(xm * xm)\n",
    "    y_square_sum = K.sum(ym * ym)\n",
    "    r_den = K.sqrt(x_square_sum * y_square_sum)\n",
    "    r = r_num / r_den\n",
    "    return K.mean(r)"
   ]
  },
  {
   "cell_type": "code",
   "execution_count": 8,
   "id": "b1a5847b",
   "metadata": {},
   "outputs": [
    {
     "name": "stderr",
     "output_type": "stream",
     "text": [
      "2023-07-29 21:17:41.075259: I tensorflow/compiler/jit/xla_cpu_device.cc:41] Not creating XLA devices, tf_xla_enable_xla_devices not set\n",
      "2023-07-29 21:17:41.076749: I tensorflow/stream_executor/platform/default/dso_loader.cc:49] Successfully opened dynamic library libcuda.so.1\n",
      "2023-07-29 21:17:41.118051: I tensorflow/core/common_runtime/gpu/gpu_device.cc:1720] Found device 0 with properties: \n",
      "pciBusID: 0000:86:00.0 name: Tesla V100S-PCIE-32GB computeCapability: 7.0\n",
      "coreClock: 1.597GHz coreCount: 80 deviceMemorySize: 31.75GiB deviceMemoryBandwidth: 1.03TiB/s\n",
      "2023-07-29 21:17:41.118121: I tensorflow/stream_executor/platform/default/dso_loader.cc:49] Successfully opened dynamic library libcudart.so.10.1\n",
      "2023-07-29 21:17:41.120720: I tensorflow/stream_executor/platform/default/dso_loader.cc:49] Successfully opened dynamic library libcublas.so.10\n",
      "2023-07-29 21:17:41.120819: I tensorflow/stream_executor/platform/default/dso_loader.cc:49] Successfully opened dynamic library libcublasLt.so.10\n",
      "2023-07-29 21:17:41.123144: I tensorflow/stream_executor/platform/default/dso_loader.cc:49] Successfully opened dynamic library libcufft.so.10\n",
      "2023-07-29 21:17:41.123574: I tensorflow/stream_executor/platform/default/dso_loader.cc:49] Successfully opened dynamic library libcurand.so.10\n",
      "2023-07-29 21:17:41.126038: I tensorflow/stream_executor/platform/default/dso_loader.cc:49] Successfully opened dynamic library libcusolver.so.10\n",
      "2023-07-29 21:17:41.127446: I tensorflow/stream_executor/platform/default/dso_loader.cc:49] Successfully opened dynamic library libcusparse.so.10\n",
      "2023-07-29 21:17:41.132627: I tensorflow/stream_executor/platform/default/dso_loader.cc:49] Successfully opened dynamic library libcudnn.so.7\n",
      "2023-07-29 21:17:41.137342: I tensorflow/core/common_runtime/gpu/gpu_device.cc:1862] Adding visible gpu devices: 0\n",
      "2023-07-29 21:17:41.138284: I tensorflow/core/platform/cpu_feature_guard.cc:142] This TensorFlow binary is optimized with oneAPI Deep Neural Network Library (oneDNN) to use the following CPU instructions in performance-critical operations:  SSE4.1 SSE4.2 AVX AVX2 AVX512F FMA\n",
      "To enable them in other operations, rebuild TensorFlow with the appropriate compiler flags.\n",
      "2023-07-29 21:17:41.142777: I tensorflow/core/common_runtime/gpu/gpu_device.cc:1720] Found device 0 with properties: \n",
      "pciBusID: 0000:86:00.0 name: Tesla V100S-PCIE-32GB computeCapability: 7.0\n",
      "coreClock: 1.597GHz coreCount: 80 deviceMemorySize: 31.75GiB deviceMemoryBandwidth: 1.03TiB/s\n",
      "2023-07-29 21:17:41.142818: I tensorflow/stream_executor/platform/default/dso_loader.cc:49] Successfully opened dynamic library libcudart.so.10.1\n",
      "2023-07-29 21:17:41.142846: I tensorflow/stream_executor/platform/default/dso_loader.cc:49] Successfully opened dynamic library libcublas.so.10\n",
      "2023-07-29 21:17:41.142863: I tensorflow/stream_executor/platform/default/dso_loader.cc:49] Successfully opened dynamic library libcublasLt.so.10\n",
      "2023-07-29 21:17:41.142878: I tensorflow/stream_executor/platform/default/dso_loader.cc:49] Successfully opened dynamic library libcufft.so.10\n",
      "2023-07-29 21:17:41.142894: I tensorflow/stream_executor/platform/default/dso_loader.cc:49] Successfully opened dynamic library libcurand.so.10\n",
      "2023-07-29 21:17:41.142909: I tensorflow/stream_executor/platform/default/dso_loader.cc:49] Successfully opened dynamic library libcusolver.so.10\n",
      "2023-07-29 21:17:41.142925: I tensorflow/stream_executor/platform/default/dso_loader.cc:49] Successfully opened dynamic library libcusparse.so.10\n",
      "2023-07-29 21:17:41.142941: I tensorflow/stream_executor/platform/default/dso_loader.cc:49] Successfully opened dynamic library libcudnn.so.7\n",
      "2023-07-29 21:17:41.147465: I tensorflow/core/common_runtime/gpu/gpu_device.cc:1862] Adding visible gpu devices: 0\n",
      "2023-07-29 21:17:41.147509: I tensorflow/stream_executor/platform/default/dso_loader.cc:49] Successfully opened dynamic library libcudart.so.10.1\n",
      "2023-07-29 21:17:41.876357: I tensorflow/core/common_runtime/gpu/gpu_device.cc:1261] Device interconnect StreamExecutor with strength 1 edge matrix:\n",
      "2023-07-29 21:17:41.876419: I tensorflow/core/common_runtime/gpu/gpu_device.cc:1267]      0 \n",
      "2023-07-29 21:17:41.876427: I tensorflow/core/common_runtime/gpu/gpu_device.cc:1280] 0:   N \n",
      "2023-07-29 21:17:41.881576: I tensorflow/core/common_runtime/gpu/gpu_device.cc:1406] Created TensorFlow device (/job:localhost/replica:0/task:0/device:GPU:0 with 30130 MB memory) -> physical GPU (device: 0, name: Tesla V100S-PCIE-32GB, pci bus id: 0000:86:00.0, compute capability: 7.0)\n",
      "2023-07-29 21:17:41.881991: I tensorflow/compiler/jit/xla_gpu_device.cc:99] Not creating XLA devices, tf_xla_enable_xla_devices not set\n"
     ]
    }
   ],
   "source": [
    "# load the saved model\n",
    "model_encoder = tf.keras.models.load_model('Model_2_encoder_mapping_GT_imgs_Latenet_spaces1.h5', compile = False)\n",
    "model_decoder = tf.keras.models.load_model('ConvLSTM_with_Pooling_with_MSE_autoencoder_decoder-decoder_fully_ConvLSTM1.h5', compile = False)"
   ]
  },
  {
   "cell_type": "code",
   "execution_count": 9,
   "id": "b8f6893d",
   "metadata": {},
   "outputs": [
    {
     "name": "stdout",
     "output_type": "stream",
     "text": [
      "Model: \"encoder\"\n",
      "_________________________________________________________________\n",
      "Layer (type)                 Output Shape              Param #   \n",
      "=================================================================\n",
      "input_1 (InputLayer)         [(None, 32, 256, 256, 2)] 0         \n",
      "_________________________________________________________________\n",
      "conv_lst_m2d (ConvLSTM2D)    (None, 32, 256, 256, 32)  39296     \n",
      "_________________________________________________________________\n",
      "max_pooling3d (MaxPooling3D) (None, 32, 128, 128, 32)  0         \n",
      "_________________________________________________________________\n",
      "batch_normalization (BatchNo (None, 32, 128, 128, 32)  128       \n",
      "_________________________________________________________________\n",
      "conv_lst_m2d_1 (ConvLSTM2D)  (None, 32, 128, 128, 192) 1549056   \n",
      "_________________________________________________________________\n",
      "max_pooling3d_1 (MaxPooling3 (None, 32, 64, 64, 192)   0         \n",
      "_________________________________________________________________\n",
      "batch_normalization_1 (Batch (None, 32, 64, 64, 192)   768       \n",
      "_________________________________________________________________\n",
      "conv_lst_m2d_2 (ConvLSTM2D)  (None, 32, 64, 64, 192)   2654976   \n",
      "_________________________________________________________________\n",
      "max_pooling3d_2 (MaxPooling3 (None, 32, 32, 32, 192)   0         \n",
      "_________________________________________________________________\n",
      "Latent_Space (BatchNormaliza (None, 32, 32, 32, 192)   768       \n",
      "=================================================================\n",
      "Total params: 4,244,992\n",
      "Trainable params: 4,244,160\n",
      "Non-trainable params: 832\n",
      "_________________________________________________________________\n",
      "Model: \"decoder\"\n",
      "_________________________________________________________________\n",
      "Layer (type)                 Output Shape              Param #   \n",
      "=================================================================\n",
      "input_2 (InputLayer)         [(None, 32, 32, 32, 192)] 0         \n",
      "_________________________________________________________________\n",
      "conv_lst_m2d_3 (ConvLSTM2D)  (None, 32, 32, 32, 192)   2654976   \n",
      "_________________________________________________________________\n",
      "up_sampling3d (UpSampling3D) (None, 32, 64, 64, 192)   0         \n",
      "_________________________________________________________________\n",
      "batch_normalization_2 (Batch (None, 32, 64, 64, 192)   768       \n",
      "_________________________________________________________________\n",
      "conv_lst_m2d_4 (ConvLSTM2D)  (None, 32, 64, 64, 192)   2654976   \n",
      "_________________________________________________________________\n",
      "up_sampling3d_1 (UpSampling3 (None, 32, 128, 128, 192) 0         \n",
      "_________________________________________________________________\n",
      "batch_normalization_3 (Batch (None, 32, 128, 128, 192) 768       \n",
      "_________________________________________________________________\n",
      "conv_lst_m2d_5 (ConvLSTM2D)  (None, 32, 128, 128, 32)  258176    \n",
      "_________________________________________________________________\n",
      "up_sampling3d_2 (UpSampling3 (None, 32, 256, 256, 32)  0         \n",
      "_________________________________________________________________\n",
      "batch_normalization_4 (Batch (None, 32, 256, 256, 32)  128       \n",
      "_________________________________________________________________\n",
      "conv2d (Conv2D)              (None, 32, 256, 256, 1)   289       \n",
      "=================================================================\n",
      "Total params: 5,570,081\n",
      "Trainable params: 5,569,249\n",
      "Non-trainable params: 832\n",
      "_________________________________________________________________\n"
     ]
    }
   ],
   "source": [
    "model_encoder.summary()\n",
    "model_decoder.summary()"
   ]
  },
  {
   "cell_type": "code",
   "execution_count": 10,
   "id": "27e7f537",
   "metadata": {},
   "outputs": [
    {
     "name": "stdout",
     "output_type": "stream",
     "text": [
      "(20, 32, 256, 256, 2)\n"
     ]
    }
   ],
   "source": [
    "x_test = test_data\n",
    "print(x_test.shape)"
   ]
  },
  {
   "cell_type": "code",
   "execution_count": 11,
   "id": "76ab56e3",
   "metadata": {},
   "outputs": [
    {
     "name": "stderr",
     "output_type": "stream",
     "text": [
      "2023-07-29 21:17:44.793178: I tensorflow/compiler/mlir/mlir_graph_optimization_pass.cc:116] None of the MLIR optimization passes are enabled (registered 2)\n",
      "2023-07-29 21:17:44.811592: I tensorflow/core/platform/profile_utils/cpu_utils.cc:112] CPU Frequency: 2100000000 Hz\n",
      "2023-07-29 21:17:45.414932: E tensorflow/core/grappler/optimizers/meta_optimizer.cc:592] layout failed: Invalid argument: MutableGraphView::SortTopologically error: detected edge(s) creating cycle(s) {'encoder/conv_lst_m2d_2/while/body/_97/encoder/conv_lst_m2d_2/while/mul_2' -> 'encoder/conv_lst_m2d_2/while/body/_97/encoder/conv_lst_m2d_2/while/add_5', 'encoder/conv_lst_m2d_2/while/body/_97/encoder/conv_lst_m2d_2/while/Tanh_1' -> 'encoder/conv_lst_m2d_2/while/body/_97/encoder/conv_lst_m2d_2/while/mul_5', 'encoder/conv_lst_m2d_2/while/body/_97/encoder/conv_lst_m2d_2/while/convolution_7' -> 'encoder/conv_lst_m2d_2/while/body/_97/encoder/conv_lst_m2d_2/while/add_6', 'encoder/conv_lst_m2d/while/body/_1/encoder/conv_lst_m2d/while/mul_5' -> 'encoder/conv_lst_m2d/while/body/_1/encoder/conv_lst_m2d/while/Identity_4', 'encoder/conv_lst_m2d/while/body/_1/encoder/conv_lst_m2d/while/mul_2' -> 'encoder/conv_lst_m2d/while/body/_1/encoder/conv_lst_m2d/while/add_5'}.\n",
      "2023-07-29 21:17:45.652755: I tensorflow/stream_executor/platform/default/dso_loader.cc:49] Successfully opened dynamic library libcudnn.so.7\n",
      "2023-07-29 21:17:47.135964: I tensorflow/stream_executor/platform/default/dso_loader.cc:49] Successfully opened dynamic library libcublas.so.10\n"
     ]
    },
    {
     "name": "stdout",
     "output_type": "stream",
     "text": [
      "(20, 32, 256, 256, 1)\n"
     ]
    }
   ],
   "source": [
    "prediction = model_decoder(model_encoder.predict(x_test, batch_size=1)) \n",
    "print(prediction.shape)\n",
    "prediction = np.asarray(prediction)"
   ]
  },
  {
   "cell_type": "code",
   "execution_count": 12,
   "id": "555d2dbd",
   "metadata": {},
   "outputs": [
    {
     "name": "stdout",
     "output_type": "stream",
     "text": [
      "(640, 256, 256, 1)\n",
      "(640, 256, 256, 1)\n",
      "(640, 256, 256, 1)\n"
     ]
    }
   ],
   "source": [
    "prediction = prediction.reshape((20*32, 256, 256, 1))\n",
    "test_labels = test_labels.reshape((20*32, 256, 256, 1))\n",
    "test_reference_images = test_reference_images.reshape((20*32, 256, 256, 1))\n",
    "\n",
    "print(prediction.shape)\n",
    "print(test_labels.shape)\n",
    "print(test_reference_images.shape)"
   ]
  },
  {
   "cell_type": "code",
   "execution_count": 13,
   "id": "9045c6f3",
   "metadata": {},
   "outputs": [
    {
     "name": "stdout",
     "output_type": "stream",
     "text": [
      "20\n"
     ]
    }
   ],
   "source": [
    "frames = x_test.shape[0]\n",
    "\n",
    "print(frames)\n",
    "for i in range(640):\n",
    "    case_num = 1881 + (i // 32)\n",
    "    pred = prediction[i].astype('float32')            \n",
    "    original = test_labels[i].astype('float32')\n",
    "    ref = test_reference_images[i].astype('float32')\n",
    "    \n",
    "#     print('case #', case_num, 'frame #', (i + 1), 'PSNR', PSNR(original[i],pred[i]))\n",
    "#     print('case #', case_num, 'frame #', (i + 1), 'pearson_r', pearson_r(original[i],pred[i]))\n",
    "############################################################################################################\n",
    "    plt.figure(figsize=(15 / 2.54, 5 / 2.54), dpi=600)\n",
    "    plt.gca().set_axis_off()\n",
    "    plt.axis('off')\n",
    "    plt.subplots_adjust(left=0.0, bottom=0.0, right=1, top=1.0, wspace=0.1, hspace=0.0)\n",
    "    plt.margins(0, 0)\n",
    "    plt.gca().xaxis.set_major_locator(plt.NullLocator())\n",
    "    plt.gca().yaxis.set_major_locator(plt.NullLocator())\n",
    "############################################################################################################          \n",
    "#     SR_pred = SR_pred * 255.0\n",
    "\n",
    "    # showing image\n",
    "    ax1 = plt.subplot(1, 3, 1)\n",
    "    ax1.imshow(ref) \n",
    "    ax1.set_title(\"Reference Image\")\n",
    "    ax1.axis('off')\n",
    "    \n",
    "    # showing image\n",
    "    ax2 = plt.subplot(1, 3, 2)\n",
    "    ax2.imshow(pred) \n",
    "    ax2.set_title(\"Predicted Image\")\n",
    "    ax2.axis('off')\n",
    "    \n",
    "    # showing image\n",
    "    ax3 = plt.subplot(1, 3, 3)\n",
    "    ax3.imshow(original)\n",
    "    ax3.set_title(\"Actual Image\")\n",
    "    ax3.axis('off')\n",
    "            \n",
    "#   print('PSNR', PSNR(original[i],pred[i])) #can be like this too original[0][i]\n",
    "#   print('pearson_r', pearson_r(original[0][i],pred[count][i]))\n",
    "    \n",
    "    path = '/home/sullah/PycharmProjects/EDSR/Alphorn_Project/numerical_results/%d_output/' % case_num\n",
    "    Path(path).mkdir(parents=True, exist_ok=True)\n",
    "    os.chdir(path)      \n",
    "    plt.savefig('Saeed_SR_Pred_frame_%d_output_%d.png' % (i+12161, case_num))\n",
    "    plt.close('all')"
   ]
  },
  {
   "cell_type": "code",
   "execution_count": null,
   "id": "3c74155c",
   "metadata": {},
   "outputs": [],
   "source": []
  }
 ],
 "metadata": {
  "kernelspec": {
   "display_name": "Python 3 (ipykernel)",
   "language": "python",
   "name": "python3"
  },
  "language_info": {
   "codemirror_mode": {
    "name": "ipython",
    "version": 3
   },
   "file_extension": ".py",
   "mimetype": "text/x-python",
   "name": "python",
   "nbconvert_exporter": "python",
   "pygments_lexer": "ipython3",
   "version": "3.7.11"
  }
 },
 "nbformat": 4,
 "nbformat_minor": 5
}
