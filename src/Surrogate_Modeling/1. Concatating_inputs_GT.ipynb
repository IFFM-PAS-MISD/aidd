{
 "cells": [
  {
   "cell_type": "markdown",
   "id": "1c36f391",
   "metadata": {},
   "source": [
    "# This file is for Concatating the Input files with GT."
   ]
  },
  {
   "cell_type": "code",
   "execution_count": null,
   "id": "7d2209ef",
   "metadata": {},
   "outputs": [],
   "source": [
    "import numpy as np\n",
    "import cv2\n",
    "import os"
   ]
  },
  {
   "cell_type": "code",
   "execution_count": 2,
   "id": "5cfcf541",
   "metadata": {},
   "outputs": [],
   "source": [
    "# os.environ['TF_XLA_FLAGS'] = '--tf_xla_enable_xla_devices'\n",
    "os.environ[\"CUDA_DEVICE_ORDER\"]=\"PCI_BUS_ID\"   # see issue #152\n",
    "os.environ['CUDA_VISIBLE_DEVICES'] = \"2\"\n",
    "os.environ['TF_CPP_MIN_LOG_LEVEL'] = '2'\n",
    "# os.environ['TF_FORCE_GPU_ALLOW_GROWTH'] = 'true'"
   ]
  },
  {
   "cell_type": "code",
   "execution_count": 3,
   "id": "4e8696ab",
   "metadata": {},
   "outputs": [],
   "source": [
    "data = np.load(\"/home/sullah/PycharmProjects/EDSR/Alphorn_Project/dataset_after_augmentation_256x256/healthy_data_after_augmentation_256x256.npy\", mmap_mode='r+')\n",
    "\n",
    "GT = np.load(\"/home/sullah/PycharmProjects/EDSR/Alphorn_Project/dataset_after_augmentation_256x256/GT_after_augmentation_256x256.npy\", mmap_mode='r+')\n"
   ]
  },
  {
   "cell_type": "code",
   "execution_count": 4,
   "id": "c1b768d3",
   "metadata": {},
   "outputs": [
    {
     "name": "stdout",
     "output_type": "stream",
     "text": [
      "(1900, 32, 256, 256, 1)\n",
      "(1900, 32, 256, 256, 1)\n"
     ]
    }
   ],
   "source": [
    "data = data.reshape((1900, 32, 256, 256, 1))\n",
    "print(data.shape)\n",
    "print(GT.shape)"
   ]
  },
  {
   "cell_type": "code",
   "execution_count": 5,
   "id": "9d652de8",
   "metadata": {},
   "outputs": [
    {
     "name": "stdout",
     "output_type": "stream",
     "text": [
      "(1900, 32, 256, 256, 2)\n"
     ]
    }
   ],
   "source": [
    "combined_inputs = np.concatenate([data, GT], axis=-1)\n",
    "print(combined_inputs.shape)"
   ]
  },
  {
   "cell_type": "code",
   "execution_count": 6,
   "id": "a5d109b5",
   "metadata": {},
   "outputs": [],
   "source": [
    "np.save('combined_inputs', combined_inputs)"
   ]
  },
  {
   "cell_type": "code",
   "execution_count": null,
   "id": "c9d8e626",
   "metadata": {},
   "outputs": [],
   "source": []
  }
 ],
 "metadata": {
  "kernelspec": {
   "display_name": "Python 3 (ipykernel)",
   "language": "python",
   "name": "python3"
  },
  "language_info": {
   "codemirror_mode": {
    "name": "ipython",
    "version": 3
   },
   "file_extension": ".py",
   "mimetype": "text/x-python",
   "name": "python",
   "nbconvert_exporter": "python",
   "pygments_lexer": "ipython3",
   "version": "3.7.11"
  }
 },
 "nbformat": 4,
 "nbformat_minor": 5
}
