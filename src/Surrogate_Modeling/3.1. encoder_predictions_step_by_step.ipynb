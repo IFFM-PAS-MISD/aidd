{
 "cells": [
  {
   "cell_type": "code",
   "execution_count": 1,
   "id": "cd792ced",
   "metadata": {},
   "outputs": [
    {
     "name": "stderr",
     "output_type": "stream",
     "text": [
      "2024-01-09 14:20:29.344367: I tensorflow/stream_executor/platform/default/dso_loader.cc:49] Successfully opened dynamic library libcudart.so.10.1\n"
     ]
    }
   ],
   "source": [
    "import numpy as np\n",
    "import cv2\n",
    "import tensorflow as tf\n",
    "import keras\n",
    "from tensorflow.python.distribute.mirrored_strategy import MirroredStrategy\n",
    "\n",
    "from tensorflow.keras.callbacks import EarlyStopping\n",
    "from tensorflow.keras.callbacks import ModelCheckpoint\n",
    "#from keras.utils import to_categorical\n",
    "from tensorflow.keras.models import Sequential, Model\n",
    "from tensorflow.keras.layers import (ConvLSTM2D, BatchNormalization, Convolution3D, Convolution2D, Conv2D, Dropout,\n",
    "                          TimeDistributed, MaxPooling2D, MaxPooling3D, UpSampling2D, UpSampling3D, Input,  AveragePooling3D)\n",
    "\n",
    "import matplotlib.pyplot as plt\n",
    "import matplotlib.ticker as mticker\n",
    "import os\n",
    "import gc"
   ]
  },
  {
   "cell_type": "code",
   "execution_count": 2,
   "id": "de8d4fee",
   "metadata": {},
   "outputs": [],
   "source": [
    "# os.environ['TF_XLA_FLAGS'] = '--tf_xla_enable_xla_devices'\n",
    "os.environ[\"CUDA_DEVICE_ORDER\"]=\"PCI_BUS_ID\"   # see issue #152\n",
    "os.environ['CUDA_VISIBLE_DEVICES'] = \"2\"\n",
    "# os.environ['TF_CPP_MIN_LOG_LEVEL'] = '2'\n",
    "# os.environ['TF_FORCE_GPU_ALLOW_GROWTH'] = 'true'"
   ]
  },
  {
   "cell_type": "code",
   "execution_count": 3,
   "id": "5e8cb29e",
   "metadata": {},
   "outputs": [],
   "source": [
    "import tensorflow.keras.backend as K"
   ]
  },
  {
   "cell_type": "code",
   "execution_count": 4,
   "id": "63a81085",
   "metadata": {},
   "outputs": [
    {
     "name": "stdout",
     "output_type": "stream",
     "text": [
      "(1900, 32, 256, 256, 1)\n"
     ]
    }
   ],
   "source": [
    "data = np.load(\"/home/sullah/PycharmProjects/EDSR/Alphorn_Project/dataset_after_augmentation_256x256/del_data_after_augmentation_256x256.npy\", mmap_mode='r+')\n",
    "print(data.shape)"
   ]
  },
  {
   "cell_type": "code",
   "execution_count": 5,
   "id": "34e7253d",
   "metadata": {},
   "outputs": [
    {
     "name": "stdout",
     "output_type": "stream",
     "text": [
      "(150, 32, 256, 256, 1)\n"
     ]
    }
   ],
   "source": [
    "# data1 = data[:250]\n",
    "# data2 = data[250:500]\n",
    "# data3 = data[500:750]\n",
    "# data4 = data[750:1000]\n",
    "# data5 = data[1000:1250]\n",
    "# data6 = data[1250:1500]\n",
    "# data7 = data[1500:1750]\n",
    "data8 = data[1750:]\n",
    "\n",
    "\n",
    "# print(data1.shape)\n",
    "# print(data2.shape)\n",
    "# print(data3.shape)\n",
    "# print(data4.shape)\n",
    "# print(data5.shape)\n",
    "# print(data6.shape)\n",
    "# print(data7.shape)\n",
    "print(data8.shape)\n",
    "\n",
    "#Just run the code for each datasize one by one, as for data1 first then for data2 and so on."
   ]
  },
  {
   "cell_type": "code",
   "execution_count": 6,
   "id": "b93679fc",
   "metadata": {},
   "outputs": [
    {
     "name": "stderr",
     "output_type": "stream",
     "text": [
      "2024-01-09 14:20:31.894216: I tensorflow/compiler/jit/xla_cpu_device.cc:41] Not creating XLA devices, tf_xla_enable_xla_devices not set\n",
      "2024-01-09 14:20:31.895451: I tensorflow/stream_executor/platform/default/dso_loader.cc:49] Successfully opened dynamic library libcuda.so.1\n",
      "2024-01-09 14:20:31.963477: I tensorflow/core/common_runtime/gpu/gpu_device.cc:1720] Found device 0 with properties: \n",
      "pciBusID: 0000:86:00.0 name: Tesla V100S-PCIE-32GB computeCapability: 7.0\n",
      "coreClock: 1.597GHz coreCount: 80 deviceMemorySize: 31.75GiB deviceMemoryBandwidth: 1.03TiB/s\n",
      "2024-01-09 14:20:31.963541: I tensorflow/stream_executor/platform/default/dso_loader.cc:49] Successfully opened dynamic library libcudart.so.10.1\n",
      "2024-01-09 14:20:31.965767: I tensorflow/stream_executor/platform/default/dso_loader.cc:49] Successfully opened dynamic library libcublas.so.10\n",
      "2024-01-09 14:20:31.965844: I tensorflow/stream_executor/platform/default/dso_loader.cc:49] Successfully opened dynamic library libcublasLt.so.10\n",
      "2024-01-09 14:20:31.967556: I tensorflow/stream_executor/platform/default/dso_loader.cc:49] Successfully opened dynamic library libcufft.so.10\n",
      "2024-01-09 14:20:31.967861: I tensorflow/stream_executor/platform/default/dso_loader.cc:49] Successfully opened dynamic library libcurand.so.10\n",
      "2024-01-09 14:20:31.969759: I tensorflow/stream_executor/platform/default/dso_loader.cc:49] Successfully opened dynamic library libcusolver.so.10\n",
      "2024-01-09 14:20:31.970926: I tensorflow/stream_executor/platform/default/dso_loader.cc:49] Successfully opened dynamic library libcusparse.so.10\n",
      "2024-01-09 14:20:31.975134: I tensorflow/stream_executor/platform/default/dso_loader.cc:49] Successfully opened dynamic library libcudnn.so.7\n",
      "2024-01-09 14:20:31.979012: I tensorflow/core/common_runtime/gpu/gpu_device.cc:1862] Adding visible gpu devices: 0\n",
      "2024-01-09 14:20:31.979870: I tensorflow/core/platform/cpu_feature_guard.cc:142] This TensorFlow binary is optimized with oneAPI Deep Neural Network Library (oneDNN) to use the following CPU instructions in performance-critical operations:  SSE4.1 SSE4.2 AVX AVX2 AVX512F FMA\n",
      "To enable them in other operations, rebuild TensorFlow with the appropriate compiler flags.\n",
      "2024-01-09 14:20:31.986574: I tensorflow/core/common_runtime/gpu/gpu_device.cc:1720] Found device 0 with properties: \n",
      "pciBusID: 0000:86:00.0 name: Tesla V100S-PCIE-32GB computeCapability: 7.0\n",
      "coreClock: 1.597GHz coreCount: 80 deviceMemorySize: 31.75GiB deviceMemoryBandwidth: 1.03TiB/s\n",
      "2024-01-09 14:20:31.986671: I tensorflow/stream_executor/platform/default/dso_loader.cc:49] Successfully opened dynamic library libcudart.so.10.1\n",
      "2024-01-09 14:20:31.986729: I tensorflow/stream_executor/platform/default/dso_loader.cc:49] Successfully opened dynamic library libcublas.so.10\n",
      "2024-01-09 14:20:31.986757: I tensorflow/stream_executor/platform/default/dso_loader.cc:49] Successfully opened dynamic library libcublasLt.so.10\n",
      "2024-01-09 14:20:31.986785: I tensorflow/stream_executor/platform/default/dso_loader.cc:49] Successfully opened dynamic library libcufft.so.10\n",
      "2024-01-09 14:20:31.986812: I tensorflow/stream_executor/platform/default/dso_loader.cc:49] Successfully opened dynamic library libcurand.so.10\n",
      "2024-01-09 14:20:31.986839: I tensorflow/stream_executor/platform/default/dso_loader.cc:49] Successfully opened dynamic library libcusolver.so.10\n",
      "2024-01-09 14:20:31.986866: I tensorflow/stream_executor/platform/default/dso_loader.cc:49] Successfully opened dynamic library libcusparse.so.10\n",
      "2024-01-09 14:20:31.986893: I tensorflow/stream_executor/platform/default/dso_loader.cc:49] Successfully opened dynamic library libcudnn.so.7\n",
      "2024-01-09 14:20:31.993061: I tensorflow/core/common_runtime/gpu/gpu_device.cc:1862] Adding visible gpu devices: 0\n",
      "2024-01-09 14:20:31.993117: I tensorflow/stream_executor/platform/default/dso_loader.cc:49] Successfully opened dynamic library libcudart.so.10.1\n",
      "2024-01-09 14:20:32.749860: I tensorflow/core/common_runtime/gpu/gpu_device.cc:1261] Device interconnect StreamExecutor with strength 1 edge matrix:\n",
      "2024-01-09 14:20:32.749922: I tensorflow/core/common_runtime/gpu/gpu_device.cc:1267]      0 \n",
      "2024-01-09 14:20:32.749930: I tensorflow/core/common_runtime/gpu/gpu_device.cc:1280] 0:   N \n",
      "2024-01-09 14:20:32.755815: I tensorflow/core/common_runtime/gpu/gpu_device.cc:1406] Created TensorFlow device (/job:localhost/replica:0/task:0/device:GPU:0 with 30130 MB memory) -> physical GPU (device: 0, name: Tesla V100S-PCIE-32GB, pci bus id: 0000:86:00.0, compute capability: 7.0)\n",
      "2024-01-09 14:20:32.756200: I tensorflow/compiler/jit/xla_gpu_device.cc:99] Not creating XLA devices, tf_xla_enable_xla_devices not set\n"
     ]
    }
   ],
   "source": [
    "# load the saved model\n",
    "model_encoder = tf.keras.models.load_model('ConvLSTM_with_Pooling_with_MSE_autoencoder_decoder-encoder_fully_ConvLSTM_mse.h5', compile = False)\n",
    "model_decoder = tf.keras.models.load_model('ConvLSTM_with_Pooling_with_MSE_autoencoder_decoder-decoder_fully_ConvLSTM_mse.h5', compile = False)"
   ]
  },
  {
   "cell_type": "code",
   "execution_count": 7,
   "id": "d947d6c1",
   "metadata": {},
   "outputs": [
    {
     "name": "stdout",
     "output_type": "stream",
     "text": [
      "Model: \"encoder\"\n",
      "_________________________________________________________________\n",
      "Layer (type)                 Output Shape              Param #   \n",
      "=================================================================\n",
      "input_1 (InputLayer)         [(None, 32, 256, 256, 1)] 0         \n",
      "_________________________________________________________________\n",
      "conv_lst_m2d (ConvLSTM2D)    (None, 32, 256, 256, 8)   2624      \n",
      "_________________________________________________________________\n",
      "max_pooling3d (MaxPooling3D) (None, 32, 128, 128, 8)   0         \n",
      "_________________________________________________________________\n",
      "batch_normalization (BatchNo (None, 32, 128, 128, 8)   32        \n",
      "_________________________________________________________________\n",
      "conv_lst_m2d_1 (ConvLSTM2D)  (None, 32, 128, 128, 32)  46208     \n",
      "_________________________________________________________________\n",
      "max_pooling3d_1 (MaxPooling3 (None, 32, 64, 64, 32)    0         \n",
      "_________________________________________________________________\n",
      "batch_normalization_1 (Batch (None, 32, 64, 64, 32)    128       \n",
      "_________________________________________________________________\n",
      "conv_lst_m2d_2 (ConvLSTM2D)  (None, 32, 64, 64, 256)   2655232   \n",
      "_________________________________________________________________\n",
      "max_pooling3d_2 (MaxPooling3 (None, 32, 32, 32, 256)   0         \n",
      "_________________________________________________________________\n",
      "Latent_Space (BatchNormaliza (None, 32, 32, 32, 256)   1024      \n",
      "=================================================================\n",
      "Total params: 2,705,248\n",
      "Trainable params: 2,704,656\n",
      "Non-trainable params: 592\n",
      "_________________________________________________________________\n",
      "Model: \"decoder\"\n",
      "_________________________________________________________________\n",
      "Layer (type)                 Output Shape              Param #   \n",
      "=================================================================\n",
      "input_2 (InputLayer)         [(None, 32, 32, 32, 256)] 0         \n",
      "_________________________________________________________________\n",
      "conv_lst_m2d_3 (ConvLSTM2D)  (None, 32, 32, 32, 256)   4719616   \n",
      "_________________________________________________________________\n",
      "up_sampling3d (UpSampling3D) (None, 32, 64, 64, 256)   0         \n",
      "_________________________________________________________________\n",
      "batch_normalization_2 (Batch (None, 32, 64, 64, 256)   1024      \n",
      "_________________________________________________________________\n",
      "conv_lst_m2d_4 (ConvLSTM2D)  (None, 32, 64, 64, 32)    331904    \n",
      "_________________________________________________________________\n",
      "up_sampling3d_1 (UpSampling3 (None, 32, 128, 128, 32)  0         \n",
      "_________________________________________________________________\n",
      "batch_normalization_3 (Batch (None, 32, 128, 128, 32)  128       \n",
      "_________________________________________________________________\n",
      "conv_lst_m2d_5 (ConvLSTM2D)  (None, 32, 128, 128, 8)   11552     \n",
      "_________________________________________________________________\n",
      "up_sampling3d_2 (UpSampling3 (None, 32, 256, 256, 8)   0         \n",
      "_________________________________________________________________\n",
      "batch_normalization_4 (Batch (None, 32, 256, 256, 8)   32        \n",
      "_________________________________________________________________\n",
      "conv2d (Conv2D)              (None, 32, 256, 256, 1)   73        \n",
      "=================================================================\n",
      "Total params: 5,064,329\n",
      "Trainable params: 5,063,737\n",
      "Non-trainable params: 592\n",
      "_________________________________________________________________\n"
     ]
    }
   ],
   "source": [
    "model_encoder.summary()\n",
    "model_decoder.summary()"
   ]
  },
  {
   "cell_type": "code",
   "execution_count": 8,
   "id": "e9307f10",
   "metadata": {},
   "outputs": [
    {
     "name": "stderr",
     "output_type": "stream",
     "text": [
      "2024-01-09 14:20:37.338744: I tensorflow/compiler/mlir/mlir_graph_optimization_pass.cc:116] None of the MLIR optimization passes are enabled (registered 2)\n",
      "2024-01-09 14:20:37.357351: I tensorflow/core/platform/profile_utils/cpu_utils.cc:112] CPU Frequency: 2100000000 Hz\n",
      "2024-01-09 14:20:37.961304: E tensorflow/core/grappler/optimizers/meta_optimizer.cc:592] layout failed: Invalid argument: MutableGraphView::SortTopologically error: detected edge(s) creating cycle(s) {'encoder/conv_lst_m2d_2/while/body/_97/encoder/conv_lst_m2d_2/while/Tanh_1' -> 'encoder/conv_lst_m2d_2/while/body/_97/encoder/conv_lst_m2d_2/while/mul_5', 'Func/encoder/conv_lst_m2d_2/while/body/_97/input/_240' -> 'encoder/conv_lst_m2d_2/while/body/_97/encoder/conv_lst_m2d_2/while/mul_2', 'encoder/conv_lst_m2d_2/while/body/_97/encoder/conv_lst_m2d_2/while/convolution_7' -> 'encoder/conv_lst_m2d_2/while/body/_97/encoder/conv_lst_m2d_2/while/add_6', 'encoder/conv_lst_m2d_1/while/body/_49/encoder/conv_lst_m2d_1/while/mul_2' -> 'encoder/conv_lst_m2d_1/while/body/_49/encoder/conv_lst_m2d_1/while/add_5', 'encoder/conv_lst_m2d_1/while/body/_49/encoder/conv_lst_m2d_1/while/convolution_6' -> 'encoder/conv_lst_m2d_1/while/body/_49/encoder/conv_lst_m2d_1/while/add_4', 'encoder/conv_lst_m2d_1/while/body/_49/encoder/conv_lst_m2d_1/while/clip_by_value' -> 'encoder/conv_lst_m2d_1/while/body/_49/encoder/conv_lst_m2d_1/while/mul_3', 'encoder/conv_lst_m2d_1/while/body/_49/encoder/conv_lst_m2d_1/while/clip_by_value_2' -> 'encoder/conv_lst_m2d_1/while/body/_49/encoder/conv_lst_m2d_1/while/mul_5', 'encoder/conv_lst_m2d/while/body/_1/encoder/conv_lst_m2d/while/mul_5' -> 'encoder/conv_lst_m2d/while/body/_1/encoder/conv_lst_m2d/while/Identity_4', 'encoder/conv_lst_m2d/while/body/_1/encoder/conv_lst_m2d/while/mul_2' -> 'encoder/conv_lst_m2d/while/body/_1/encoder/conv_lst_m2d/while/add_5'}.\n",
      "2024-01-09 14:20:38.185009: I tensorflow/stream_executor/platform/default/dso_loader.cc:49] Successfully opened dynamic library libcudnn.so.7\n",
      "2024-01-09 14:20:39.884433: I tensorflow/stream_executor/platform/default/dso_loader.cc:49] Successfully opened dynamic library libcublas.so.10\n"
     ]
    }
   ],
   "source": [
    "# predictions1 = model_encoder.predict(data1, batch_size=1)\n",
    "# predictions2 = model_encoder.predict(data2, batch_size=1)\n",
    "# predictions3 = model_encoder.predict(data3, batch_size=1)\n",
    "# predictions4 = model_encoder.predict(data4, batch_size=1)\n",
    "# predictions5 = model_encoder.predict(data5, batch_size=1)\n",
    "# predictions6 = model_encoder.predict(data6, batch_size=1)\n",
    "# predictions7 = model_encoder.predict(data7, batch_size=1)\n",
    "predictions8 = model_encoder.predict(data8, batch_size=1)"
   ]
  },
  {
   "cell_type": "code",
   "execution_count": 9,
   "id": "67a0d7a6",
   "metadata": {},
   "outputs": [
    {
     "name": "stdout",
     "output_type": "stream",
     "text": [
      "(150, 32, 32, 32, 256)\n"
     ]
    }
   ],
   "source": [
    "print(predictions8.shape)"
   ]
  },
  {
   "cell_type": "code",
   "execution_count": 10,
   "id": "3b6ea0ea",
   "metadata": {},
   "outputs": [],
   "source": [
    "np.save('encoder_predictions8', predictions8)"
   ]
  },
  {
   "cell_type": "code",
   "execution_count": null,
   "id": "1671ee99",
   "metadata": {},
   "outputs": [],
   "source": []
  }
 ],
 "metadata": {
  "kernelspec": {
   "display_name": "Python 3 (ipykernel)",
   "language": "python",
   "name": "python3"
  },
  "language_info": {
   "codemirror_mode": {
    "name": "ipython",
    "version": 3
   },
   "file_extension": ".py",
   "mimetype": "text/x-python",
   "name": "python",
   "nbconvert_exporter": "python",
   "pygments_lexer": "ipython3",
   "version": "3.7.11"
  }
 },
 "nbformat": 4,
 "nbformat_minor": 5
}
