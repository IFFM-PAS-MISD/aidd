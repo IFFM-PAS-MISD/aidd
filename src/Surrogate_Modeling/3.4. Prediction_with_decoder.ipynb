{
 "cells": [
  {
   "cell_type": "code",
   "execution_count": null,
   "id": "cd792ced",
   "metadata": {},
   "outputs": [],
   "source": [
    "import numpy as np\n",
    "import cv2\n",
    "import tensorflow as tf\n",
    "import keras\n",
    "from tensorflow.python.distribute.mirrored_strategy import MirroredStrategy\n",
    "\n",
    "from tensorflow.keras.callbacks import EarlyStopping\n",
    "from tensorflow.keras.callbacks import ModelCheckpoint\n",
    "#from keras.utils import to_categorical\n",
    "from tensorflow.keras.models import Sequential, Model\n",
    "from tensorflow.keras.layers import (ConvLSTM2D, BatchNormalization, Convolution3D, Convolution2D, Conv2D, Dropout,\n",
    "                          TimeDistributed, MaxPooling2D, MaxPooling3D, UpSampling2D, UpSampling3D, Input,  AveragePooling3D)\n",
    "\n",
    "import matplotlib.pyplot as plt\n",
    "import matplotlib.ticker as mticker\n",
    "import os\n",
    "import gc"
   ]
  },
  {
   "cell_type": "code",
   "execution_count": null,
   "id": "de8d4fee",
   "metadata": {},
   "outputs": [],
   "source": [
    "# os.environ['TF_XLA_FLAGS'] = '--tf_xla_enable_xla_devices'\n",
    "os.environ[\"CUDA_DEVICE_ORDER\"]=\"PCI_BUS_ID\"   # see issue #152\n",
    "os.environ['CUDA_VISIBLE_DEVICES'] = \"1\"\n",
    "# os.environ['TF_CPP_MIN_LOG_LEVEL'] = '2'\n",
    "# os.environ['TF_FORCE_GPU_ALLOW_GROWTH'] = 'true'"
   ]
  },
  {
   "cell_type": "code",
   "execution_count": null,
   "id": "5e8cb29e",
   "metadata": {},
   "outputs": [],
   "source": [
    "import tensorflow.keras.backend as K"
   ]
  },
  {
   "cell_type": "code",
   "execution_count": null,
   "id": "63a81085",
   "metadata": {},
   "outputs": [],
   "source": [
    "data = np.load(\"/home/sullah/PycharmProjects/EDSR/Alphorn_Project/for_professor_method_after_augmentation_256x256/combined_inputs.npy\", mmap_mode='r+')\n",
    "sample=data[1899:1900]"
   ]
  },
  {
   "cell_type": "code",
   "execution_count": null,
   "id": "b93679fc",
   "metadata": {},
   "outputs": [],
   "source": [
    "# load the saved model\n",
    "model_encoder = tf.keras.models.load_model('Model_2_encoder_mapping_GT_imgs_Latenet_spaces.h5', compile = False)\n",
    "model_decoder = tf.keras.models.load_model('ConvLSTM_with_Pooling_with_MSE_autoencoder_decoder-decoder_fully_ConvLSTM.h5', compile = False)"
   ]
  },
  {
   "cell_type": "code",
   "execution_count": null,
   "id": "d947d6c1",
   "metadata": {},
   "outputs": [],
   "source": [
    "model_encoder.summary()\n",
    "model_decoder.summary()"
   ]
  },
  {
   "cell_type": "code",
   "execution_count": null,
   "id": "da625dbf",
   "metadata": {},
   "outputs": [],
   "source": [
    "predictions = model_decoder(model_encoder.predict(sample))"
   ]
  },
  {
   "cell_type": "code",
   "execution_count": null,
   "id": "5adc4c63",
   "metadata": {},
   "outputs": [],
   "source": [
    "print(predictions.shape)\n"
   ]
  },
  {
   "cell_type": "code",
   "execution_count": null,
   "id": "3b6ea0ea",
   "metadata": {
    "scrolled": true
   },
   "outputs": [],
   "source": [
    "for i in range(32):\n",
    "    plt.imshow(predictions[0][i])\n",
    "    plt.show"
   ]
  },
  {
   "cell_type": "code",
   "execution_count": null,
   "id": "879f809d",
   "metadata": {},
   "outputs": [],
   "source": [
    "plt.close('all')"
   ]
  },
  {
   "cell_type": "code",
   "execution_count": null,
   "id": "b320dce0",
   "metadata": {},
   "outputs": [],
   "source": []
  }
 ],
 "metadata": {
  "kernelspec": {
   "display_name": "Python 3 (ipykernel)",
   "language": "python",
   "name": "python3"
  },
  "language_info": {
   "codemirror_mode": {
    "name": "ipython",
    "version": 3
   },
   "file_extension": ".py",
   "mimetype": "text/x-python",
   "name": "python",
   "nbconvert_exporter": "python",
   "pygments_lexer": "ipython3",
   "version": "3.7.11"
  }
 },
 "nbformat": 4,
 "nbformat_minor": 5
}
