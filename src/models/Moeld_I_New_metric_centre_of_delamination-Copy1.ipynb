{
 "cells": [
  {
   "cell_type": "code",
   "execution_count": 1,
   "id": "982b7616-4d08-4a17-8418-24eb9cb943dd",
   "metadata": {},
   "outputs": [],
   "source": [
    "import os\n",
    "from IPython.display import Image, display\n",
    "import PIL\n",
    "from PIL import ImageOps\n",
    "import re\n",
    "import numpy as np\n",
    "import random\n",
    "import matplotlib.pyplot as plt\n",
    "import matplotlib\n",
    "import cv2\n",
    "from skimage.metrics import structural_similarity as ssim\n",
    "from skimage.metrics import mean_squared_error\n",
    "import imutils"
   ]
  },
  {
   "cell_type": "markdown",
   "id": "ed594b0f-a7be-4a11-a1d3-43708b7acd63",
   "metadata": {},
   "source": [
    "# Saeed MODEL _ Numerical cases"
   ]
  },
  {
   "cell_type": "code",
   "execution_count": 16,
   "id": "e8189f13-88ab-4424-bba7-d0bd9ab0c421",
   "metadata": {
    "tags": []
   },
   "outputs": [],
   "source": [
    "centre_sim = []\n",
    "pred_area_ = []\n",
    "gt_area_ = []\n",
    "error = []\n",
    "realAreaPerPixel = 1\n",
    "os.chdir('/home/aijjeh/Desktop/Phd_Projects/Sequence_prediction/Full_wavefield_frames_time_series_project/Saee_numerical_outputs_Model_1/Output_Numerical_Data')\n",
    "for i in range(95):\n",
    "    data1 = cv2.imread('pred_%d.png' % i, 0)\n",
    "    pred = cv2.resize(data1, (500,500))\n",
    "    pred = pred/np.max(pred)\n",
    "    pred = pred*255\n",
    "    pred = (pred> 128) * pred\n",
    "        \n",
    "    data2 = cv2.imread('GT_%d.png' % i, 0)\n",
    "    gt = cv2.resize(data2, (500,500))\n",
    "    gt = gt/np.max(gt)\n",
    "    gt = gt*255\n",
    "    \n",
    "    pred_x_y = np.where(pred>(np.max(pred)/2))    \n",
    "    pred_coordinates = np.transpose(np.array(pred_x_y))\n",
    "    x = [p[1] for p in pred_coordinates]\n",
    "    y = [p[0] for p in pred_coordinates]\n",
    "    pred_centroid = (sum(x) / len(pred_coordinates), sum(y) / len(pred_coordinates))\n",
    "    \n",
    "    gt_x_y = np.where(gt>(np.max(gt)-55))    \n",
    "    gt_coordinates = np.transpose(np.array(gt_x_y))\n",
    "    x = [p[1] for p in gt_coordinates]\n",
    "    y = [p[0] for p in gt_coordinates]\n",
    "    gt_centroid = (sum(x) / len(gt_coordinates), sum(y) / len(gt_coordinates))\n",
    "    similarity = (pred_centroid[0]*gt_centroid[0] + pred_centroid[1]*gt_centroid[1])/ ((pred_centroid[0]**2+pred_centroid[1]**2)**.5 * (gt_centroid[0]**2+gt_centroid[1]**2)**.5)\n",
    "    centre_sim.append(similarity)\n",
    "    \n",
    "    pred_area_ones = np.where(pred>128)\n",
    "    pred_area = len(pred_area_ones[0])\n",
    "    \n",
    "    gt_area_ones = np.where(gt>128)\n",
    "    gt_area = len(gt_area_ones[0])\n",
    "    \n",
    "    percent = np.abs(gt_area-pred_area) / (gt_area)\n",
    "    pred_area_.append(pred_area)\n",
    "    gt_area_.append(gt_area)\n",
    "    error.append(percent)    "
   ]
  },
  {
   "cell_type": "code",
   "execution_count": 17,
   "id": "d05c4097-eb17-4a16-9f0a-e5c7dfce26d3",
   "metadata": {},
   "outputs": [
    {
     "name": "stdout",
     "output_type": "stream",
     "text": [
      "0.9999992425840311\n"
     ]
    }
   ],
   "source": [
    "SIMM = sum(centre_sim)/len(centre_sim)\n",
    "print(SIMM)"
   ]
  },
  {
   "cell_type": "code",
   "execution_count": 18,
   "id": "e8c8621a-21c9-40e5-8650-e31a23deae9d",
   "metadata": {},
   "outputs": [
    {
     "name": "stdout",
     "output_type": "stream",
     "text": [
      "mean size error = 4.570672218541176 %\n"
     ]
    }
   ],
   "source": [
    "err = sum(error)/len(error)\n",
    "print('mean size error =', err*100,\"%\")"
   ]
  },
  {
   "cell_type": "markdown",
   "id": "d22f45d1-31d6-4cde-9340-88256f1bceb9",
   "metadata": {},
   "source": [
    "# Saeed MODEL _ Experimental cases CFRP_teflon_3o_375_375p_50kHz_5HC  "
   ]
  },
  {
   "cell_type": "code",
   "execution_count": 19,
   "id": "3f7e2d89-12a9-4323-afb6-127d4ee7fa61",
   "metadata": {
    "tags": []
   },
   "outputs": [
    {
     "data": {
      "image/png": "[encoded data removed]",
      "text/plain": [
       "<Figure size 944.882x472.441 with 2 Axes>"
      ]
     },
     "metadata": {
      "needs_background": "light"
     },
     "output_type": "display_data"
    },
    {
     "name": "stdout",
     "output_type": "stream",
     "text": [
      "Pred area  319\n",
      "GT area  225\n",
      "(GT_area - Pred_area)/GT_area =  41.77777777777778 %\n"
     ]
    }
   ],
   "source": [
    "centre_sim = []\n",
    "pred_area_ = []\n",
    "gt_area_ = []\n",
    "error = []\n",
    "realAreaPerPixel = 1\n",
    "\n",
    "os.chdir('/home/aijjeh/Desktop/Phd_Projects/Sequence_prediction/Full_wavefield_frames_time_series_project/AE_exp_results_frames_24_512_512/CFRP_teflon_3o_375_375p_50kHz_5HC_x12_15Vpp/RMS_iou')\n",
    "data1 = cv2.imread('RMS_CFRP_teflon_3o_375_375p_50kHz_5HC_saeed_cmap_viridis_greyscale_THRESHOLDED.png', 0)\n",
    "pred = cv2.resize(data1, (500,500))\n",
    "pred = pred / np.max(pred)\n",
    "pred = pred * 255\n",
    "pred = pred.astype(np.uint8)\n",
    "\n",
    "os.chdir('/aijjeh_odroid_sensors/aidd/data/interim/exp')\n",
    "data2 = cv2.imread('label_CFRP_teflon_3o_375_375p_50kHz_5HC_x12_15Vpp.png',0)\n",
    "gt = cv2.resize(data2, (500,500))\n",
    "gt = gt / np.max(gt)\n",
    "gt = gt * 255\n",
    "gt = gt.astype(np.uint8)\n",
    "\n",
    "\n",
    "############################################################################################################\n",
    "plt.figure(figsize=(4 / 2.54, 2 / 2.54), dpi=600)\n",
    "############################################################################################################\n",
    "plt.subplot(1,2,1)\n",
    "plt.imshow(pred)\n",
    "plt.axis('off')\n",
    "\n",
    "plt.subplot(1,2,2)\n",
    "plt.imshow(gt)\n",
    "plt.axis('off')\n",
    "\n",
    "plt.show()\n",
    "plt.close('all')\n",
    "\n",
    "pred_x_y = np.where(pred>(np.max(pred)/2))    \n",
    "pred_coordinates = np.transpose(np.array(pred_x_y))\n",
    "x = [p[1] for p in pred_coordinates]\n",
    "y = [p[0] for p in pred_coordinates]\n",
    "pred_centroid = (sum(x) / len(pred_coordinates), sum(y) / len(pred_coordinates))\n",
    "\n",
    "\n",
    "gt_x_y = np.where(gt>(np.max(gt)-55))    \n",
    "gt_coordinates = np.transpose(np.array(gt_x_y))\n",
    "gt_x = [p[1] for p in gt_coordinates]\n",
    "gt_y = [p[0] for p in gt_coordinates]\n",
    "gt_centroid = (sum(gt_x) / len(gt_coordinates), sum(gt_y) / len(gt_coordinates))\n",
    "centre_= (pred_centroid[0]*gt_centroid[0] + pred_centroid[1]*gt_centroid[1])/ ((pred_centroid[0]**2+pred_centroid[1]**2)**.5 * (gt_centroid[0]**2+gt_centroid[1]**2)**.5)\n",
    "centre_sim.append(centre_)\n",
    "\n",
    "\n",
    "\n",
    "pred_area_ones = np.where(pred>128)\n",
    "pred_area = len(pred_area_ones[0])\n",
    "\n",
    "gt_area_ones = np.where(gt>128)\n",
    "gt_area = len(gt_area_ones[0])\n",
    "\n",
    "percent = np.abs(gt_area-pred_area) / (gt_area)\n",
    "pred_area_.append(pred_area)\n",
    "gt_area_.append(gt_area)\n",
    "error.append(percent)\n",
    "print('Pred area ', pred_area)\n",
    "print('GT area ', gt_area)\n",
    "print('(GT_area - Pred_area)/GT_area = ',percent * 100,'%')"
   ]
  },
  {
   "cell_type": "code",
   "execution_count": 20,
   "id": "188de34f-92b0-4c7b-b92c-e547143a4625",
   "metadata": {},
   "outputs": [
    {
     "name": "stdout",
     "output_type": "stream",
     "text": [
      "372 372\n",
      "249 249\n"
     ]
    }
   ],
   "source": [
    "mask = np.zeros((500,500), dtype= np.uint8)\n",
    "retval, thresh_gray = cv2.threshold(pred, thresh=128, maxval=255, type=cv2.THRESH_BINARY_INV)\n",
    "contours = cv2.findContours(thresh_gray.copy(),  cv2.RETR_LIST, cv2.CHAIN_APPROX_SIMPLE)\n",
    "contours = imutils.grab_contours(contours)\n",
    "\n",
    "for c in contours:\n",
    "    M = cv2.moments(c)\n",
    "    cX = int(M[\"m10\"] / M[\"m00\"])\n",
    "    cY = int(M[\"m01\"] / M[\"m00\"])\n",
    "    print(cX, cY)"
   ]
  },
  {
   "cell_type": "code",
   "execution_count": 21,
   "id": "5370d909-1b83-4e3c-ae90-537c30278eb4",
   "metadata": {},
   "outputs": [
    {
     "name": "stdout",
     "output_type": "stream",
     "text": [
      "368 370\n",
      "249 249\n"
     ]
    }
   ],
   "source": [
    "mask = np.zeros((500,500), dtype= np.uint8)\n",
    "retval, thresh_gray = cv2.threshold(gt, thresh=128, maxval=255, type=cv2.THRESH_BINARY_INV)\n",
    "contours = cv2.findContours(thresh_gray.copy(),  cv2.RETR_LIST, cv2.CHAIN_APPROX_SIMPLE)\n",
    "contours = imutils.grab_contours(contours)\n",
    "\n",
    "for c in contours:\n",
    "    M = cv2.moments(c)\n",
    "    cX = int(M[\"m10\"] / M[\"m00\"])\n",
    "    cY = int(M[\"m01\"] / M[\"m00\"])\n",
    "    print(cX, cY)"
   ]
  },
  {
   "cell_type": "code",
   "execution_count": 22,
   "id": "febdee1f-7879-4cad-95aa-f4da1ab5237b",
   "metadata": {},
   "outputs": [
    {
     "name": "stdout",
     "output_type": "stream",
     "text": [
      "center sim for a single delamination case 0.9999963278967844\n"
     ]
    }
   ],
   "source": [
    "pred_centre = [372, 372]\n",
    "gt_center = [368, 370]\n",
    "\n",
    "centre_sim = (pred_centre[0] * gt_center[0] + pred_centre[1] * gt_center[1]) / ((pred_centre[0]**2 + pred_centre[1]**2)**.5 * (gt_center[0]**2+gt_center[1]**2)**.5)\n",
    "print(\"center sim for a single delamination case\", centre_sim)"
   ]
  },
  {
   "cell_type": "markdown",
   "id": "398771af-1fe4-4b46-893a-72f36058b7cd",
   "metadata": {},
   "source": [
    "# Saeed Model _Experimental cases L3_S4_B_333x333p_50kHz_5HC"
   ]
  },
  {
   "cell_type": "code",
   "execution_count": 23,
   "id": "8762ec50-53ee-4832-8ea9-bd5d7c595aab",
   "metadata": {
    "tags": []
   },
   "outputs": [
    {
     "data": {
      "image/png": "[encoded data removed]",
      "text/plain": [
       "<Figure size 944.882x472.441 with 2 Axes>"
      ]
     },
     "metadata": {
      "needs_background": "light"
     },
     "output_type": "display_data"
    },
    {
     "name": "stdout",
     "output_type": "stream",
     "text": [
      "Pred area  97\n",
      "GT area  471\n",
      "(GT_area - Pred_area)/GT_area =  79.40552016985139 %\n"
     ]
    }
   ],
   "source": [
    "centre_sim = []\n",
    "os.chdir('/home/aijjeh/Desktop/Phd_Projects/Sequence_prediction/Full_wavefield_frames_time_series_project/AE_exp_results_frames_24_512_512/CFRP_teflon_3o_375_375p_50kHz_5HC_x12_15Vpp/RMS_iou')\n",
    "data1 = cv2.imread('RMS_L3_S4_B_333x333p_50kHz_5HC_saeed_cmap_viridis_greyscale_THRESHOLDED.png', 0)\n",
    "pred = cv2.resize(data1, (500,500))\n",
    "pred = pred/ np.max(pred)\n",
    "pred = pred * 255\n",
    "pred = pred.astype(np.uint8)                   \n",
    "\n",
    "os.chdir('/aijjeh_odroid_sensors/aidd/data/interim/exp/new_exp')\n",
    "data2 = cv2.imread('label_L3_S4_B_333x333p_100kHz_10HC_14Vpp_x20_pzt.png',0)\n",
    "gt = cv2.resize(data2, (500,500))\n",
    "gt = gt / np.max(gt)\n",
    "gt = gt * 255\n",
    "gt = gt.astype(np.uint8)\n",
    "\n",
    "############################################################################################################\n",
    "plt.figure(figsize=(4 / 2.54, 2 / 2.54), dpi=600)\n",
    "############################################################################################################\n",
    "plt.subplot(1,2,1)\n",
    "plt.imshow(gt)\n",
    "plt.axis('off')\n",
    "\n",
    "plt.subplot(1,2,2)\n",
    "plt.imshow(pred)\n",
    "plt.axis('off')\n",
    "plt.show()\n",
    "\n",
    "pred_x_y = np.where(pred>(np.max(pred)/2))    \n",
    "pred_coordinates = np.transpose(np.array(pred_x_y))\n",
    "x = [p[1] for p in pred_coordinates]\n",
    "y = [p[0] for p in pred_coordinates]\n",
    "pred_centroid = (sum(x) / len(pred_coordinates), sum(y) / len(pred_coordinates))\n",
    "\n",
    "gt_x_y = np.where(gt>(np.max(gt)-55))    \n",
    "gt_coordinates = np.transpose(np.array(gt_x_y))\n",
    "x = [p[1] for p in gt_coordinates]\n",
    "y = [p[0] for p in gt_coordinates]\n",
    "gt_centroid = (sum(x) / len(gt_coordinates), sum(y) / len(gt_coordinates))\n",
    "\n",
    "centre_sim.append((pred_centroid[0]*gt_centroid[0] + pred_centroid[1]*gt_centroid[1])/ ((pred_centroid[0]**2+pred_centroid[1]**2)**.5 * (gt_centroid[0]**2+gt_centroid[1]**2)**.5))\n",
    "\n",
    "pred_area_ones = np.where(pred>=128)\n",
    "pred_area = len(pred_area_ones[0])\n",
    "\n",
    "gt_area_ones = np.where(gt>=128)\n",
    "gt_area = len(gt_area_ones[0])\n",
    "\n",
    "percent = np.abs(gt_area-pred_area) / (gt_area)\n",
    "pred_area_.append(pred_area)\n",
    "gt_area_.append(gt_area)\n",
    "error.append(percent)\n",
    "print('Pred area ', pred_area)\n",
    "print('GT area ', gt_area)\n",
    "print('(GT_area - Pred_area)/GT_area = ',percent * 100,'%')"
   ]
  },
  {
   "cell_type": "code",
   "execution_count": 24,
   "id": "fc519f09-ad4e-4d0e-8ea6-073ae5983701",
   "metadata": {},
   "outputs": [
    {
     "name": "stdout",
     "output_type": "stream",
     "text": [
      "357 353\n",
      "97 242\n",
      "248 90\n",
      "249 249\n"
     ]
    }
   ],
   "source": [
    "mask = np.zeros((500,500), dtype= np.uint8)\n",
    "retval, thresh_gray = cv2.threshold(pred, thresh=128, maxval=255, type=cv2.THRESH_BINARY_INV)\n",
    "contours = cv2.findContours(thresh_gray.copy(),  cv2.RETR_LIST, cv2.CHAIN_APPROX_SIMPLE)\n",
    "contours = imutils.grab_contours(contours)\n",
    "\n",
    "for c in contours:\n",
    "    M = cv2.moments(c)\n",
    "    cX = int(M[\"m10\"] / M[\"m00\"])\n",
    "    cY = int(M[\"m01\"] / M[\"m00\"])\n",
    "    print(cX, cY)"
   ]
  },
  {
   "cell_type": "code",
   "execution_count": 25,
   "id": "c4a34497-8695-4016-9717-9c00f6c036ec",
   "metadata": {},
   "outputs": [
    {
     "name": "stdout",
     "output_type": "stream",
     "text": [
      "355 355\n",
      "99 249\n",
      "249 99\n",
      "249 249\n"
     ]
    }
   ],
   "source": [
    "mask = np.zeros((500,500), dtype= np.uint8)\n",
    "retval, thresh_gray = cv2.threshold(gt, thresh=128, maxval=255, type=cv2.THRESH_BINARY_INV)\n",
    "contours = cv2.findContours(thresh_gray.copy(),  cv2.RETR_LIST, cv2.CHAIN_APPROX_SIMPLE)\n",
    "contours = imutils.grab_contours(contours)\n",
    "\n",
    "for c in contours:\n",
    "    M = cv2.moments(c)\n",
    "    cX = int(M[\"m10\"] / M[\"m00\"])\n",
    "    cY = int(M[\"m01\"] / M[\"m00\"])\n",
    "    print(cX, cY)"
   ]
  },
  {
   "cell_type": "code",
   "execution_count": 26,
   "id": "5885cb1e-0316-4d3e-a9d1-0965337dc281",
   "metadata": {},
   "outputs": [
    {
     "name": "stdout",
     "output_type": "stream",
     "text": [
      "center sim for 1st delamination 0.9999841305106791\n"
     ]
    }
   ],
   "source": [
    "pred_centre = [357, 353]\n",
    "gt_center = [355, 355]\n",
    "\n",
    "centre_sim_1 = (pred_centre[0] * gt_center[0] + pred_centre[1] * gt_center[1]) / ((pred_centre[0]**2 + pred_centre[1]**2)**.5 * (gt_center[0]**2+gt_center[1]**2)**.5)\n",
    "print(\"center sim for 1st delamination\", centre_sim_1)"
   ]
  },
  {
   "cell_type": "code",
   "execution_count": 27,
   "id": "b0e55b8a-dbb8-4dee-9a48-240ab57c9545",
   "metadata": {},
   "outputs": [
    {
     "name": "stdout",
     "output_type": "stream",
     "text": [
      "center sim for 2nd delamination 0.9999961044651537\n"
     ]
    }
   ],
   "source": [
    "pred_centre = [97, 242]\n",
    "gt_center = [99, 249]\n",
    "\n",
    "centre_sim_2 = (pred_centre[0] * gt_center[0] + pred_centre[1] * gt_center[1]) / ((pred_centre[0]**2 + pred_centre[1]**2)**.5 * (gt_center[0]**2+gt_center[1]**2)**.5)\n",
    "print(\"center sim for 2nd delamination\", centre_sim_2)"
   ]
  },
  {
   "cell_type": "code",
   "execution_count": 28,
   "id": "f298e0a0-b068-46f2-adfd-45aeae44dade",
   "metadata": {},
   "outputs": [
    {
     "name": "stdout",
     "output_type": "stream",
     "text": [
      "center sim for 3rd delamination 0.9995408676346209\n"
     ]
    }
   ],
   "source": [
    "pred_centre = [248, 90]\n",
    "gt_center = [249, 99]\n",
    "\n",
    "centre_sim_3 = (pred_centre[0] * gt_center[0] + pred_centre[1] * gt_center[1]) / ((pred_centre[0]**2 + pred_centre[1]**2)**.5 * (gt_center[0]**2+gt_center[1]**2)**.5)\n",
    "print(\"center sim for 3rd delamination\",centre_sim_3)"
   ]
  },
  {
   "cell_type": "code",
   "execution_count": null,
   "id": "623664b4-5a8b-4fa5-83a3-56e4b5ff0237",
   "metadata": {},
   "outputs": [],
   "source": []
  },
  {
   "cell_type": "code",
   "execution_count": null,
   "id": "3024cea4-d7d8-4797-bca7-bb82bcade0bf",
   "metadata": {},
   "outputs": [],
   "source": []
  }
 ],
 "metadata": {
  "kernelspec": {
   "display_name": "Python 3 (ipykernel)",
   "language": "python",
   "name": "python3"
  },
  "language_info": {
   "codemirror_mode": {
    "name": "ipython",
    "version": 3
   },
   "file_extension": ".py",
   "mimetype": "text/x-python",
   "name": "python",
   "nbconvert_exporter": "python",
   "pygments_lexer": "ipython3",
   "version": "3.7.10"
  }
 },
 "nbformat": 4,
 "nbformat_minor": 5
}
