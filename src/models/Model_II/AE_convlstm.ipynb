{
 "cells": [
  {
   "cell_type": "code",
   "execution_count": null,
   "id": "5f091134-a37d-40a4-9e1c-acb532d5a05b",
   "metadata": {},
   "outputs": [],
   "source": [
    "# ============================================\n",
    "__title__ = 'Autoencoder-ConvLSTM model for semantic segmentation \\Delaminations identification in CFRP'\n",
    "__author__ = \"Abdalraheem A. Ijjeh\"\n",
    "__maintainer__ = \"Abdalraheem A. Ijjeh\"\n",
    "__email__ = \"aijjeh@imp.gda.pl\"\n",
    "# ============================================"
   ]
  },
  {
   "cell_type": "code",
   "execution_count": null,
   "id": "11b2aaf5-5c1a-49b0-a748-97338acf61a4",
   "metadata": {},
   "outputs": [],
   "source": [
    "import tensorflow as tf\n",
    "import keras\n",
    "import tensorflow.python.framework.random_seed\n",
    "import os\n",
    "import numpy as np\n",
    "from keras.models import Sequential, Model\n",
    "from keras.optimizers import Adam\n",
    "from sklearn.metrics import confusion_matrix\n",
    "import matplotlib.pyplot as plt\n",
    "import itertools\n",
    "from tensorflow.python.client import device_lib\n",
    "import shutil\n",
    "import random\n",
    "import glob\n",
    "import gc\n",
    "import time\n",
    "from tensorflow.python.client import device_lib\n",
    "from keras.callbacks import Callback\n",
    "from tensorflow.keras.models import Model\n",
    "from keras import backend as K\n",
    "from keras.utils import to_categorical\n",
    "import neptune\n",
    "from decouple import config\n",
    "from keras.layers import TimeDistributed, \\\n",
    "    Input, ConvLSTM2D, UpSampling2D, Conv2D, \\\n",
    "    BatchNormalization, Add, MaxPool2D, concatenate, Conv3D, MaxPool3D\n",
    "from numpy.random import seed\n",
    "import warnings"
   ]
  },
  {
   "cell_type": "code",
   "execution_count": null,
   "id": "c623f1c8-5950-4afc-a019-0cdc72f7c823",
   "metadata": {},
   "outputs": [],
   "source": [
    "warnings.simplefilter(action='ignore', category=FutureWarning)\n",
    "os.environ[\"CUDA_DEVICE_ORDER\"] = \"PCI_BUS_ID\"\n",
    "os.environ[\"CUDA_VISIBLE_DEVICES\"] = '1'\n",
    "print(device_lib.list_local_devices())"
   ]
  },
  {
   "cell_type": "code",
   "execution_count": null,
   "id": "0e1a4361-03c9-4ba4-b56a-b2ae823ed9b5",
   "metadata": {},
   "outputs": [],
   "source": [
    "def get_jaccard_index(y_true, y_pred, smooth=1):\n",
    "    intersection = K.sum(K.abs(y_true * y_pred), axis=-1)\n",
    "    sum_ = K.sum(K.abs(y_true) + K.abs(y_pred), axis=-1)\n",
    "    jac = (intersection + smooth) / (sum_ - intersection + smooth)\n",
    "    return jac"
   ]
  },
  {
   "cell_type": "code",
   "execution_count": null,
   "id": "3a280b8f-79c5-407c-8af5-159a224d73a1",
   "metadata": {},
   "outputs": [],
   "source": [
    "def get_iou_metric(y_true, y_pred, smooth=100):\n",
    "    y_true_f = K.flatten(y_true)\n",
    "    y_pred_f = K.flatten(y_pred)\n",
    "    intersection = K.sum(K.abs(y_true_f * y_pred_f))\n",
    "    union = K.sum(y_true_f) + K.sum(y_pred_f) - intersection\n",
    "    iou = (intersection + smooth) / (union + smooth)\n",
    "    return iou"
   ]
  },
  {
   "cell_type": "code",
   "execution_count": null,
   "id": "9940d5f6-4b27-478c-aacf-38fd105ae638",
   "metadata": {},
   "outputs": [],
   "source": [
    "def get_f1_score(y_true, y_pred):\n",
    "    def precision_m(y_true__, y_pred__):\n",
    "        TP = K.sum(K.round(K.clip(y_true__ * y_pred__, 0, 1)), axis=-1)\n",
    "        Pred_Positives = K.sum(K.round(K.clip(y_pred__, 0, 1)), axis=-1)\n",
    "\n",
    "        precision_ = TP / (Pred_Positives + K.epsilon())\n",
    "        return precision_\n",
    "\n",
    "    def recall_m(y_true_, y_pred_):\n",
    "        TP = K.sum(K.round(K.clip(y_true_ * y_pred_, 0, 1)), axis=-1)\n",
    "        Positives = K.sum(K.round(K.clip(y_true_, 0, 1)), axis=-1)\n",
    "\n",
    "        recall_ = TP / (Positives + K.epsilon())\n",
    "        return recall_\n",
    "\n",
    "    precision, recall = precision_m(y_true, y_pred), recall_m(y_true, y_pred)\n",
    "\n",
    "    return 2 * ((precision * recall) / (precision + recall + K.epsilon()))"
   ]
  },
  {
   "cell_type": "code",
   "execution_count": null,
   "id": "8d50224d-d0fc-4d2d-934d-9d9eefdd45cc",
   "metadata": {},
   "outputs": [],
   "source": [
    "def jaccard_loss(y_true, y_pred, smooth=1):\n",
    "    \"\"\"\n",
    "    Arguments:\n",
    "        y_true : Matrix containing one-hot encoded class labels\n",
    "                 with the last axis being the number of classes.\n",
    "        y_pred : Matrix with same dimensions as y_true.\n",
    "        smooth : smoothing factor for loss function.\n",
    "    \"\"\"\n",
    "\n",
    "    intersection = tf.reduce_sum(y_true * y_pred, axis=-1)\n",
    "    union = tf.reduce_sum(y_true + y_pred, axis=-1) - intersection\n",
    "    jac = (intersection + smooth) / (union + smooth)\n",
    "\n",
    "    return (1 - jac) * smooth"
   ]
  },
  {
   "cell_type": "code",
   "execution_count": null,
   "id": "067f35a7-588a-4e2e-a6fd-6f76ac4a6962",
   "metadata": {},
   "outputs": [],
   "source": [
    "def f1_loss(y_true, y_pred, smooth=1):\n",
    "    intersection = tf.reduce_sum(y_true * y_pred, axis=-1)\n",
    "    denominator = tf.reduce_sum(y_true + y_pred, axis=-1)\n",
    "    f1 = (2 * intersection + smooth) / (denominator + smooth)\n",
    "    return (1 - f1) * smooth"
   ]
  },
  {
   "cell_type": "code",
   "execution_count": null,
   "id": "c09415e1-e1ce-4bea-ace2-46a268385b73",
   "metadata": {},
   "outputs": [],
   "source": [
    "filters = 16\n",
    "filter_size = 3\n",
    "epsilon = 0.1\n",
    "dropout_rate = 0.2\n",
    "epochs = 10\n",
    "depth = 3"
   ]
  },
  {
   "cell_type": "code",
   "execution_count": null,
   "id": "03b76e69-9966-47ff-bc2d-8db971904c20",
   "metadata": {},
   "outputs": [],
   "source": [
    "########################################################################################################################\n",
    "# load dataset\n",
    "########################################################################################################################\n",
    "def load_dataset():\n",
    "    os.chdir('/home/aijjeh/Desktop/Phd_Project/Full_wavefield_frames_time_series_project/Datasets/')\n",
    "    training_set = np.load('training_set/training_consecutive_448_30_consecutive_frames_not_normalised.npy',\n",
    "                           mmap_mode='r')\n",
    "    training_set = training_set.reshape((475, 30, 448, 448, 1))\n",
    "    training_set = training_set.astype('float32')\n",
    "    training_set = training_set / 255.0\n",
    "    labels = np.load('label_set/GT_labels_thresholded_448_only_475_labels.npy')\n",
    "    labels = labels.reshape((475, 448, 448, 1))\n",
    "    labels = labels.astype('float32')\n",
    "    train_x = training_set[0:380]\n",
    "    train_label = labels[0:380]\n",
    "    # train_label = to_categorical(train_label, 2)\n",
    "    return train_x, train_label"
   ]
  },
  {
   "cell_type": "code",
   "execution_count": null,
   "id": "a9679fb1-15eb-41d4-9483-084c4784282f",
   "metadata": {},
   "outputs": [],
   "source": [
    "def group_convolution(inputs_, power):\n",
    "    # layer = Conv3D(filters,  # * 2 ** power,\n",
    "    #                kernel_size=(1, filter_size, filter_size),\n",
    "    #                padding='same',\n",
    "    #                activation='relu')(inputs_)\n",
    "    # layer = BatchNormalization()(layer)\n",
    "    # layer = Conv3D(filters,  # * 2 ** power,\n",
    "    #                kernel_size=(filter_size, 1, 1),\n",
    "    #                padding='same',\n",
    "    #                activation='relu')(layer)\n",
    "    layer = ConvLSTM2D(10, 3, padding='same', return_sequences=True)(inputs_)\n",
    "    # layer = BatchNormalization()(layer)\n",
    "    return layer"
   ]
  },
  {
   "cell_type": "code",
   "execution_count": null,
   "id": "f19e6089-d184-4680-9677-d93be4d473af",
   "metadata": {},
   "outputs": [],
   "source": [
    "def encoder(input_en, depth_):\n",
    "    layer_encoder = input_en\n",
    "    list_ = []\n",
    "    for i in range(depth_):\n",
    "        layer_encoder = group_convolution(layer_encoder, i)\n",
    "        # layer_encoder = group_convolution(layer_encoder, i)\n",
    "        list_.append(layer_encoder)\n",
    "        layer_encoder = MaxPool3D((2, 2, 2), strides=1, padding='same')(layer_encoder)  # (2, 2)\n",
    "        layer_encoder = BatchNormalization()(layer_encoder)\n",
    "        layer_encoder = keras.layers.Dropout(dropout_rate)(layer_encoder)\n",
    "    return layer_encoder, list_"
   ]
  },
  {
   "cell_type": "code",
   "execution_count": null,
   "id": "b52a2b9e-e322-4993-87d8-ccc4ed870618",
   "metadata": {},
   "outputs": [],
   "source": [
    "def decoder(input_de, depth_, list_):\n",
    "    layer_decoder = input_de\n",
    "    for i in reversed(range(depth_)):\n",
    "        layer_decoder = keras.layers.UpSampling3D((1, 1, 1))(layer_decoder)\n",
    "        layer_decoder = concatenate([layer_decoder, list_[i]])\n",
    "        layer_decoder = keras.layers.Dropout(dropout_rate)(layer_decoder)\n",
    "        layer_decoder = group_convolution(layer_decoder, i)\n",
    "        layer_decoder = group_convolution(layer_decoder, i)\n",
    "    return layer_decoder"
   ]
  },
  {
   "cell_type": "code",
   "execution_count": null,
   "id": "a998626e-afc4-483b-8aee-98a8e13cd257",
   "metadata": {},
   "outputs": [],
   "source": [
    "def AE_conv3d_lstm_model():\n",
    "    inputs = Input(shape=(None, None, None, 1))\n",
    "    down_layer_1, list__ = encoder(inputs, depth_=depth)\n",
    "    bottleneck = group_convolution(down_layer_1, depth)\n",
    "    up_layer_1 = decoder(bottleneck, depth_=depth, list_=list__)\n",
    "    output = ConvLSTM2D(10,\n",
    "                        (filter_size, filter_size),\n",
    "                        padding='same',\n",
    "                        return_sequences=False,\n",
    "                        )(up_layer_1)\n",
    "    output = Conv2D(1,\n",
    "                    (1, 1),\n",
    "                    padding='same',\n",
    "                    activation='sigmoid')(output)\n",
    "    model = Model(inputs=inputs, outputs=output)\n",
    "    model.summary()\n",
    "\n",
    "    return model"
   ]
  },
  {
   "cell_type": "code",
   "execution_count": null,
   "id": "59f93ff5-1bbf-4438-8685-4f18fae81ba1",
   "metadata": {},
   "outputs": [],
   "source": [
    "if __name__ == '__main__':\n",
    "    Train_x, Train_label = load_dataset()\n",
    "    # with strategy.scope():\n",
    "    model_ = AE_conv3d_lstm_model()\n",
    "    model_.compile(optimizer=Adam(learning_rate=0.0004),\n",
    "                   loss='binary_crossentropy',  # 'categorical_crossentropy',\n",
    "                   metrics=[get_jaccard_index])  # get_jaccard_index\n",
    "    # class MonitoringCallback(Callback):\n",
    "    #     def on_epoch_end(self, epoch, logs={}):\n",
    "    #         for metric_name, metric_value in logs.items():\n",
    "    #             neptune.log_metric(metric_name, metric_value)\n",
    "    callbacks = tf.keras.callbacks.EarlyStopping(\n",
    "        monitor='val_get_jaccard_index',\n",
    "        min_delta=0.001,\n",
    "        patience=5,\n",
    "        verbose=0,\n",
    "        mode='auto',\n",
    "        restore_best_weights=True)\n",
    "    history = model_.fit(Train_x, Train_label,\n",
    "                         batch_size=1,\n",
    "                         epochs=epochs,\n",
    "                         validation_split=0.15)\n",
    "    # callbacks=[callbacks])  # MonitoringCallback(),\n",
    "    # Finally, save the model\n",
    "    os.chdir('/home/aijjeh/Desktop/Phd_Project/Upscaling_downscaling_denoising/h5_models')\n",
    "    model_.save('AE_time_distributed_filters_%d_depth_%d_kernel_5_50kHz_softmax.h5' % (filters, depth))"
   ]
  }
 ],
 "metadata": {
  "kernelspec": {
   "display_name": "Python 3 (ipykernel)",
   "language": "python",
   "name": "python3"
  },
  "language_info": {
   "codemirror_mode": {
    "name": "ipython",
    "version": 3
   },
   "file_extension": ".py",
   "mimetype": "text/x-python",
   "name": "python",
   "nbconvert_exporter": "python",
   "pygments_lexer": "ipython3",
   "version": "3.7.10"
  }
 },
 "nbformat": 4,
 "nbformat_minor": 5
}
