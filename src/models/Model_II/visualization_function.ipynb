{
 "cells": [
  {
   "cell_type": "code",
   "execution_count": 1,
   "id": "1a8651fc-6b11-4411-bfd8-2f66d967f3ae",
   "metadata": {},
   "outputs": [
    {
     "name": "stderr",
     "output_type": "stream",
     "text": [
      "2021-08-13 10:40:25.012093: I tensorflow/stream_executor/platform/default/dso_loader.cc:49] Successfully opened dynamic library libcudart.so.10.1\n"
     ]
    }
   ],
   "source": [
    "import os\n",
    "from IPython.display import Image, display\n",
    "from tensorflow.keras.preprocessing.image import load_img\n",
    "import PIL\n",
    "from PIL import ImageOps\n",
    "import re\n",
    "import numpy as np\n",
    "import tensorflow as tf\n",
    "import keras\n",
    "from keras import layers\n",
    "from tensorflow.python.client import device_lib\n",
    "import random\n",
    "from tensorflow.keras.models import Model\n",
    "from keras.models import load_model\n",
    "import matplotlib.pyplot as plt\n",
    "import matplotlib\n",
    "import cv2"
   ]
  },
  {
   "cell_type": "code",
   "execution_count": 2,
   "id": "356541bd-c227-4044-a377-88c9dc56d004",
   "metadata": {
    "tags": []
   },
   "outputs": [],
   "source": [
    "os.environ[\"CUDA_DEVICE_ORDER\"] = \"PCI_BUS_ID\"\n",
    "os.environ[\"CUDA_VISIBLE_DEVICES\"] = '2'\n",
    "# print(device_lib.list_local_devices())"
   ]
  },
  {
   "cell_type": "code",
   "execution_count": 3,
   "id": "a6fa072d-1c6f-444a-8f25-970e4d68435a",
   "metadata": {
    "tags": []
   },
   "outputs": [
    {
     "name": "stderr",
     "output_type": "stream",
     "text": [
      "2021-08-13 10:40:27.040866: I tensorflow/compiler/jit/xla_cpu_device.cc:41] Not creating XLA devices, tf_xla_enable_xla_devices not set\n",
      "2021-08-13 10:40:27.042178: I tensorflow/stream_executor/platform/default/dso_loader.cc:49] Successfully opened dynamic library libcuda.so.1\n",
      "2021-08-13 10:40:27.083920: I tensorflow/core/common_runtime/gpu/gpu_device.cc:1720] Found device 0 with properties: \n",
      "pciBusID: 0000:86:00.0 name: Tesla V100S-PCIE-32GB computeCapability: 7.0\n",
      "coreClock: 1.597GHz coreCount: 80 deviceMemorySize: 31.75GiB deviceMemoryBandwidth: 1.03TiB/s\n",
      "2021-08-13 10:40:27.083964: I tensorflow/stream_executor/platform/default/dso_loader.cc:49] Successfully opened dynamic library libcudart.so.10.1\n",
      "2021-08-13 10:40:27.085938: I tensorflow/stream_executor/platform/default/dso_loader.cc:49] Successfully opened dynamic library libcublas.so.10\n",
      "2021-08-13 10:40:27.086000: I tensorflow/stream_executor/platform/default/dso_loader.cc:49] Successfully opened dynamic library libcublasLt.so.10\n",
      "2021-08-13 10:40:27.088065: I tensorflow/stream_executor/platform/default/dso_loader.cc:49] Successfully opened dynamic library libcufft.so.10\n",
      "2021-08-13 10:40:27.088359: I tensorflow/stream_executor/platform/default/dso_loader.cc:49] Successfully opened dynamic library libcurand.so.10\n",
      "2021-08-13 10:40:27.090287: I tensorflow/stream_executor/platform/default/dso_loader.cc:49] Successfully opened dynamic library libcusolver.so.10\n",
      "2021-08-13 10:40:27.091462: I tensorflow/stream_executor/platform/default/dso_loader.cc:49] Successfully opened dynamic library libcusparse.so.10\n",
      "2021-08-13 10:40:27.096013: I tensorflow/stream_executor/platform/default/dso_loader.cc:49] Successfully opened dynamic library libcudnn.so.7\n",
      "2021-08-13 10:40:27.099382: I tensorflow/core/common_runtime/gpu/gpu_device.cc:1862] Adding visible gpu devices: 0\n",
      "2021-08-13 10:40:27.099907: I tensorflow/core/platform/cpu_feature_guard.cc:142] This TensorFlow binary is optimized with oneAPI Deep Neural Network Library (oneDNN) to use the following CPU instructions in performance-critical operations:  SSE4.1 SSE4.2 AVX AVX2 AVX512F FMA\n",
      "To enable them in other operations, rebuild TensorFlow with the appropriate compiler flags.\n",
      "2021-08-13 10:40:27.103727: I tensorflow/core/common_runtime/gpu/gpu_device.cc:1720] Found device 0 with properties: \n",
      "pciBusID: 0000:86:00.0 name: Tesla V100S-PCIE-32GB computeCapability: 7.0\n",
      "coreClock: 1.597GHz coreCount: 80 deviceMemorySize: 31.75GiB deviceMemoryBandwidth: 1.03TiB/s\n",
      "2021-08-13 10:40:27.103757: I tensorflow/stream_executor/platform/default/dso_loader.cc:49] Successfully opened dynamic library libcudart.so.10.1\n",
      "2021-08-13 10:40:27.103783: I tensorflow/stream_executor/platform/default/dso_loader.cc:49] Successfully opened dynamic library libcublas.so.10\n",
      "2021-08-13 10:40:27.103796: I tensorflow/stream_executor/platform/default/dso_loader.cc:49] Successfully opened dynamic library libcublasLt.so.10\n",
      "2021-08-13 10:40:27.103808: I tensorflow/stream_executor/platform/default/dso_loader.cc:49] Successfully opened dynamic library libcufft.so.10\n",
      "2021-08-13 10:40:27.103820: I tensorflow/stream_executor/platform/default/dso_loader.cc:49] Successfully opened dynamic library libcurand.so.10\n",
      "2021-08-13 10:40:27.103833: I tensorflow/stream_executor/platform/default/dso_loader.cc:49] Successfully opened dynamic library libcusolver.so.10\n",
      "2021-08-13 10:40:27.103845: I tensorflow/stream_executor/platform/default/dso_loader.cc:49] Successfully opened dynamic library libcusparse.so.10\n",
      "2021-08-13 10:40:27.103858: I tensorflow/stream_executor/platform/default/dso_loader.cc:49] Successfully opened dynamic library libcudnn.so.7\n",
      "2021-08-13 10:40:27.109818: I tensorflow/core/common_runtime/gpu/gpu_device.cc:1862] Adding visible gpu devices: 0\n",
      "2021-08-13 10:40:27.109977: I tensorflow/stream_executor/platform/default/dso_loader.cc:49] Successfully opened dynamic library libcudart.so.10.1\n",
      "2021-08-13 10:40:28.088909: I tensorflow/core/common_runtime/gpu/gpu_device.cc:1261] Device interconnect StreamExecutor with strength 1 edge matrix:\n",
      "2021-08-13 10:40:28.088959: I tensorflow/core/common_runtime/gpu/gpu_device.cc:1267]      0 \n",
      "2021-08-13 10:40:28.088966: I tensorflow/core/common_runtime/gpu/gpu_device.cc:1280] 0:   N \n",
      "2021-08-13 10:40:28.094279: I tensorflow/core/common_runtime/gpu/gpu_device.cc:1406] Created TensorFlow device (/job:localhost/replica:0/task:0/device:GPU:0 with 30130 MB memory) -> physical GPU (device: 0, name: Tesla V100S-PCIE-32GB, pci bus id: 0000:86:00.0, compute capability: 7.0)\n",
      "2021-08-13 10:40:28.094631: I tensorflow/compiler/jit/xla_gpu_device.cc:99] Not creating XLA devices, tf_xla_enable_xla_devices not set\n"
     ]
    }
   ],
   "source": [
    "# os.chdir('/home/aijjeh/Desktop/Phd_Project/Full_wavefield_frames_time_series_project/Datasets/label_set')\n",
    "# model_name = 'oxford_segmentation_64.h5'\n",
    "\n",
    "os.chdir('/home/aijjeh/Desktop/Phd_Project/Sequence_to_sequence/h5_models/')\n",
    "model_name = \"UNet_Xception_style_model_24.h5\"\n",
    "\n",
    "model = load_model(model_name, compile=False)\n",
    "# model.summary()"
   ]
  },
  {
   "cell_type": "code",
   "execution_count": 4,
   "id": "3589ef19-56c0-4ce0-b4bb-422cbb12b18d",
   "metadata": {},
   "outputs": [],
   "source": [
    "def atoi(text):\n",
    "    return int(text) if text.isdigit() else text\n",
    "\n",
    "def natural_keys(text):\n",
    "    '''\n",
    "    alist.sort(key=natural_keys) sorts in human order\n",
    "    http://nedbatchelder.com/blog/200712/human_sorting.html\n",
    "    (See Toothy's implementation in the comments)\n",
    "    '''\n",
    "    return [ atoi(c) for c in re.split(r'(\\d+)', text) ]"
   ]
  },
  {
   "cell_type": "code",
   "execution_count": 5,
   "id": "0e769b01-dea5-4b44-ab71-bfe24e44854d",
   "metadata": {},
   "outputs": [
    {
     "name": "stdout",
     "output_type": "stream",
     "text": [
      "475\n"
     ]
    }
   ],
   "source": [
    "input_dir = \"/aijjeh_odroid_sensors/aidd/data/raw/num/wavefield_dataset2_bottom_out/\"\n",
    "target_dir = \"/home/aijjeh/Desktop/Phd_Project/test_labels/\"\n",
    "my_list = os.listdir(input_dir)\n",
    "my_list.sort(key=natural_keys)\n",
    "print(len(my_list))"
   ]
  },
  {
   "cell_type": "code",
   "execution_count": 6,
   "id": "65789b14-9233-4525-ae47-8f003cb57bda",
   "metadata": {},
   "outputs": [],
   "source": [
    "height = 512\n",
    "width =  512\n",
    "img_size = (height, width)\n",
    "num_classes = 2\n",
    "batch_size = 1\n",
    "time_stamps =  24\n",
    "input_img_paths_total = [None]*95"
   ]
  },
  {
   "cell_type": "code",
   "execution_count": 7,
   "id": "41b23ff6-dba4-4fb7-ba29-6f83a76ecd2f",
   "metadata": {},
   "outputs": [
    {
     "name": "stdout",
     "output_type": "stream",
     "text": [
      "95\n"
     ]
    }
   ],
   "source": [
    "for i in range(95):\n",
    "    input_dir = \"/aijjeh_odroid_sensors/aidd/data/raw/num/wavefield_dataset2_bottom_out/\" +'%d_output' % (i+381) \n",
    "    input_img_paths = sorted( \n",
    "        [\n",
    "            os.path.join(input_dir, fname) \n",
    "            for fname in os.listdir(input_dir)    \n",
    "            if fname.endswith(\".png\")\n",
    "        ] \n",
    "    )\n",
    "    input_img_paths.sort(key=natural_keys)\n",
    "    input_img_paths_total[i] = input_img_paths\n",
    "print(len(input_img_paths_total))"
   ]
  },
  {
   "cell_type": "code",
   "execution_count": 8,
   "id": "ae8b6d52-478c-4ace-a0e6-0ddd29aebf86",
   "metadata": {},
   "outputs": [
    {
     "name": "stdout",
     "output_type": "stream",
     "text": [
      "95\n"
     ]
    }
   ],
   "source": [
    "target_img_paths = sorted(\n",
    "    [\n",
    "        os.path.join(target_dir, fname)\n",
    "        for fname in os.listdir(target_dir)\n",
    "        if fname.endswith(\".png\") and not fname.startswith(\".\")\n",
    "    ]\n",
    ")\n",
    "target_img_paths.sort(key=natural_keys)\n",
    "print(len(target_img_paths))"
   ]
  },
  {
   "cell_type": "code",
   "execution_count": 9,
   "id": "5c88fd6a-76bf-4cc8-8880-0a6501fcd3af",
   "metadata": {},
   "outputs": [
    {
     "name": "stdout",
     "output_type": "stream",
     "text": [
      "95\n"
     ]
    }
   ],
   "source": [
    "os.chdir('/home/aijjeh/Desktop/Phd_Project/Full_wavefield_frames_time_series_project/Datasets/label_set')\n",
    "file_frame = np.load('frames_initial.npy')\n",
    "file_frame = file_frame[380:]\n",
    "print(len(file_frame))"
   ]
  },
  {
   "cell_type": "code",
   "execution_count": 10,
   "id": "2f1b62dc-32f7-4b95-b723-bcaf3943afdf",
   "metadata": {},
   "outputs": [],
   "source": [
    "class Full_wavefield_frames(keras.utils.Sequence):\n",
    "    def __init__(self, batch_size, img_size, input_img_paths_total_, target_img_paths_, time_stamps):\n",
    "        self.batch_size = batch_size\n",
    "        self.img_size = img_size\n",
    "        self.input_img_paths_total = input_img_paths_total_\n",
    "        self.target_img_paths = target_img_paths_\n",
    "        self.time_stamps = time_stamps\n",
    "    def __len__(self):\n",
    "        return len(self.target_img_paths) // self.batch_size\n",
    "\n",
    "    def __getitem__(self, idx):\n",
    "        \"\"\"Returns tuple (input, target) correspond to batch #idx.\"\"\"\n",
    "        i = idx * self.batch_size        \n",
    "        batch_input_img_paths = self.input_img_paths_total[i:i+self.batch_size]      \n",
    "        batch_target_img_paths = self.target_img_paths[i:i+self.batch_size] \n",
    "        \n",
    "        x = np.zeros((self.batch_size,) + (self.time_stamps,) + self.img_size + (1,), dtype=\"float16\") #  \n",
    "        \n",
    "        for batch_num in range(self.batch_size):\n",
    "            batch_input_img_paths = batch_input_img_paths[batch_num][file_frame[i]:file_frame[i]+self.time_stamps] \n",
    "            for j, path in enumerate(batch_input_img_paths):\n",
    "                img = load_img(path, target_size=self.img_size, color_mode=\"grayscale\")            \n",
    "                img = np.expand_dims(img,2)\n",
    "                img = img / 255.0\n",
    "                x[batch_num][j] = img\n",
    "        y = np.zeros((self.batch_size,) + self.img_size + (1,), dtype=\"float16\")\n",
    "        for j, path in enumerate(batch_target_img_paths):\n",
    "            img = load_img(path, target_size=self.img_size, color_mode=\"grayscale\")            \n",
    "            img = np.expand_dims(img, 2)\n",
    "            img = img / 255.0\n",
    "            y[j] = img\n",
    "                # Ground truth labels are 1, 2, 3. Subtract one to make them 0, 1, 2:\n",
    "                # y[j] -= 1\n",
    "        return x, y"
   ]
  },
  {
   "cell_type": "code",
   "execution_count": 11,
   "id": "392d2158-26ff-412e-8b40-804b0b921745",
   "metadata": {},
   "outputs": [],
   "source": [
    "test_input_img_paths = input_img_paths_total[:]\n",
    "test_target_img_paths = target_img_paths[:]"
   ]
  },
  {
   "cell_type": "code",
   "execution_count": 12,
   "id": "d6fc9e2b-9d5a-4a24-a3ec-0d80e234d039",
   "metadata": {},
   "outputs": [],
   "source": [
    "val_gen = Full_wavefield_frames(batch_size, img_size, input_img_paths_total, target_img_paths, time_stamps)"
   ]
  },
  {
   "cell_type": "code",
   "execution_count": 13,
   "id": "853a3346-98b6-414a-8e5a-c0f65185f1b5",
   "metadata": {},
   "outputs": [
    {
     "name": "stderr",
     "output_type": "stream",
     "text": [
      "2021-08-13 10:40:33.720027: I tensorflow/compiler/mlir/mlir_graph_optimization_pass.cc:116] None of the MLIR optimization passes are enabled (registered 2)\n",
      "2021-08-13 10:40:33.739083: I tensorflow/core/platform/profile_utils/cpu_utils.cc:112] CPU Frequency: 2100000000 Hz\n",
      "2021-08-13 10:40:35.140590: I tensorflow/stream_executor/platform/default/dso_loader.cc:49] Successfully opened dynamic library libcudnn.so.7\n",
      "2021-08-13 10:40:36.844901: I tensorflow/stream_executor/platform/default/dso_loader.cc:49] Successfully opened dynamic library libcublas.so.10\n"
     ]
    }
   ],
   "source": [
    "val_preds = model.predict(val_gen)"
   ]
  },
  {
   "cell_type": "markdown",
   "id": "e125b5ca-3d6f-4cb1-ab8c-5fd7d57ccf96",
   "metadata": {},
   "source": [
    "# Load cmap color"
   ]
  },
  {
   "cell_type": "code",
   "execution_count": 14,
   "id": "fcaa6d1a-ccab-41cb-bad6-a0b135ef410e",
   "metadata": {},
   "outputs": [],
   "source": [
    "path_to_csv = '/home/aijjeh/aijjeh_rexio_share/PhD/cmap_flipped_jet256.csv'\n",
    "cmap = matplotlib.colors.ListedColormap([\"blue\", \"green\", \"red\"], name=path_to_csv, N=None)"
   ]
  },
  {
   "cell_type": "code",
   "execution_count": 15,
   "id": "d9b33aab-d0bc-460a-a607-4f896a918360",
   "metadata": {},
   "outputs": [],
   "source": [
    "def display_mask(i):\n",
    "    \"\"\"Quick utility to display a model's prediction.\"\"\"\n",
    "    # mask = np.argmax(val_preds[i], axis=-1)\n",
    "    mask = val_preds[i]\n",
    "    # mask = np.expand_dims(mask, axis=-1)\n",
    "    img = PIL.ImageOps.autocontrast(keras.preprocessing.image.array_to_img(mask))\n",
    "    plt.imshow(img)\n",
    "    plt.show()\n",
    "    # display(img)"
   ]
  },
  {
   "cell_type": "code",
   "execution_count": 16,
   "id": "1a72ac53-1d6d-4a81-8e9f-221f6e4edd8e",
   "metadata": {
    "tags": []
   },
   "outputs": [],
   "source": [
    "def calc_IoU(predicted_image, truth_img, img_num):\n",
    "    predicted_image = np.asarray(predicted_image) # \n",
    "    predicted_image = predicted_image.astype('float64')\n",
    "    ret, predicted_image = cv2.threshold(predicted_image, .5, 1.0, cv2.THRESH_BINARY)\n",
    "    truth_img = np.asarray(truth_img)# \n",
    "    truth_img = truth_img.astype('float64')\n",
    "    truth_img = truth_img[:,:,0]\n",
    "    InterSectionArray = cv2.bitwise_and(predicted_image, truth_img)\n",
    "    UnionArray = cv2.bitwise_or(predicted_image, truth_img)\n",
    "    I1 = np.count_nonzero(InterSectionArray)\n",
    "    U = np.count_nonzero(UnionArray)\n",
    "    IoU = I1 / U\n",
    "    print(img_num+381,' : ',IoU)\n",
    "    # gc.collect()\n",
    "    return IoU"
   ]
  },
  {
   "cell_type": "code",
   "execution_count": 17,
   "id": "169a568a-234e-4db3-a061-f6a74a2be72a",
   "metadata": {},
   "outputs": [],
   "source": [
    "total_IoU  = 0"
   ]
  },
  {
   "cell_type": "code",
   "execution_count": 18,
   "id": "7e82bc1c-5650-45da-91f0-18f5af237b7d",
   "metadata": {},
   "outputs": [],
   "source": [
    "os.chdir('/home/aijjeh/Desktop/Phd_Project/Full_wavefield_frames_time_series_project/AE_numerical_results_24_frames_512_512/')"
   ]
  },
  {
   "cell_type": "code",
   "execution_count": 19,
   "id": "d6480d6c-8a8f-4491-b28e-862060b8ceca",
   "metadata": {
    "tags": []
   },
   "outputs": [
    {
     "name": "stdout",
     "output_type": "stream",
     "text": [
      "381  :  0.9374233128834356\n",
      "382  :  0.9544159544159544\n",
      "383  :  0.9031007751937985\n",
      "384  :  0.9090909090909091\n",
      "385  :  0.9622641509433962\n",
      "386  :  0.857566765578635\n",
      "387  :  0.9557522123893806\n",
      "388  :  0.9307282415630551\n",
      "389  :  0.9553752535496958\n",
      "390  :  0.7602523659305994\n",
      "391  :  0.8664383561643836\n",
      "392  :  0.9690576652601969\n",
      "393  :  0.9731258840169731\n",
      "394  :  0.9209726443768997\n",
      "395  :  0.9746835443037974\n",
      "396  :  0.963013698630137\n",
      "397  :  0.9370748299319728\n",
      "398  :  0.5\n",
      "399  :  0.9512195121951219\n",
      "400  :  0.924187725631769\n",
      "401  :  0.03206997084548105\n",
      "402  :  0.9016393442622951\n",
      "403  :  0.918429003021148\n",
      "404  :  0.9806451612903225\n",
      "405  :  0.8215859030837004\n",
      "406  :  0.9072847682119205\n",
      "407  :  0.961439588688946\n",
      "408  :  0.7638190954773869\n",
      "409  :  0.9716981132075472\n",
      "410  :  0.945273631840796\n",
      "411  :  0.9454022988505747\n",
      "412  :  0.9400630914826499\n",
      "413  :  0.9898348157560356\n",
      "414  :  0.9718076285240465\n",
      "415  :  0.8706293706293706\n",
      "416  :  0.9565217391304348\n",
      "417  :  0.78419452887538\n",
      "418  :  0.8241965973534972\n",
      "419  :  0.9634551495016611\n",
      "420  :  0.9624724061810155\n",
      "421  :  0.913232104121475\n",
      "422  :  0.9346153846153846\n",
      "423  :  0.7139364303178484\n",
      "424  :  0.9355932203389831\n",
      "425  :  0.9544303797468354\n",
      "426  :  0.9236209335219236\n",
      "427  :  0.9342105263157895\n",
      "428  :  0.934971098265896\n",
      "429  :  0.9669277632724108\n",
      "430  :  0.9507211538461539\n",
      "431  :  0.8050436469447139\n",
      "432  :  0.6628787878787878\n",
      "433  :  0.7232142857142857\n",
      "434  :  0.5037593984962406\n",
      "435  :  0.5144827586206897\n",
      "436  :  0.9615384615384616\n",
      "437  :  0.814498933901919\n",
      "438  :  0.9439252336448598\n",
      "439  :  0.9261477045908184\n",
      "440  :  0.8352941176470589\n",
      "441  :  0.7381974248927039\n",
      "442  :  0.8753709198813057\n",
      "443  :  0.6097560975609756\n",
      "444  :  0.7637795275590551\n",
      "445  :  0.9706959706959707\n",
      "446  :  0.8896396396396397\n",
      "447  :  0.7594142259414226\n",
      "448  :  0.776332899869961\n",
      "449  :  0.9347826086956522\n",
      "450  :  0.9303904923599321\n",
      "451  :  0.9075907590759076\n",
      "452  :  0.870722433460076\n",
      "453  :  0.9908571428571429\n",
      "454  :  0.9390862944162437\n",
      "455  :  0.9371196754563894\n",
      "456  :  0.539568345323741\n",
      "457  :  0.9065934065934066\n",
      "458  :  0.8609756097560975\n",
      "459  :  0.9204339963833634\n",
      "460  :  0.9142857142857143\n",
      "461  :  0.9404466501240695\n",
      "462  :  0.9251336898395722\n",
      "463  :  0.8877551020408163\n",
      "464  :  0.9526184538653366\n",
      "465  :  0.8541001064962727\n",
      "466  :  0.9651972157772621\n",
      "467  :  0.9014084507042254\n",
      "468  :  0.8786279683377308\n",
      "469  :  0.8903508771929824\n",
      "470  :  0.6008771929824561\n",
      "471  :  0.9496124031007752\n",
      "472  :  0.805439330543933\n",
      "473  :  0.9696969696969697\n",
      "474  :  0.9375\n",
      "475  :  0.9681978798586572\n"
     ]
    }
   ],
   "source": [
    "for j in range(len(val_preds)):\n",
    "    ############################################################################################################\n",
    "    plt.figure(figsize=(5 / 2.54, 5 / 2.54), dpi=600)\n",
    "    plt.gca().set_axis_off()\n",
    "    plt.axis('off')\n",
    "    plt.subplots_adjust(left=0.0, bottom=0.0, right=1, top=1.0, wspace=0.0, hspace=0.0)\n",
    "    plt.margins(0, 0)\n",
    "    plt.gca().xaxis.set_major_locator(plt.NullLocator())\n",
    "    plt.gca().yaxis.set_major_locator(plt.NullLocator())\n",
    "    ############################################################################################################\n",
    "# Display input image\n",
    "    # img_input_ = val_gen[j][0][0]\n",
    "    # plt.imshow((img_input_[15]*255).astype(np.uint8), cmap='Greys')\n",
    "    # plt.show()\n",
    "\n",
    "# Display ground-truth target mask\n",
    "    # os.chdir('/home/aijjeh/Desktop/Phd_Project/Full_wavefield_frames_time_series_project/AE_numerical_GT/')\n",
    "    img_GT_ = PIL.ImageOps.autocontrast(load_img(test_target_img_paths[j], target_size= img_size))\n",
    "    # plt.imshow(img_GT_, cmap='Greys')\n",
    "    # plt.savefig('numberical_GT_%d' % (j+381))\n",
    "    # plt.show()\n",
    "\n",
    "# Display mask predicted by our model\n",
    "    # display_mask(j)  \n",
    "    mask = val_preds[j]\n",
    "    img_pred_ = PIL.ImageOps.autocontrast(keras.preprocessing.image.array_to_img(mask))\n",
    "    plt.imshow(mask, cmap=cmap)\n",
    "    plt.savefig('predicted_%d' % (j + 381))\n",
    "    plt.close('all')\n",
    "    total_IoU = total_IoU + calc_IoU(mask, img_GT_, j)\n"
   ]
  },
  {
   "cell_type": "code",
   "execution_count": 20,
   "id": "bd2e052c-82dc-4c51-ad8d-a663f55d81ea",
   "metadata": {
    "tags": []
   },
   "outputs": [],
   "source": [
    "miou = total_IoU / len(val_preds)"
   ]
  },
  {
   "cell_type": "code",
   "execution_count": 21,
   "id": "805cbe1c-8245-43ef-8568-2c627107c026",
   "metadata": {},
   "outputs": [
    {
     "name": "stdout",
     "output_type": "stream",
     "text": [
      "0.8719347769144274\n"
     ]
    }
   ],
   "source": [
    "print(miou)"
   ]
  },
  {
   "cell_type": "code",
   "execution_count": null,
   "id": "7fb99136-0918-471d-95b5-adc86ac9ddc6",
   "metadata": {},
   "outputs": [],
   "source": []
  }
 ],
 "metadata": {
  "kernelspec": {
   "display_name": "Python 3 (ipykernel)",
   "language": "python",
   "name": "python3"
  },
  "language_info": {
   "codemirror_mode": {
    "name": "ipython",
    "version": 3
   },
   "file_extension": ".py",
   "mimetype": "text/x-python",
   "name": "python",
   "nbconvert_exporter": "python",
   "pygments_lexer": "ipython3",
   "version": "3.7.10"
  }
 },
 "nbformat": 4,
 "nbformat_minor": 5
}
