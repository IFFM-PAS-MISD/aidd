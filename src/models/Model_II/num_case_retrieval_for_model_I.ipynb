{
 "cells": [
  {
   "cell_type": "code",
   "execution_count": 1,
   "id": "24b07dbf",
   "metadata": {},
   "outputs": [],
   "source": [
    "import os\n",
    "import matplotlib.pyplot as plt\n",
    "import cv2\n",
    "import numpy as np\n"
   ]
  },
  {
   "cell_type": "code",
   "execution_count": 3,
   "id": "5514a7f0",
   "metadata": {
    "scrolled": true
   },
   "outputs": [
    {
     "name": "stdout",
     "output_type": "stream",
     "text": [
      "354\n",
      "140\n",
      "227\n",
      "430\n",
      "123\n",
      "281\n",
      "44\n",
      "249\n",
      "286\n",
      "323\n",
      "428\n",
      "473\n",
      "279\n",
      "282\n",
      "185\n",
      "457\n",
      "141\n",
      "460\n",
      "441\n",
      "41\n",
      "276\n",
      "425\n",
      "72\n",
      "466\n",
      "220\n",
      "394\n",
      "118\n",
      "132\n",
      "91\n",
      "67\n",
      "239\n",
      "100\n",
      "409\n",
      "237\n",
      "29\n",
      "289\n",
      "245\n",
      "102\n",
      "154\n",
      "202\n",
      "199\n",
      "462\n",
      "76\n",
      "51\n",
      "251\n",
      "151\n",
      "133\n",
      "318\n",
      "117\n",
      "343\n",
      "440\n",
      "108\n",
      "312\n",
      "231\n",
      "431\n",
      "57\n",
      "35\n",
      "322\n",
      "393\n",
      "260\n",
      "228\n",
      "157\n",
      "452\n",
      "196\n",
      "337\n",
      "142\n",
      "22\n",
      "451\n",
      "150\n",
      "242\n",
      "53\n",
      "468\n",
      "334\n",
      "374\n",
      "139\n",
      "395\n",
      "34\n",
      "398\n",
      "287\n",
      "192\n",
      "296\n",
      "417\n",
      "391\n",
      "156\n",
      "453\n",
      "377\n",
      "175\n",
      "128\n",
      "278\n",
      "48\n",
      "10\n",
      "408\n",
      "373\n",
      "291\n",
      "99\n"
     ]
    }
   ],
   "source": [
    "num_list =[]\n",
    "for i in range(95):\n",
    "    os.chdir('/home/aijjeh/Desktop/num_cases/Output_Numerical_Data/')\n",
    "    gt = cv2.imread('GT_%d.png' %i, 0)\n",
    "    gt = cv2.resize(gt, (500,500))\n",
    "    ret,gt = cv2.threshold(gt, 127, 255, cv2.THRESH_BINARY)\n",
    "    for j in range(1,476):            \n",
    "        os.chdir('/home/aijjeh/Desktop/num_cases/dataset2_labels_out/')\n",
    "        img = cv2.imread('m1_rand_single_delam_%d.png' %j, 0)\n",
    "        intersection = cv2.bitwise_and(img, gt)\n",
    "        intersection = np.count_nonzero(intersection)\n",
    "        union = cv2.bitwise_or(img,gt)\n",
    "        union = np.count_nonzero(union)\n",
    "        iou = intersection/union\n",
    "        if iou>0.9:\n",
    "            num_list.append(j) \n",
    "            print(j)"
   ]
  },
  {
   "cell_type": "code",
   "execution_count": 4,
   "id": "4a1f21e2",
   "metadata": {
    "scrolled": false
   },
   "outputs": [
    {
     "name": "stdout",
     "output_type": "stream",
     "text": [
      "[354, 140, 227, 430, 123, 281, 44, 249, 286, 323, 428, 473, 279, 282, 185, 457, 141, 460, 441, 41, 276, 425, 72, 466, 220, 394, 118, 132, 91, 67, 239, 100, 409, 237, 29, 289, 245, 102, 154, 202, 199, 462, 76, 51, 251, 151, 133, 318, 117, 343, 440, 108, 312, 231, 431, 57, 35, 322, 393, 260, 228, 157, 452, 196, 337, 142, 22, 451, 150, 242, 53, 468, 334, 374, 139, 395, 34, 398, 287, 192, 296, 417, 391, 156, 453, 377, 175, 128, 278, 48, 10, 408, 373, 291, 99]\n"
     ]
    }
   ],
   "source": [
    "print(num_list)"
   ]
  },
  {
   "cell_type": "code",
   "execution_count": 5,
   "id": "59574c35",
   "metadata": {},
   "outputs": [
    {
     "name": "stdout",
     "output_type": "stream",
     "text": [
      "95\n"
     ]
    }
   ],
   "source": [
    "print(len(num_list))"
   ]
  },
  {
   "cell_type": "code",
   "execution_count": null,
   "id": "6df0eb38",
   "metadata": {},
   "outputs": [],
   "source": []
  }
 ],
 "metadata": {
  "kernelspec": {
   "display_name": "Python 3 (ipykernel)",
   "language": "python",
   "name": "python3"
  },
  "language_info": {
   "codemirror_mode": {
    "name": "ipython",
    "version": 3
   },
   "file_extension": ".py",
   "mimetype": "text/x-python",
   "name": "python",
   "nbconvert_exporter": "python",
   "pygments_lexer": "ipython3",
   "version": "3.7.10"
  }
 },
 "nbformat": 4,
 "nbformat_minor": 5
}
