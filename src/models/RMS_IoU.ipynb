{
 "cells": [
  {
   "cell_type": "code",
   "execution_count": 11,
   "id": "8a860e57-8523-4a92-8dc8-2708a6db41b9",
   "metadata": {},
   "outputs": [],
   "source": [
    "import os\n",
    "from IPython.display import Image, display\n",
    "from tensorflow.keras.preprocessing.image import load_img\n",
    "import PIL\n",
    "from PIL import ImageOps\n",
    "from PIL import Image\n",
    "import re\n",
    "import numpy as np\n",
    "import tensorflow as tf\n",
    "import keras\n",
    "from keras import layers\n",
    "from tensorflow.python.client import device_lib\n",
    "import random\n",
    "from tensorflow.keras.models import Model\n",
    "from keras.models import load_model\n",
    "import matplotlib.pyplot as plt\n",
    "import matplotlib\n",
    "import cv2\n",
    "import csv\n",
    "from matplotlib.cm import ScalarMappable"
   ]
  },
  {
   "cell_type": "code",
   "execution_count": 12,
   "id": "866b4c5e-fa84-438a-91a8-c2d09b32e1eb",
   "metadata": {},
   "outputs": [],
   "source": [
    "os.environ[\"CUDA_DEVICE_ORDER\"] = \"PCI_BUS_ID\"\n",
    "os.environ[\"CUDA_VISIBLE_DEVICES\"] = '1'"
   ]
  },
  {
   "cell_type": "code",
   "execution_count": 27,
   "id": "60d19fd9-a9d6-4b7e-be60-d79d9ac28fe9",
   "metadata": {},
   "outputs": [],
   "source": [
    "def calc_IoU(predicted_image, truth_img):\n",
    "    predicted_image = np.asarray(predicted_image) # \n",
    "    predicted_image = predicted_image.astype('float64')\n",
    "    ret, predicted_image = cv2.threshold(predicted_image, .5, 1.0, cv2.THRESH_BINARY)\n",
    "    truth_img = np.asarray(truth_img)# \n",
    "    truth_img = truth_img.astype('float64')\n",
    "    # truth_img = truth_img[:,:]\n",
    "    InterSectionArray = cv2.bitwise_and(predicted_image, truth_img)\n",
    "    UnionArray = cv2.bitwise_or(predicted_image, truth_img)\n",
    "    I1 = np.count_nonzero(InterSectionArray)\n",
    "    U = np.count_nonzero(UnionArray)\n",
    "    IoU = I1 / U\n",
    "    return IoU"
   ]
  },
  {
   "cell_type": "code",
   "execution_count": 28,
   "id": "d8972f22-51dd-432d-ac19-047375781216",
   "metadata": {},
   "outputs": [],
   "source": [
    "os.chdir('/home/aijjeh/Desktop/Phd_Project/Full_wavefield_frames_time_series_project/AE_exp_results_frames_24_512_512/CFRP_teflon_3o_375_375p_50kHz_5HC_x12_15Vpp/RMS_iou/')"
   ]
  },
  {
   "cell_type": "code",
   "execution_count": 36,
   "id": "ec8f2e9d-5371-43df-8624-dd42f02e9052",
   "metadata": {},
   "outputs": [
    {
     "name": "stdout",
     "output_type": "stream",
     "text": [
      "(1181, 1181)\n"
     ]
    }
   ],
   "source": [
    "img = Image.open('L3_S4_B_333x333p_50kHz_5HC_18Vpp_x10_pzt_Ground_truth_0.png').convert('L')\n",
    "img.save('L3_S4_B_333x333p_50kHz_5HC_18Vpp_x10_pzt_Ground_truth_0.png')\n",
    "\n",
    "GT = plt.imread('L3_S4_B_333x333p_50kHz_5HC_18Vpp_x10_pzt_Ground_truth_0.png',1)\n",
    "print(GT.shape)"
   ]
  },
  {
   "cell_type": "code",
   "execution_count": 40,
   "id": "3d1f723a-6fc0-48bf-bee2-ce329118dffe",
   "metadata": {},
   "outputs": [
    {
     "name": "stdout",
     "output_type": "stream",
     "text": [
      "(1181, 1181)\n"
     ]
    }
   ],
   "source": [
    "img = Image.open('RMS_L3_S4_B_333x333p_50kHz_5HC_ijjeh_cmap_viridis_greyscale_THRESHOLDED.png').convert('L')\n",
    "img.save('RMS_L3_S4_B_333x333p_50kHz_5HC_ijjeh_cmap_viridis_greyscale_THRESHOLDED.png')\n",
    "\n",
    "output = plt.imread('RMS_L3_S4_B_333x333p_50kHz_5HC_ijjeh_cmap_viridis_greyscale_THRESHOLDED.png',1)\n",
    "print(GT.shape)"
   ]
  },
  {
   "cell_type": "code",
   "execution_count": 41,
   "id": "2b469e01-96d4-4a20-b1b2-2f9c23223fea",
   "metadata": {},
   "outputs": [],
   "source": [
    "iou = calc_IoU(output, GT)"
   ]
  },
  {
   "cell_type": "code",
   "execution_count": 42,
   "id": "41873c08-75bd-40cf-9c73-531cfe2d836a",
   "metadata": {},
   "outputs": [
    {
     "name": "stdout",
     "output_type": "stream",
     "text": [
      "0.23449655478995332\n"
     ]
    }
   ],
   "source": [
    "print(iou)"
   ]
  },
  {
   "cell_type": "code",
   "execution_count": null,
   "id": "e0b67145-3cb7-4154-b905-0eea6d459e63",
   "metadata": {},
   "outputs": [],
   "source": []
  }
 ],
 "metadata": {
  "kernelspec": {
   "display_name": "Python 3 (ipykernel)",
   "language": "python",
   "name": "python3"
  },
  "language_info": {
   "codemirror_mode": {
    "name": "ipython",
    "version": 3
   },
   "file_extension": ".py",
   "mimetype": "text/x-python",
   "name": "python",
   "nbconvert_exporter": "python",
   "pygments_lexer": "ipython3",
   "version": "3.7.10"
  }
 },
 "nbformat": 4,
 "nbformat_minor": 5
}
