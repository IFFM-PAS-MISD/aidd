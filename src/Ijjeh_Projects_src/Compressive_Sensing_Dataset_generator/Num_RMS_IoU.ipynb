{
 "cells": [
  {
   "cell_type": "code",
   "execution_count": 1,
   "id": "d9064474",
   "metadata": {},
   "outputs": [
    {
     "name": "stderr",
     "output_type": "stream",
     "text": [
      "2022-03-04 09:07:22.550366: I tensorflow/stream_executor/platform/default/dso_loader.cc:49] Successfully opened dynamic library libcudart.so.11.0\n",
      "Using TensorFlow backend.\n"
     ]
    }
   ],
   "source": [
    "import os\n",
    "from IPython.display import Image, display\n",
    "from tensorflow.keras.preprocessing.image import load_img\n",
    "import PIL\n",
    "from PIL import ImageOps\n",
    "from PIL import Image\n",
    "import re\n",
    "import numpy as np\n",
    "import tensorflow as tf\n",
    "import keras\n",
    "from keras import layers\n",
    "from tensorflow.python.client import device_lib\n",
    "import random\n",
    "from tensorflow.keras.models import Model\n",
    "from keras.models import load_model\n",
    "import matplotlib.pyplot as plt\n",
    "import matplotlib\n",
    "import cv2\n",
    "import csv\n",
    "from matplotlib.cm import ScalarMappable"
   ]
  },
  {
   "cell_type": "code",
   "execution_count": 7,
   "id": "970f7bea",
   "metadata": {},
   "outputs": [],
   "source": [
    "def calc_IoU(predicted_image, truth_img):\n",
    "    predicted_image = np.asarray(predicted_image).astype(np.uint8) \n",
    "    predicted_image = predicted_image/np.max(predicted_image)\n",
    "    predicted_image = predicted_image*255\n",
    "    predicted_image[predicted_image>=127] = 255\n",
    "    predicted_image[predicted_image<127] = 0\n",
    "    \n",
    "\n",
    "    truth_img = np.asarray(truth_img).astype(np.uint8)\n",
    "    truth_img = truth_img/np.max(truth_img)\n",
    "    truth_img = truth_img*255\n",
    "    truth_img[truth_img>=127] = 255\n",
    "    truth_img[truth_img<127] = 0\n",
    "    \n",
    "    InterSectionArray = np.bitwise_and(predicted_image.astype(np.uint8), truth_img.astype(np.uint8))\n",
    "    UnionArray = np.bitwise_or(predicted_image.astype(np.uint8), truth_img.astype(np.uint8))\n",
    "    I1 = np.count_nonzero(InterSectionArray)\n",
    "    U = np.count_nonzero(UnionArray)\n",
    "    IoU = I1 / U\n",
    "    \n",
    "    return IoU"
   ]
  },
  {
   "cell_type": "code",
   "execution_count": 8,
   "id": "b945de80",
   "metadata": {},
   "outputs": [],
   "source": [
    "os.chdir('/home/aijjeh/Desktop/Phd_Projects/compressive_sensing_project/Numerical_results_Full_wavefield/')\n",
    "case = 389"
   ]
  },
  {
   "cell_type": "code",
   "execution_count": 9,
   "id": "728126e9",
   "metadata": {},
   "outputs": [
    {
     "name": "stdout",
     "output_type": "stream",
     "text": [
      "(500, 500)\n"
     ]
    }
   ],
   "source": [
    "data = cv2.imread('Threshodled_Num_RMS_case_%d.png' % case,0)\n",
    "GT = cv2.resize(data, (500,500), interpolation=cv2.INTER_CUBIC) \n",
    "print(GT.shape)"
   ]
  },
  {
   "cell_type": "code",
   "execution_count": 10,
   "id": "12101868",
   "metadata": {},
   "outputs": [
    {
     "name": "stdout",
     "output_type": "stream",
     "text": [
      "(500, 500)\n"
     ]
    }
   ],
   "source": [
    "os.chdir('/aijjeh_odroid_sensors/aidd/data/raw/num/dataset2_labels_out/')\n",
    "\n",
    "data = cv2.imread('m1_rand_single_delam_%d.png' % case,0)\n",
    "output = cv2.resize(data, (500, 500), interpolation=cv2.INTER_CUBIC)\n",
    "\n",
    "print(output.shape)"
   ]
  },
  {
   "cell_type": "code",
   "execution_count": 11,
   "id": "7106e0d1",
   "metadata": {},
   "outputs": [],
   "source": [
    "iou = calc_IoU(output, GT)"
   ]
  },
  {
   "cell_type": "code",
   "execution_count": 12,
   "id": "c0268dd0",
   "metadata": {},
   "outputs": [
    {
     "name": "stdout",
     "output_type": "stream",
     "text": [
      "0.3695652173913043\n"
     ]
    }
   ],
   "source": [
    "print(iou)"
   ]
  },
  {
   "cell_type": "code",
   "execution_count": null,
   "id": "8a1f313e",
   "metadata": {},
   "outputs": [],
   "source": []
  }
 ],
 "metadata": {
  "kernelspec": {
   "display_name": "Python 3 (ipykernel)",
   "language": "python",
   "name": "python3"
  },
  "language_info": {
   "codemirror_mode": {
    "name": "ipython",
    "version": 3
   },
   "file_extension": ".py",
   "mimetype": "text/x-python",
   "name": "python",
   "nbconvert_exporter": "python",
   "pygments_lexer": "ipython3",
   "version": "3.7.10"
  }
 },
 "nbformat": 4,
 "nbformat_minor": 5
}
