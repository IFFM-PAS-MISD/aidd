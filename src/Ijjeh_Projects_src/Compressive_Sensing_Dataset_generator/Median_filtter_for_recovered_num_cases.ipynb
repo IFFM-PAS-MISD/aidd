{
 "cells": [
  {
   "cell_type": "code",
   "execution_count": null,
   "id": "2827b73d",
   "metadata": {},
   "outputs": [],
   "source": [
    "import numpy as np\n",
    "import matplotlib.pyplot as plt\n",
    "import matplotlib.patches as patches\n",
    "import os\n",
    "import cv2\n",
    "import numpy as np\n",
    "import math\n",
    "from PIL import Image, ImageFilter\n",
    "from pathlib import Path\n"
   ]
  },
  {
   "cell_type": "markdown",
   "id": "9c44abd5",
   "metadata": {},
   "source": [
    "# Median Filter to Numerical cases"
   ]
  },
  {
   "cell_type": "code",
   "execution_count": null,
   "id": "677ff44d",
   "metadata": {
    "scrolled": true
   },
   "outputs": [],
   "source": [
    "for test_case in range(381, 476):\n",
    "    \n",
    "    path1 = '/home/aijjeh/Desktop/Phd_Projects/compressive_sensing_project/Numerical_results_Full_wavefield/%d_output/' % test_case\n",
    "    path2 = '/home/aijjeh/Desktop/Phd_Projects/compressive_sensing_project/Numerical_results_Full_wavefield/median_filter_%d_output/' % test_case\n",
    "    \n",
    "    \n",
    "    for i in range(1,513):\n",
    "        os.chdir(path1)\n",
    "        image = cv2.imread('Ijjeh_SR_Pred_output_%d_frame_output_%d.png' % (i, test_case), 0)\n",
    "        new_image = cv2.medianBlur(image, 3)  \n",
    "        new_image = cv2.medianBlur(new_image, 3)  \n",
    "        Path(path2).mkdir(parents=True, exist_ok=True)\n",
    "        os.chdir(path2) \n",
    "        cv2.imwrite('Ijjeh_SR_Pred_output_%d_frame_output_%d.png' % (i, test_case), new_image)"
   ]
  },
  {
   "cell_type": "markdown",
   "id": "b04dbbe2",
   "metadata": {},
   "source": [
    "# Median Fillter to Experimental cases"
   ]
  },
  {
   "cell_type": "code",
   "execution_count": null,
   "id": "c95d13ce",
   "metadata": {},
   "outputs": [],
   "source": [
    "path_exp_1 = '/home/aijjeh/Desktop/Phd_Projects/compressive_sensing_project/Experimental/Uniform_mesh_2nd_model/Upated_version_FFT2D/'\n",
    "path_exp_2 = '/home/aijjeh/Desktop/Phd_Projects/compressive_sensing_project/Experimental/median_filter_output_exp/' \n",
    "\n",
    "for i in range(1,513):\n",
    "    os.chdir(path_exp_1)\n",
    "    image = cv2.imread('Ijjeh_SR_Pred_output_%d_frame_UNIFORM_MESH_custom_loss.png' % i, 0)\n",
    "    new_image = cv2.medianBlur(image, 3)  \n",
    "    new_image = cv2.medianBlur(new_image, 3)  \n",
    "    Path(path_exp_2).mkdir(parents=True, exist_ok=True)\n",
    "    os.chdir(path_exp_2) \n",
    "    cv2.imwrite('Ijjeh_SR_Pred_output_%d_frame_output_exp.png' % i, new_image)"
   ]
  },
  {
   "cell_type": "code",
   "execution_count": null,
   "id": "64209c84",
   "metadata": {},
   "outputs": [],
   "source": []
  }
 ],
 "metadata": {
  "kernelspec": {
   "display_name": "Python 3 (ipykernel)",
   "language": "python",
   "name": "python3"
  },
  "language_info": {
   "codemirror_mode": {
    "name": "ipython",
    "version": 3
   },
   "file_extension": ".py",
   "mimetype": "text/x-python",
   "name": "python",
   "nbconvert_exporter": "python",
   "pygments_lexer": "ipython3",
   "version": "3.7.10"
  }
 },
 "nbformat": 4,
 "nbformat_minor": 5
}
