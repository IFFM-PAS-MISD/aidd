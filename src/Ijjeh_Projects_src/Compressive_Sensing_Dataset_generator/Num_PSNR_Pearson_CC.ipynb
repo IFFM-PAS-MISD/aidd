{
 "cells": [
  {
   "cell_type": "code",
   "execution_count": 1,
   "id": "c31c874a",
   "metadata": {},
   "outputs": [],
   "source": [
    "import numpy as np\n",
    "import matplotlib.pyplot as plt\n",
    "import matplotlib.patches as patches\n",
    "import os\n",
    "import cv2\n",
    "import numpy as np\n",
    "import math\n",
    "from scipy.stats.stats import pearsonr\n",
    "from skimage.metrics import peak_signal_noise_ratio\n",
    "import csv\n",
    "from matplotlib.ticker import MultipleLocator\n",
    "from pathlib import Path\n"
   ]
  },
  {
   "cell_type": "code",
   "execution_count": 2,
   "id": "ba14a922",
   "metadata": {},
   "outputs": [],
   "source": [
    "def append_list_as_row(csv_file,num_case, f_num, value):\n",
    "    with open(csv_file, 'a', newline='') as f:\n",
    "        writer = csv.writer(f)\n",
    "        writer.writerows([num_case])\n",
    "        writer.writerows([f_num])\n",
    "        writer.writerows([value])\n"
   ]
  },
  {
   "cell_type": "code",
   "execution_count": 3,
   "id": "c12d84c1",
   "metadata": {},
   "outputs": [],
   "source": [
    "def calculate_psnr(img1, img2):\n",
    "    # img1 and img2 have range [0, 255]\n",
    "    img1 = img1.astype(np.float64)\n",
    "    img2 = img2.astype(np.float64)\n",
    "    mse = np.mean((img1 - img2)**2)\n",
    "    if mse == 0:\n",
    "        return float('inf')\n",
    "    return 20 * math.log10(255.0 / math.sqrt(mse))"
   ]
  },
  {
   "cell_type": "code",
   "execution_count": 4,
   "id": "111d47aa",
   "metadata": {},
   "outputs": [],
   "source": [
    "def normalize(y_true, y_pred):\n",
    "    # cast the target images to integer\n",
    "    y_true = y_true * 255.0\n",
    "    y_true = y_true.astype(np.uint8)\n",
    "    y_true = np.clip(y_true, 0, 255)\n",
    "    \n",
    "    # cast the predicted images to integer\n",
    "    y_pred = y_pred * 255.0\n",
    "    y_pred = y_pred.astype(np.uint8)\n",
    "    y_pred = np.clip(y_pred, 0, 255)\n",
    "    # return the psnr\n",
    "    return y_true, y_pred"
   ]
  },
  {
   "cell_type": "code",
   "execution_count": 5,
   "id": "8e385f08",
   "metadata": {},
   "outputs": [
    {
     "name": "stdout",
     "output_type": "stream",
     "text": [
      "127\n",
      "154\n",
      "159\n",
      "211\n"
     ]
    }
   ],
   "source": [
    "os.chdir(\n",
    "    '/home/aijjeh/Desktop/Phd_Projects/Sequence_prediction/Full_wavefield_frames_time_series_project/Datasets/label_set')\n",
    "f_start = np.load('frames_initial.npy')\n",
    "print(f_start[396])\n",
    "print(f_start[437])\n",
    "print(f_start[447])\n",
    "print(f_start[455])"
   ]
  },
  {
   "cell_type": "code",
   "execution_count": 6,
   "id": "ecb13ab6",
   "metadata": {},
   "outputs": [],
   "source": [
    "os.chdir('/home/aijjeh/Desktop/Phd_Projects/Sequence_prediction/Sequence_to_sequence/Dataset_Full_wavefield_outputs_bottom')\n",
    "c = np.load('labels_centers.npy')"
   ]
  },
  {
   "cell_type": "code",
   "execution_count": 7,
   "id": "5f042f6c",
   "metadata": {},
   "outputs": [],
   "source": [
    "os.chdir('/home/aijjeh/Desktop/Phd_Projects/compressive_sensing_project/Numerical/num_csv_files_PSNR_Pearson')\n",
    "psnr_damage = 'PSNR_at_delamination_area.csv'\n",
    "psnr_full = 'PSNR_full_area.csv'\n",
    "pearson_damage = 'Pearson_at_delamination_area.csv'\n",
    "pearson_full = 'Pearson_full_area.csv'"
   ]
  },
  {
   "cell_type": "markdown",
   "id": "a8047769",
   "metadata": {},
   "source": [
    "# Enter case num"
   ]
  },
  {
   "cell_type": "code",
   "execution_count": 8,
   "id": "8bdd71ae",
   "metadata": {
    "scrolled": true
   },
   "outputs": [
    {
     "name": "stdout",
     "output_type": "stream",
     "text": [
      "[104. 112.]\n",
      "case : 397\n",
      "[  4. 226.]\n",
      "case : 438\n",
      "[181.   4.]\n",
      "case : 448\n",
      "[ 5. 14.]\n",
      "case : 456\n"
     ]
    }
   ],
   "source": [
    "caselist = [397, 438, 448, 456]\n",
    "for case in caselist:\n",
    "    print(c[case-1])\n",
    "    PSNR = []\n",
    "    Pearson_CC = []\n",
    "    frames = []\n",
    "    print('case :', case)\n",
    "    for f in range(1,513):        \n",
    "        frames.append(f)              \n",
    "        \n",
    "        ############################################################################################################\n",
    "        ## Numerical test cases\n",
    "        ############################################################################################################\n",
    "        os.chdir('/aijjeh_odroid_sensors/aidd/data/raw/num/wavefield_dataset2_bottom_out/%d_output/' %case)\n",
    "        ref_data = cv2.imread('%d_flat_shell_Vz_%d_500x500bottom.png' %(f, case), 0)        \n",
    "        ref_data = cv2.resize(ref_data, (512,512), interpolation=cv2.INTER_CUBIC)\n",
    "        os.chdir('/home/aijjeh/Desktop/Phd_Projects/compressive_sensing_project/Numerical/Numerical_results_Full_wavefield/%d_output/' %case)\n",
    "        pred_data = cv2.imread('Ijjeh_SR_Pred_output_%d_frame_output_%d.png' %(f, case), 0)\n",
    "        ############################################################################################################\n",
    "        \n",
    "        ref_img = np.asarray(ref_data, dtype=np.uint8)         \n",
    "        pred_img = np.asarray(pred_data, dtype=np.uint8)\n",
    "        \n",
    "        # # Comment / Uncomment to generate the damage area\n",
    "        # if c[case-1][0]<=50 and c[case-1][1]<=50:\n",
    "        #     ref_img = ref_img[0:100, 0:100]\n",
    "        #     pred_img = pred_img[0:100, 0:100]\n",
    "        # elif c[case-1][0]<=50 and c[case-1][1]>50:\n",
    "        #     ref_img = ref_img[0:100, c[case-1][1]-50:c[case-1][1]+50]\n",
    "        #     pred_img = pred_img[0:100, c[case-1][1]-50:c[case-1][1]+50]\n",
    "        # elif c[case-1][0]>50 and c[case-1][1]<=50:\n",
    "        #     ref_img = ref_img[c[case-1][0]-50:c[case-1][0]+50, 0:100]\n",
    "        #     pred_img = pred_img[c[case-1][0]-50:c[case-1][0]+50, 0:100]\n",
    "        # else:\n",
    "        #     ref_img = ref_img[c[case-1][0]-50:c[case-1][0]+50, c[case-1][1]-50:c[case-1][1]+50]\n",
    "        #     pred_img = pred_img[c[case-1][0]-50:c[case-1][0]+50, c[case-1][1]-50:c[case-1][1]+50  \n",
    "        # \n",
    "        # ref_img = ref_img - np.mean(ref_img)\n",
    "        # pred_img = pred_img - np.mean(pred_img)\n",
    "                                \n",
    "        temp_pearson = np.corrcoef(ref_img.flat, pred_img.flat)\n",
    "        Pearson_CC.append(temp_pearson[0][1])\n",
    "        \n",
    "        # ref_img, pred_img = normalize(ref_img, pred_img)\n",
    "        \n",
    "        \n",
    "        temp_psnr = peak_signal_noise_ratio(ref_img, pred_img, data_range=255)\n",
    "        PSNR.append(temp_psnr)\n",
    "    \n",
    "        \n",
    "        fig = plt.figure(figsize=(1, 1), dpi=512)  \n",
    "        ax = fig.add_subplot(111)\n",
    "        \n",
    "        # Select what to show  ref_img / pred_img\n",
    "        ax.imshow(ref_img)  \n",
    "        ax.axis('off')\n",
    "        # plt.show()\n",
    "        \n",
    "        # Comment / Uncomment to generate full frames of localised damage\n",
    "        if c[case-1][0]<=50 and c[case-1][1]<=50:\n",
    "            ax.add_patch(patches.Rectangle((0, 0), 100, 100, linewidth=0.125, edgecolor='k', facecolor='none'))             \n",
    "        elif c[case-1][0]<=50 and c[case-1][1]>50:\n",
    "            ax.add_patch(patches.Rectangle((c[case-1][1]-50, 0), 100, 100, linewidth=0.125, edgecolor='k', facecolor='none')) \n",
    "        elif c[case-1][0]>50 and c[case-1][1]<=50:\n",
    "            ax.add_patch(patches.Rectangle((0, c[case-1][0]-50), 100, 100, linewidth=0.125, edgecolor='k', facecolor='none')) \n",
    "        else:\n",
    "            ax.add_patch(patches.Rectangle((c[case-1][1]-50, c[case-1][0]-50), 100, 100, linewidth=0.125, edgecolor='k', facecolor='none')) \n",
    "               \n",
    "        \n",
    "        \n",
    "        ##########################################################################################################\n",
    "        path = '/home/aijjeh/Desktop/Phd_Projects/compressive_sensing_project/Numerical/num_delamination_full_frame//%d_output/' % case\n",
    "        Path(path).mkdir(parents=True, exist_ok=True)\n",
    "        os.chdir(path)\n",
    "        fig.savefig('output_%d_frame_%d_full_frame_GT.png' %(case, f),bbox_inches='tight', transparent=\"True\", pad_inches=0)\n",
    "        plt.close('all')\n",
    "    \n",
    "    ####################################################################################################\n",
    "                                \n",
    "    os.chdir('/home/aijjeh/Desktop/Phd_Projects/compressive_sensing_project/Numerical/num_csv_files_PSNR_Pearson/')\n",
    "    # append_list_as_row(psnr_full, [case],frames, PSNR)\n",
    "    # append_list_as_row(pearson_full, [case],frames, Pearson_CC)\n",
    "    ##################################################################################################\n",
    "    \n",
    "    os.chdir('/home/aijjeh/Desktop/Phd_Projects/compressive_sensing_project/Numerical/num_PSNR_Pearson_figs/')    \n",
    "    plt.figure(figsize=(20/2.53,10/2.53), dpi=600)\n",
    "    plt.plot(Pearson_CC)\n",
    "    plt.xlabel('frame')\n",
    "    plt.ylabel('Pearson CC')\n",
    "    plt.savefig(\"Ijjeh_Pearson_CC_num_case_%d_512_frames_full.png\" % case)\n",
    "    ##################################################################################################\n",
    "    \n",
    "    plt.figure(figsize=(20/2.53,10/2.53), dpi=600)\n",
    "    plt.plot(PSNR)\n",
    "    plt.xlabel('frame')\n",
    "    plt.ylabel('PSNR')\n",
    "    plt.savefig(\"Ijjeh_PSNR_num_case_%d_512_frames_full.png\" % case)\n",
    "    plt.close('all')\n"
   ]
  },
  {
   "cell_type": "code",
   "execution_count": null,
   "id": "cca36057",
   "metadata": {},
   "outputs": [],
   "source": []
  }
 ],
 "metadata": {
  "kernelspec": {
   "display_name": "Python 3 (ipykernel)",
   "language": "python",
   "name": "python3"
  },
  "language_info": {
   "codemirror_mode": {
    "name": "ipython",
    "version": 3
   },
   "file_extension": ".py",
   "mimetype": "text/x-python",
   "name": "python",
   "nbconvert_exporter": "python",
   "pygments_lexer": "ipython3",
   "version": "3.7.10"
  }
 },
 "nbformat": 4,
 "nbformat_minor": 5
}
