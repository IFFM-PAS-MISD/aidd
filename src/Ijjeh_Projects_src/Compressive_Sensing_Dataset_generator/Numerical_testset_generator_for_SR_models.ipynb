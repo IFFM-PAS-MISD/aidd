{
 "cells": [
  {
   "cell_type": "code",
   "execution_count": null,
   "id": "81e01883",
   "metadata": {},
   "outputs": [],
   "source": [
    "import csv\n",
    "import gc\n",
    "import cv2\n",
    "from tensorflow import keras\n",
    "import numpy as np\n",
    "from keras.models import load_model\n",
    "import matplotlib.pyplot as plt\n",
    "import neptune\n",
    "from tensorflow.python.client import device_lib\n",
    "from PIL import Image\n",
    "import tensorflow as tf\n",
    "import os\n",
    "from keras.layers import LeakyReLU\n",
    "from pathlib import Path\n",
    "from decouple import config\n",
    "import matplotlib\n",
    "from matplotlib import cm\n",
    "import itertools\n",
    "from pathlib import Path\n",
    "from scipy.io import savemat"
   ]
  },
  {
   "cell_type": "code",
   "execution_count": null,
   "id": "bf6debc6",
   "metadata": {},
   "outputs": [],
   "source": [
    "for j in range(381,476):\n",
    "    print(j)\n",
    "    samples = []   \n",
    "    labels = []\n",
    "    os.chdir('/aijjeh_odroid_sensors/aidd/data/raw/num/wavefield_dataset2_bottom_out/%d_output/' %j)\n",
    "    for i in range(1,513):        \n",
    "        data = cv2.imread('%d_flat_shell_Vz_%d_500x500bottom.png' %(i, j), 0) \n",
    "        img = cv2.resize(data, (32,32), interpolation=cv2.INTER_CUBIC) \n",
    "        samples.append(img)\n",
    "        GT = cv2.resize(data, (512,512), interpolation=cv2.INTER_CUBIC)\n",
    "        labels.append(GT)\n",
    "\n",
    "    samples = np.asarray(samples)    \n",
    "    samples = np.reshape(samples, (512, 32, 32, 1))\n",
    "    samples = samples.astype('float32')\n",
    "    samples = samples / 255.0          \n",
    "        \n",
    "    labels = np.asarray(labels)    \n",
    "    labels = np.reshape(labels, (512, 512, 512, 1))\n",
    "    labels = labels.astype('float32')\n",
    "    labels = labels / 255.0      \n",
    "\n",
    "    os.chdir('/home/aijjeh/Desktop/Phd_Projects/compressive_sensing_project/Numerical_test_set/')\n",
    "    np.save('Sample_Num_output_case_%d' %j, samples)\n",
    "    np.save('GT_Num_output_case_%d' %j, labels)"
   ]
  },
  {
   "cell_type": "code",
   "execution_count": null,
   "id": "17522242",
   "metadata": {},
   "outputs": [],
   "source": []
  },
  {
   "cell_type": "code",
   "execution_count": null,
   "id": "ed1902f3",
   "metadata": {},
   "outputs": [],
   "source": []
  },
  {
   "cell_type": "code",
   "execution_count": null,
   "id": "7fff1f76",
   "metadata": {},
   "outputs": [],
   "source": []
  }
 ],
 "metadata": {
  "kernelspec": {
   "display_name": "Python 3 (ipykernel)",
   "language": "python",
   "name": "python3"
  },
  "language_info": {
   "codemirror_mode": {
    "name": "ipython",
    "version": 3
   },
   "file_extension": ".py",
   "mimetype": "text/x-python",
   "name": "python",
   "nbconvert_exporter": "python",
   "pygments_lexer": "ipython3",
   "version": "3.7.10"
  }
 },
 "nbformat": 4,
 "nbformat_minor": 5
}
