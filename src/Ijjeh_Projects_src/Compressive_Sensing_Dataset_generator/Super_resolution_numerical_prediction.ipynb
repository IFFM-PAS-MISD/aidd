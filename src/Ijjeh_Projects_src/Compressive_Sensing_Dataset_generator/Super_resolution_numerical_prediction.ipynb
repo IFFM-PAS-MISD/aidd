{
 "cells": [
  {
   "cell_type": "code",
   "execution_count": null,
   "id": "d95030d0",
   "metadata": {},
   "outputs": [],
   "source": [
    "import csv\n",
    "import gc\n",
    "import cv2\n",
    "from tensorflow import keras\n",
    "import numpy as np\n",
    "from keras.models import load_model\n",
    "import matplotlib.pyplot as plt\n",
    "import neptune\n",
    "from tensorflow.python.client import device_lib\n",
    "from PIL import Image\n",
    "import tensorflow as tf\n",
    "import os\n",
    "from keras.layers import LeakyReLU\n",
    "from decouple import config\n",
    "import matplotlib\n",
    "from matplotlib import cm\n",
    "import itertools\n",
    "from pathlib import Path\n",
    "from scipy.io import savemat"
   ]
  },
  {
   "cell_type": "code",
   "execution_count": null,
   "id": "1b69a084",
   "metadata": {},
   "outputs": [],
   "source": [
    "os.environ[\"CUDA_DEVICE_ORDER\"] = \"PCI_BUS_ID\"\n",
    "os.environ[\"CUDA_VISIBLE_DEVICES\"] = '1'\n",
    "print(device_lib.list_local_devices())"
   ]
  },
  {
   "cell_type": "code",
   "execution_count": null,
   "id": "36b9fdcc",
   "metadata": {},
   "outputs": [],
   "source": [
    "########################################################################################################################\n",
    "# Ijjeh Model\n",
    "########################################################################################################################\n",
    "os.chdir('/home/aijjeh/Desktop/Phd_Projects/compressive_sensing_project/h5_models/')\n",
    "new_dim = 32\n",
    "CR = (new_dim ** 2) / (69 ** 2)  # Compression Ratio\n",
    "rescale_factor = int(512 / new_dim)\n",
    "\n",
    "# model_name = 'super_resolution_AE_rescale_factor_%d_Uniform_grid_32_32_input.h5' % rescale_fact$or\n",
    "model_name = 'super_resolution_AE_rescale_factor_%d_Uniform_grid_32_32_adding_GRL.h5' % rescale_factor  # Used in DLSS paper\n",
    "# model_name = 'super_resolution_AE_rescale_factor_%d_Uniform_grid_32_32_adding_GRL_custom_loss_FFT2D.h5'% rescale_factor\n",
    "model = load_model(model_name, compile=False)\n",
    "model.summary()\n",
    "\n",
    "########################################################################################################################\n",
    "# Saeed Model\n",
    "########################################################################################################################\n",
    "# os.chdir('/home/aijjeh/Desktop/Phd_Projects/compressive_sensing_project/Saeed_model/h5_model')\n",
    "# new_dim = 32\n",
    "# CR = (new_dim ** 2) / (69 ** 2)  # Compression Ratio\n",
    "# rescale_factor = int(512 / new_dim)\n",
    "# model_name = 'Sub_pix_latest.h5'\n",
    "# model = load_model(model_name, compile=False)\n",
    "# model.summary()\n",
    "########################################################################################################################"
   ]
  },
  {
   "cell_type": "code",
   "execution_count": null,
   "id": "4e543266",
   "metadata": {},
   "outputs": [],
   "source": [
    "########################################################################################################################\n",
    "# Load dataset\n",
    "########################################################################################################################\n",
    "\n",
    "def load_dataset(x):    \n",
    "    os.chdir('/home/aijjeh/Desktop/Phd_Projects/compressive_sensing_project/Numerical/Numerical_test_set/')            \n",
    "    Full_W_dataset = np.load('GT_Num_output_case_%d.npy' % x)\n",
    "    CS_arr = np.load('Sample_Num_output_case_%d.npy' % x)    \n",
    "    return CS_arr, Full_W_dataset  "
   ]
  },
  {
   "cell_type": "code",
   "execution_count": null,
   "id": "0ad593a8",
   "metadata": {},
   "outputs": [],
   "source": [
    "def testing():   \n",
    "    for test_case in [438, 448, 456, 475]:\n",
    "        x_test, y_test = load_dataset(test_case)                        \n",
    "        prediction = model.predict(x_test, batch_size=1)\n",
    "        prediction = np.asarray(prediction)\n",
    "        frames = x_test.shape[0]        \n",
    "        print(test_case)\n",
    "        for i in range(frames):\n",
    "            SR_pred = prediction[i].astype('float32')            \n",
    "            original = x_test[i].astype('float32')\n",
    "            GT_label_input = y_test[i].astype('float32')\n",
    "            ############################################################################################################\n",
    "            # plt.figure(figsize=(1, 1), dpi=512)\n",
    "            # plt.gca().set_axis_off()\n",
    "            # plt.axis('off')\n",
    "            # plt.subplots_adjust(left=0.0, bottom=0.0, right=1, top=1.0, wspace=0.0, hspace=0.0)\n",
    "            # plt.margins(0, 0)\n",
    "            # plt.gca().xaxis.set_major_locator(plt.NullLocator())\n",
    "            # plt.gca().yaxis.set_major_locator(plt.NullLocator())\n",
    "            ############################################################################################################          \n",
    "            # SR_pred = SR_pred * 255\n",
    "            # SR_pred= SR_pred.astype(np.uint8)\n",
    "            # plt.imshow(SR_pred)        \n",
    "            # plt.axis('off')\n",
    "            # plt.close('all')\n",
    "            path = '/home/aijjeh/Desktop/Phd_Projects/compressive_sensing_project/Numerical/Num_mat_files/%d_output/' % test_case\n",
    "            # path = '/home/aijjeh/Desktop/Phd_Projects/compressive_sensing_project/Numerical/Numerical_results_Full_wavefield/%d_output/' % test_case\n",
    "            Path(path).mkdir(parents=True, exist_ok=True)\n",
    "            os.chdir(path)  \n",
    "            # SR_pred_mat = np.asmatrix(SR_pred)\n",
    "            temp = {'f': SR_pred}\n",
    "            savemat('SR_num_pred_output_%d_frame_%d.mat' % (i+1, test_case), temp)\n",
    "            # print(np.max(SR_pred_mat))\n",
    "            # cv2.imwrite('SR_Pred_output_%d_frame_output_%d.png' % (i+1, test_case), SR_pred)\n",
    "            # cv2.imwrite('Ijjeh_SR_Pred_output_%d_frame_output_%d.png' % (i+1, test_case), SR_pred)\n",
    "           "
   ]
  },
  {
   "cell_type": "code",
   "execution_count": null,
   "id": "482b7167",
   "metadata": {
    "scrolled": true
   },
   "outputs": [],
   "source": [
    "if __name__ == '__main__':\n",
    "    testing()"
   ]
  },
  {
   "cell_type": "code",
   "execution_count": null,
   "id": "fff4423b",
   "metadata": {},
   "outputs": [],
   "source": [
    "import scipy.io\n",
    "os.chdir('/home/aijjeh/Desktop/Phd_Projects/compressive_sensing_project/Numerical/Num_mat_files/438_output/')\n",
    "\n",
    "mat = scipy.io.loadmat('SR_num_pred_output_104_frame_438.mat')"
   ]
  },
  {
   "cell_type": "code",
   "execution_count": null,
   "id": "051d6db2",
   "metadata": {},
   "outputs": [],
   "source": [
    "print(mat)"
   ]
  },
  {
   "cell_type": "code",
   "execution_count": null,
   "id": "f7c90145",
   "metadata": {},
   "outputs": [],
   "source": []
  }
 ],
 "metadata": {
  "kernelspec": {
   "display_name": "Python 3 (ipykernel)",
   "language": "python",
   "name": "python3"
  },
  "language_info": {
   "codemirror_mode": {
    "name": "ipython",
    "version": 3
   },
   "file_extension": ".py",
   "mimetype": "text/x-python",
   "name": "python",
   "nbconvert_exporter": "python",
   "pygments_lexer": "ipython3",
   "version": "3.7.10"
  }
 },
 "nbformat": 4,
 "nbformat_minor": 5
}
