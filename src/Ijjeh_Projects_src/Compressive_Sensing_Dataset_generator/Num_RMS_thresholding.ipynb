{
 "cells": [
  {
   "cell_type": "code",
   "execution_count": 1,
   "id": "34cf3d47",
   "metadata": {},
   "outputs": [
    {
     "name": "stderr",
     "output_type": "stream",
     "text": [
      "2022-06-17 20:51:10.193799: I tensorflow/stream_executor/platform/default/dso_loader.cc:49] Successfully opened dynamic library libcudart.so.11.0\n",
      "Using TensorFlow backend.\n"
     ]
    }
   ],
   "source": [
    "import os\n",
    "from IPython.display import Image, display\n",
    "from tensorflow.keras.preprocessing.image import load_img\n",
    "import PIL\n",
    "from PIL import ImageOps\n",
    "from PIL import Image\n",
    "import re\n",
    "import numpy as np\n",
    "import tensorflow as tf\n",
    "import keras\n",
    "from keras import layers\n",
    "from tensorflow.python.client import device_lib\n",
    "import random\n",
    "from tensorflow.keras.models import Model\n",
    "from keras.models import load_model\n",
    "import matplotlib.pyplot as plt\n",
    "import matplotlib\n",
    "import cv2\n",
    "import csv\n",
    "from matplotlib.cm import ScalarMappable"
   ]
  },
  {
   "cell_type": "code",
   "execution_count": 10,
   "id": "7f9c8743",
   "metadata": {},
   "outputs": [],
   "source": []
  },
  {
   "cell_type": "code",
   "execution_count": 21,
   "id": "fb73e6d0",
   "metadata": {},
   "outputs": [
    {
     "name": "stdout",
     "output_type": "stream",
     "text": [
      "0.78463745\n"
     ]
    }
   ],
   "source": [
    "os.chdir('/home/aijjeh/Desktop/Phd_Projects/compressive_sensing_project/Numerical/filtered/num_RMS')\n",
    "case = 475\n",
    "img = plt.imread('Num_RMS_case_%d.png' % case, 0)\n",
    "print(np.mean(img))\n",
    "\n",
    "path_to_csv = '/home/aijjeh/aijjeh_rexio_share/PhD/cmap_flipped_jet256.csv'\n",
    "cmap = matplotlib.colors.ListedColormap([\"blue\", \"green\", \"red\"], name=path_to_csv, N=None)"
   ]
  },
  {
   "cell_type": "code",
   "execution_count": 22,
   "id": "62a1375e",
   "metadata": {},
   "outputs": [],
   "source": [
    "# img[img<1] = 0\n",
    "# img[img>=1] = 255"
   ]
  },
  {
   "cell_type": "code",
   "execution_count": 23,
   "id": "dd5e80fa",
   "metadata": {},
   "outputs": [],
   "source": [
    "# img = plt.imread('RMS_CFRP_teflon_3o_375_375p_50kHz_5HC_ijjeh_cmap_viridis_greyscale.png',1)\n",
    "# print(img.shape)"
   ]
  },
  {
   "cell_type": "code",
   "execution_count": 24,
   "id": "a5c2d0b4",
   "metadata": {},
   "outputs": [],
   "source": [
    "ret, img = cv2.threshold(img, np.mean(img), 1.0, cv2.THRESH_BINARY)"
   ]
  },
  {
   "cell_type": "code",
   "execution_count": 25,
   "id": "ad06b09e",
   "metadata": {},
   "outputs": [
    {
     "data": {
      "image/png": "[encoded data removed]",
      "text/plain": [
       "<Figure size 768x768 with 1 Axes>"
      ]
     },
     "metadata": {},
     "output_type": "display_data"
    },
    {
     "data": {
      "text/plain": [
       "<Figure size 432x288 with 0 Axes>"
      ]
     },
     "metadata": {},
     "output_type": "display_data"
    }
   ],
   "source": [
    "############################################################################################################\n",
    "plt.figure(figsize=(1.5,1.5), dpi=512)\n",
    "plt.gca().set_axis_off()\n",
    "plt.axis('off')\n",
    "plt.subplots_adjust(left=0.0, bottom=0.0, right=1, top=1.0, wspace=0.0, hspace=0.0)\n",
    "plt.margins(0, 0)\n",
    "plt.gca().xaxis.set_major_locator(plt.NullLocator())\n",
    "plt.gca().yaxis.set_major_locator(plt.NullLocator())\n",
    "# #############################################################################################################\n",
    "# os.chdir('/home/aijjeh/Desktop/Phd_Projects/compressive_sensing_project/Numerical_results_Full_wavefield/')\n",
    "os.chdir('/home/aijjeh/Desktop/Phd_Projects/compressive_sensing_project/Numerical/filtered/Thresholded_RMS_num/')\n",
    "plt.imshow(img, cmap=cmap)\n",
    "plt.show()\n",
    "plt.savefig('Threshodled_Num_RMS_case_%d.png' % case,bbox_inches='tight', transparent=\"True\", pad_inches=0)"
   ]
  },
  {
   "cell_type": "code",
   "execution_count": null,
   "id": "b54a6f4c",
   "metadata": {},
   "outputs": [],
   "source": []
  },
  {
   "cell_type": "code",
   "execution_count": null,
   "id": "f260ce28",
   "metadata": {},
   "outputs": [],
   "source": []
  },
  {
   "cell_type": "code",
   "execution_count": null,
   "id": "6fc66777",
   "metadata": {},
   "outputs": [],
   "source": []
  }
 ],
 "metadata": {
  "kernelspec": {
   "display_name": "Python 3 (ipykernel)",
   "language": "python",
   "name": "python3"
  },
  "language_info": {
   "codemirror_mode": {
    "name": "ipython",
    "version": 3
   },
   "file_extension": ".py",
   "mimetype": "text/x-python",
   "name": "python",
   "nbconvert_exporter": "python",
   "pygments_lexer": "ipython3",
   "version": "3.7.10"
  }
 },
 "nbformat": 4,
 "nbformat_minor": 5
}
