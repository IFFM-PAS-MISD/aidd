{
 "cells": [
  {
   "cell_type": "code",
   "execution_count": null,
   "id": "d95030d0",
   "metadata": {},
   "outputs": [],
   "source": [
    "import csv\n",
    "import gc\n",
    "import cv2\n",
    "from tensorflow import keras\n",
    "import numpy as np\n",
    "from keras.models import load_model\n",
    "import matplotlib.pyplot as plt\n",
    "import neptune\n",
    "from tensorflow.python.client import device_lib\n",
    "from PIL import Image\n",
    "import tensorflow as tf\n",
    "import os\n",
    "from keras.layers import LeakyReLU\n",
    "from pathlib import Path\n",
    "from decouple import config\n",
    "import matplotlib\n",
    "from matplotlib import cm\n",
    "import itertools\n",
    "from pathlib import Path\n",
    "from scipy.io import savemat"
   ]
  },
  {
   "cell_type": "code",
   "execution_count": null,
   "id": "1b69a084",
   "metadata": {},
   "outputs": [],
   "source": [
    "os.environ[\"CUDA_DEVICE_ORDER\"] = \"PCI_BUS_ID\"\n",
    "os.environ[\"CUDA_VISIBLE_DEVICES\"] = '1'\n",
    "print(device_lib.list_local_devices())"
   ]
  },
  {
   "cell_type": "code",
   "execution_count": null,
   "id": "4e543266",
   "metadata": {},
   "outputs": [],
   "source": [
    "########################################################################################################################\n",
    "# Load dataset\n",
    "########################################################################################################################\n",
    "case_num = 390\n",
    "def load_dataset():    \n",
    "    \n",
    "    os.chdir('/home/aijjeh/Desktop/Phd_Projects/compressive_sensing_project/Numerical_test_set/')            \n",
    "    Full_W_dataset = np.load('GT_Num_output_case_%d.npy' % case_num)\n",
    "    print(Full_W_dataset.shape)\n",
    "    CS_arr = np.load('Sample_Num_output_case_%d.npy' % case_num)\n",
    "    print(CS_arr.shape)\n",
    "    x_test = CS_arr\n",
    "    y_test = Full_W_dataset    \n",
    "    return x_test, y_test  "
   ]
  },
  {
   "cell_type": "code",
   "execution_count": null,
   "id": "36b9fdcc",
   "metadata": {},
   "outputs": [],
   "source": [
    "########################################################################################################################\n",
    "os.chdir('/home/aijjeh/Desktop/Phd_Projects/compressive_sensing_project/Saeed_model/h5_model')\n",
    "new_dim = 32\n",
    "CR = (new_dim ** 2) / (69 ** 2)  # Compression Ratio\n",
    "rescale_factor = int(512 / new_dim)\n",
    "model_name = 'Sub_pix_latest.h5' \n",
    "model = load_model(model_name, compile=False)\n",
    "model.summary()\n"
   ]
  },
  {
   "cell_type": "code",
   "execution_count": null,
   "id": "0ad593a8",
   "metadata": {},
   "outputs": [],
   "source": [
    "def testing():   \n",
    "    x_test, y_test = load_dataset()                 \n",
    "    print(x_test.shape)\n",
    "    print(y_test.shape)\n",
    "    \n",
    "    prediction = model.predict(x_test, batch_size=1)\n",
    "    prediction = np.asarray(prediction)\n",
    "    frames = x_test.shape[0]\n",
    "    \n",
    "    print(frames)\n",
    "    for i in range(frames):\n",
    "        SR_pred = prediction[i].astype('float32')            \n",
    "        original = x_test[i].astype('float32')\n",
    "        GT_label_input = y_test[i].astype('float32')\n",
    "        ############################################################################################################\n",
    "        plt.figure(figsize=(1, 1), dpi=512)\n",
    "        plt.gca().set_axis_off()\n",
    "        plt.axis('off')\n",
    "        plt.subplots_adjust(left=0.0, bottom=0.0, right=1, top=1.0, wspace=0.0, hspace=0.0)\n",
    "        plt.margins(0, 0)\n",
    "        plt.gca().xaxis.set_major_locator(plt.NullLocator())\n",
    "        plt.gca().yaxis.set_major_locator(plt.NullLocator())\n",
    "        ############################################################################################################          \n",
    "        SR_pred = SR_pred * 255.0\n",
    "        # SR_pred= SR_pred.astype(np.float32)\n",
    "        plt.imshow(SR_pred)        \n",
    "        plt.axis('off')\n",
    "\n",
    "        path = '/home/aijjeh/Desktop/Phd_Projects/compressive_sensing_project/Saeed_model/num/%d_output/' % case_num\n",
    "        Path(path).mkdir(parents=True, exist_ok=True)\n",
    "        os.chdir(path)      \n",
    "        #cv2.imwrite('SR_Pred_output_%d_frame_output_%d.png' % (i+1, case_num), SR_pred)\n",
    "        plt.savefig('Saeed_SR_Pred_frame_%d_output_%d.png' % (i+1, case_num))\n",
    "        plt.close('all')"
   ]
  },
  {
   "cell_type": "code",
   "execution_count": null,
   "id": "482b7167",
   "metadata": {
    "scrolled": true
   },
   "outputs": [],
   "source": [
    "if __name__ == '__main__':\n",
    "    testing()"
   ]
  },
  {
   "cell_type": "code",
   "execution_count": null,
   "id": "2d4c733b",
   "metadata": {},
   "outputs": [],
   "source": [
    "# os.chdir('/home/aijjeh/Desktop/Phd_Projects/compressive_sensing_project/Numerical_results_Full_wavefield/381_output/')\n",
    "# for i in range(1, 513):\n",
    "#     data = cv2.imread('SR_Pred_output_%d_frame_output_381.png' % i, 0)\n",
    "#     print(np.max(data))"
   ]
  },
  {
   "cell_type": "code",
   "execution_count": null,
   "id": "4fe0edb5",
   "metadata": {},
   "outputs": [],
   "source": []
  }
 ],
 "metadata": {
  "kernelspec": {
   "display_name": "Python 3 (ipykernel)",
   "language": "python",
   "name": "python3"
  },
  "language_info": {
   "codemirror_mode": {
    "name": "ipython",
    "version": 3
   },
   "file_extension": ".py",
   "mimetype": "text/x-python",
   "name": "python",
   "nbconvert_exporter": "python",
   "pygments_lexer": "ipython3",
   "version": "3.7.10"
  }
 },
 "nbformat": 4,
 "nbformat_minor": 5
}
