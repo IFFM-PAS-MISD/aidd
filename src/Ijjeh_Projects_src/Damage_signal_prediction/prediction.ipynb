{
 "cells": [
  {
   "cell_type": "code",
   "execution_count": null,
   "id": "3432ce00",
   "metadata": {},
   "outputs": [],
   "source": [
    "import csv\n",
    "import gc\n",
    "import cv2\n",
    "from tensorflow import keras\n",
    "import numpy as np\n",
    "from keras.models import load_model\n",
    "import matplotlib.pyplot as plt\n",
    "import neptune\n",
    "from tensorflow.python.client import device_lib\n",
    "from PIL import Image\n",
    "import tensorflow as tf\n",
    "import os\n",
    "from keras.layers import LeakyReLU\n",
    "from pathlib import Path\n",
    "from decouple import config\n",
    "import matplotlib\n",
    "from matplotlib import cm\n",
    "import itertools\n",
    "from pathlib import Path\n",
    "from scipy.io import savemat\n",
    "import scipy.io\n",
    "\n"
   ]
  },
  {
   "cell_type": "code",
   "execution_count": null,
   "id": "63d7bdc1",
   "metadata": {
    "scrolled": true
   },
   "outputs": [],
   "source": [
    "os.environ[\"CUDA_DEVICE_ORDER\"] = \"PCI_BUS_ID\"\n",
    "os.environ[\"CUDA_VISIBLE_DEVICES\"] = '1'\n",
    "print(device_lib.list_local_devices())"
   ]
  },
  {
   "cell_type": "code",
   "execution_count": null,
   "id": "f79c6ab7",
   "metadata": {},
   "outputs": [],
   "source": [
    "os.chdir('/home/aijjeh/Desktop/Phd_Projects/compressive_sensing_project')\n",
    "mat = scipy.io.loadmat('dataset1_1555samples_S1_ANN 5-2x1000-400_valFold 1 of 10.mat')"
   ]
  },
  {
   "cell_type": "code",
   "execution_count": null,
   "id": "c58d2fda",
   "metadata": {},
   "outputs": [],
   "source": [
    "x_test = mat['inputs_testing']\n",
    "print(x_test.shape)\n",
    "y_test = mat['S1_testing']\n",
    "print(y_test.shape)"
   ]
  },
  {
   "cell_type": "code",
   "execution_count": null,
   "id": "7d136815",
   "metadata": {},
   "outputs": [],
   "source": [
    "os.chdir('/home/aijjeh/Desktop/Phd_Projects/compressive_sensing_project/signal_prediction/h5_models/')\n"
   ]
  },
  {
   "cell_type": "code",
   "execution_count": null,
   "id": "9aae16d7",
   "metadata": {},
   "outputs": [],
   "source": [
    "model_name = 'ann_model_signal_prediction_VAE_1.h5' # ann_model_signal_prediction.h5\n",
    "model = load_model(model_name, compile=False)\n",
    "model.summary()"
   ]
  },
  {
   "cell_type": "code",
   "execution_count": null,
   "id": "ee001652",
   "metadata": {},
   "outputs": [],
   "source": [
    "prediction = model.predict(x_test, batch_size=1)\n",
    "prediction = np.asarray(prediction)"
   ]
  },
  {
   "cell_type": "code",
   "execution_count": null,
   "id": "aac9150f",
   "metadata": {
    "scrolled": false
   },
   "outputs": [],
   "source": [
    "for i in range(x_test.shape[0]):\n",
    "    plt.figure(figsize=(20,10))\n",
    "    plt.plot(y_test[i],label='GT')\n",
    "    plt.plot(prediction[i],label='Prediction')\n",
    "    plt.legend(loc=\"upper left\")\n",
    "\n",
    "plt.show()"
   ]
  },
  {
   "cell_type": "code",
   "execution_count": null,
   "id": "20bbf9db",
   "metadata": {},
   "outputs": [],
   "source": []
  },
  {
   "cell_type": "code",
   "execution_count": null,
   "id": "948fc3ca",
   "metadata": {},
   "outputs": [],
   "source": []
  },
  {
   "cell_type": "code",
   "execution_count": null,
   "id": "0affe36e",
   "metadata": {},
   "outputs": [],
   "source": []
  },
  {
   "cell_type": "code",
   "execution_count": null,
   "id": "e8b99a4b",
   "metadata": {},
   "outputs": [],
   "source": []
  }
 ],
 "metadata": {
  "kernelspec": {
   "display_name": "Python 3 (ipykernel)",
   "language": "python",
   "name": "python3"
  },
  "language_info": {
   "codemirror_mode": {
    "name": "ipython",
    "version": 3
   },
   "file_extension": ".py",
   "mimetype": "text/x-python",
   "name": "python",
   "nbconvert_exporter": "python",
   "pygments_lexer": "ipython3",
   "version": "3.7.10"
  }
 },
 "nbformat": 4,
 "nbformat_minor": 5
}
