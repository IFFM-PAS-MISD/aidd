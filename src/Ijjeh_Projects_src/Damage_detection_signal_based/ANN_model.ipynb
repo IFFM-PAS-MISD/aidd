{
 "cells": [
  {
   "cell_type": "code",
   "execution_count": null,
   "id": "43410afd",
   "metadata": {},
   "outputs": [],
   "source": [
    "import scipy.io\n",
    "import math\n",
    "import os\n",
    "from IPython.display import Image, display\n",
    "from tensorflow.keras.preprocessing.image import load_img\n",
    "import PIL\n",
    "from PIL import ImageOps\n",
    "import re\n",
    "import numpy as np\n",
    "import tensorflow as tf\n",
    "import tensorflow_addons as tfa\n",
    "from tensorflow.python.client import device_lib\n",
    "import random\n",
    "from tensorflow.keras.models import Model\n",
    "import matplotlib.pyplot as plt\n",
    "from tensorflow.keras import backend as K\n",
    "import natsort\n",
    "from tensorflow import keras\n",
    "from keras.preprocessing.image import ImageDataGenerator, array_to_img, img_to_array, load_img\n",
    "from scipy import signal\n",
    "from sewar.full_ref import mse, rmse, psnr, uqi, ssim, ergas, scc, rase, sam, msssim, vifp\n",
    "import neptune\n",
    "from decouple import config\n",
    "from keras.callbacks import Callback\n",
    "from keras.layers import Conv2D, Add"
   ]
  },
  {
   "cell_type": "code",
   "execution_count": null,
   "id": "0807e8d6",
   "metadata": {
    "scrolled": true
   },
   "outputs": [],
   "source": [
    "os.environ[\"CUDA_DEVICE_ORDER\"] = \"PCI_BUS_ID\"\n",
    "os.environ[\"CUDA_VISIBLE_DEVICES\"] = '1'\n",
    "print(device_lib.list_local_devices())\n",
    "\n",
    "strategy = tf.distribute.MirroredStrategy(devices=[\"GPU:1\"])\n",
    "print('Number of devices: {}'.format(strategy.num_replicas_in_sync))"
   ]
  },
  {
   "cell_type": "markdown",
   "id": "aa8785ac",
   "metadata": {},
   "source": [
    "# Loading dataset"
   ]
  },
  {
   "cell_type": "code",
   "execution_count": null,
   "id": "e99d39d0",
   "metadata": {},
   "outputs": [],
   "source": [
    "os.chdir('/home/aijjeh/Desktop/Phd_Projects/compressive_sensing_project')\n",
    "mat = scipy.io.loadmat('CNNpreparedData_normalizedInputs.mat')\n",
    "\n",
    "x_train_1 = mat['inputs_training']\n",
    "x_train_2 = mat['inputs_training_HS1']\n",
    "y_train = mat['S1_training']\n",
    "x_train_1 = np.transpose(x_train_1, [0, -1, 1])\n",
    "x_train_2 = np.transpose(x_train_2, [0, -1, 1])\n",
    "\n",
    "print(x_train_1.shape)\n",
    "print(x_train_2.shape)\n",
    "print(y_train.shape)\n"
   ]
  },
  {
   "cell_type": "code",
   "execution_count": null,
   "id": "8bb42ca5",
   "metadata": {},
   "outputs": [],
   "source": [
    "x_train = x_train_1 / (np.abs(x_train_2)+.001)\n",
    "print(x_train.shape)"
   ]
  },
  {
   "cell_type": "code",
   "execution_count": null,
   "id": "f8d8d47a",
   "metadata": {
    "scrolled": true
   },
   "outputs": [],
   "source": [
    "# for i in range(0, 1555, 40):\n",
    "#     plt.figure(figsize=(20, 10))\n",
    "#     ax1 = plt.subplot(2, 1, 1)\n",
    "#     ax1.plot((x_train[i])) # x_train_1[i], (x_train_2[i])\n",
    "#     ax1.set_title('Input')\n",
    "#     ax2 = plt.subplot(2, 1, 2)\n",
    "#     ax2.plot(y_train[i], label='GT')\n",
    "#     # plt.plot(x_train[55])\n",
    "#     plt.show()"
   ]
  },
  {
   "cell_type": "code",
   "execution_count": null,
   "id": "a3592ebb",
   "metadata": {},
   "outputs": [],
   "source": []
  },
  {
   "cell_type": "code",
   "execution_count": null,
   "id": "e7e9a830",
   "metadata": {},
   "outputs": [],
   "source": [
    "x_test1 = mat['inputs_testing']\n",
    "x_test1 = np.transpose(x_test1, [0, -1, 1])\n",
    "x_test2 = mat['inputs_testing_HS1']\n",
    "x_test2 = np.transpose(x_test2, [0, -1, 1])\n",
    "\n",
    "x_test = x_test1 / (x_test2+.001)\n",
    "print(x_test.shape)\n",
    "y_test = mat['S1_testing']\n",
    "print(y_test.shape)"
   ]
  },
  {
   "cell_type": "code",
   "execution_count": null,
   "id": "966f6dad",
   "metadata": {},
   "outputs": [],
   "source": [
    "batches = 8"
   ]
  },
  {
   "cell_type": "code",
   "execution_count": null,
   "id": "f0e1177b",
   "metadata": {},
   "outputs": [],
   "source": [
    "# train_set = tf.data.Dataset.from_tensor_slices((x_train, y_train)).batch(batches)\n",
    "test_set = tf.data.Dataset.from_tensor_slices((x_test, y_test)).batch(batches)"
   ]
  },
  {
   "cell_type": "markdown",
   "id": "bacba629",
   "metadata": {},
   "source": [
    "# ANN model\n"
   ]
  },
  {
   "cell_type": "code",
   "execution_count": null,
   "id": "a7987fc4",
   "metadata": {},
   "outputs": [],
   "source": [
    "# inputs = tf.keras.Input(shape=(5,))\n",
    "# \n",
    "# x = tf.keras.layers.Dense(5)(inputs)\n",
    "# \n",
    "# x = tf.keras.layers.Dense(1024)(x)\n",
    "# \n",
    "# x = tf.keras.layers.Dropout(0.5)(x)\n",
    "# \n",
    "# x = tf.keras.layers.Dense(1024)(x)\n",
    "# \n",
    "# x = tf.keras.layers.Dropout(0.5)(x)\n",
    "# \n",
    "# x = tf.keras.layers.Dense(1024)(x)\n",
    "# \n",
    "# x = tf.keras.layers.Dropout(0.5)(x)\n",
    "# \n",
    "# x = tf.keras.layers.Dense(1024)(x)\n",
    "# \n",
    "# x = tf.keras.layers.Dropout(0.5)(x)\n",
    "# \n",
    "# x = tf.keras.layers.Dense(1024)(x)\n",
    "# \n",
    "# x = tf.keras.layers.Dropout(0.5)(x)\n",
    "# \n",
    "# x = tf.keras.layers.Dense(1024)(x)\n",
    "# \n",
    "# x = tf.keras.layers.Dropout(0.5)(x)\n",
    "# \n",
    "# x = tf.keras.layers.Dense(1024)(x)\n",
    "# \n",
    "# x = tf.keras.layers.Dropout(0.5)(x)\n",
    "# \n",
    "# output_l = tf.keras.layers.Dense(400)(x)\n",
    "# model = Model(inputs, output_l, name=\"ANN_model\")\n",
    "# model.summary()"
   ]
  },
  {
   "cell_type": "markdown",
   "id": "61071826",
   "metadata": {},
   "source": [
    "# CNN model"
   ]
  },
  {
   "cell_type": "code",
   "execution_count": null,
   "id": "3d5ea502",
   "metadata": {},
   "outputs": [],
   "source": [
    "inputs_1 = tf.keras.Input(shape=(400,5))\n",
    "###################################################################################\n",
    "\n",
    "layer11 = tf.keras.layers.Conv1D(64, 1, \n",
    "                                 padding='same',\n",
    "                                 activation='relu')(inputs_1)\n",
    "layer12 = tf.keras.layers.Conv1D(64, 3,\n",
    "                                 padding='same', \n",
    "                                 activation='relu')(inputs_1)\n",
    "layer13 = tf.keras.layers.Conv1D(64, 7, padding='same', activation='relu')(inputs_1)\n",
    "\n",
    "layer14 = tf.keras.layers.concatenate([layer11,layer12, layer13], axis=-1)\n",
    "# BN1 = tf.keras.layers.BatchNormalization()(layer14)\n",
    "DS1 = tf.keras.layers.MaxPool1D(2,2)(layer14)\n",
    "\n",
    "layer21 = tf.keras.layers.Conv1D(128, 3,\n",
    "                                 padding='same', \n",
    "                                 activation='relu',)(DS1)\n",
    "layer22 = tf.keras.layers.Conv1D(128, 3, \n",
    "                                 padding='same', \n",
    "                                 activation='relu',)(layer21)\n",
    "# BN2 = tf.keras.layers.BatchNormalization()(layer22)\n",
    "DS2 = tf.keras.layers.MaxPool1D(2,2)(layer22)\n",
    "\n",
    "layer31 = tf.keras.layers.Conv1D(256, 3,\n",
    "                                 padding='same', \n",
    "                                 activation='relu',)(DS2)\n",
    "layer32 = tf.keras.layers.Conv1D(256, 3, \n",
    "                                 padding='same', \n",
    "                                 activation='relu',)(layer31)\n",
    "# BN3 = tf.keras.layers.BatchNormalization()(layer32)\n",
    "DS3 = tf.keras.layers.MaxPool1D(2,2)(layer32)\n",
    "\n",
    "layer41 = tf.keras.layers.Conv1D(512, 3, \n",
    "                                 padding='same', \n",
    "                                 activation='relu',)(DS3)\n",
    "layer42 = tf.keras.layers.Conv1D(512, 3, \n",
    "                                 padding='same', \n",
    "                                 activation='relu',)(layer41)\n",
    "# BN4 = tf.keras.layers.BatchNormalization()(layer42)\n",
    "DS4 = tf.keras.layers.MaxPool1D(2,2)(layer42)\n",
    "###################################################################################\n",
    "layer51 = tf.keras.layers.Conv1D(512, 3, padding='same', activation='relu')(DS4)\n",
    "layer52 = tf.keras.layers.Conv1D(512, 3, padding='same', activation='relu')(layer51)\n",
    "# BN5 = tf.keras.layers.BatchNormalization()(layer52)\n",
    "###################################################################################\n",
    "UP1 = tf.keras.layers.Conv1DTranspose(512, 3, 2, padding='same')(layer52) # tf.keras.layers.UpSampling1D(2)(layer52)\n",
    "concat1 = tf.keras.layers.concatenate([UP1,layer42], axis=-1)\n",
    "layer61 = tf.keras.layers.Conv1D(512, 3, padding='same', activation='relu')(concat1)\n",
    "layer62 = tf.keras.layers.Conv1D(512, 3, padding='same', activation='relu')(layer61)\n",
    "\n",
    "UP2 = tf.keras.layers.Conv1DTranspose(256, 3, 2, padding='same')(layer62) # tf.keras.layers.UpSampling1D(2)(layer62)\n",
    "concat2 = tf.keras.layers.concatenate([UP2,layer32], axis=-1)\n",
    "layer71 = tf.keras.layers.Conv1D(256, 3, padding='same', activation='relu')(concat2)\n",
    "layer72 = tf.keras.layers.Conv1D(256, 3, padding='same', activation='relu')(layer71)\n",
    "\n",
    "UP3 = tf.keras.layers.Conv1DTranspose(128, 3, 2, padding='same')(layer72) # tf.keras.layers.UpSampling1D(2)(layer72)\n",
    "concat3 = tf.keras.layers.concatenate([UP3,layer22], axis=-1)\n",
    "layer81 = tf.keras.layers.Conv1D(128, 3, padding='same', activation='relu')(concat3)\n",
    "layer82 = tf.keras.layers.Conv1D(128, 3, padding='same', activation='relu')(layer81)\n",
    "\n",
    "UP4 = tf.keras.layers.Conv1DTranspose(64, 3, 2, padding='same')(layer82) # tf.keras.layers.UpSampling1D(2)(layer82)\n",
    "concat4 = tf.keras.layers.concatenate([UP4,layer14], axis=-1)\n",
    "layer91 = tf.keras.layers.Conv1D(64, 3, padding='same', activation='relu')(concat4)\n",
    "layer92 = tf.keras.layers.Conv1D(64, 3, padding='same', activation='relu')(layer91)\n",
    "###################################################################################\n",
    "Flatten = tf.keras.layers.Flatten()(layer92)\n",
    "cnn_output = tf.keras.layers.Dense(400)(Flatten)\n",
    "cnn_output = tf.keras.layers.Dense(600)(cnn_output)\n",
    "cnn_output = tf.keras.layers.Dense(400)(cnn_output)\n",
    "\n",
    "cnn_model = tf.keras.models.Model(inputs_1, cnn_output, name=\"CNN_model\")\n",
    "cnn_model.summary()"
   ]
  },
  {
   "cell_type": "code",
   "execution_count": null,
   "id": "95c3ed5e",
   "metadata": {},
   "outputs": [],
   "source": [
    "inputs_1 = tf.keras.Input(shape=(400,1))\n",
    "###################################################################################\n",
    "layer11 = tf.keras.layers.Conv1D(64, 1, \n",
    "                                 padding='same',\n",
    "                                 activation='relu')(inputs_1)\n",
    "layer12 = tf.keras.layers.Conv1D(64, 3,\n",
    "                                 padding='same', \n",
    "                                 activation='relu')(inputs_1)\n",
    "layer13 = tf.keras.layers.Conv1D(64, 7, padding='same', activation='relu')(inputs_1)\n",
    "\n",
    "layer14 = tf.keras.layers.concatenate([layer11,layer12, layer13], axis=-1)\n",
    "# BN1 = tf.keras.layers.BatchNormalization()(layer14)\n",
    "DS1 = tf.keras.layers.MaxPool1D(2,2)(layer14)\n",
    "\n",
    "layer21 = tf.keras.layers.Conv1D(128, 3,\n",
    "                                 padding='same', \n",
    "                                 activation='relu')(DS1)\n",
    "layer22 = tf.keras.layers.Conv1D(128, 3, \n",
    "                                 padding='same', \n",
    "                                 activation='relu')(layer21)\n",
    "# BN2 = tf.keras.layers.BatchNormalization()(layer22)\n",
    "DS2 = tf.keras.layers.MaxPool1D(2,2)(layer22)\n",
    "\n",
    "layer31 = tf.keras.layers.Conv1D(256, 3,\n",
    "                                 padding='same', \n",
    "                                 activation='relu')(DS2)\n",
    "layer32 = tf.keras.layers.Conv1D(256, 3, \n",
    "                                 padding='same', \n",
    "                                 activation='relu')(layer31)\n",
    "# BN3 = tf.keras.layers.BatchNormalization()(layer32)\n",
    "DS3 = tf.keras.layers.MaxPool1D(2,2)(layer32)\n",
    "\n",
    "layer41 = tf.keras.layers.Conv1D(512, 3, \n",
    "                                 padding='same', \n",
    "                                 activation='relu')(DS3)\n",
    "layer42 = tf.keras.layers.Conv1D(512, 3, \n",
    "                                 padding='same', \n",
    "                                 activation='relu')(layer41)\n",
    "# BN4 = tf.keras.layers.BatchNormalization()(layer42)\n",
    "DS4 = tf.keras.layers.MaxPool1D(2,2)(layer42)\n",
    "###################################################################################\n",
    "layer51 = tf.keras.layers.Conv1D(512, 3, padding='same', activation='relu')(DS4)\n",
    "layer52 = tf.keras.layers.Conv1D(512, 3, padding='same', activation='relu')(layer51)\n",
    "# BN5 = tf.keras.layers.BatchNormalization()(layer52)\n",
    "###################################################################################\n",
    "UP1 = tf.keras.layers.Conv1DTranspose(512, 3, 2, padding='same')(layer52) # tf.keras.layers.UpSampling1D(2)(layer52)\n",
    "concat1 = tf.keras.layers.concatenate([UP1,layer42], axis=-1)\n",
    "layer61 = tf.keras.layers.Conv1D(512, 3, padding='same', activation='relu')(concat1)\n",
    "layer62 = tf.keras.layers.Conv1D(512, 3, padding='same', activation='relu')(layer61)\n",
    "\n",
    "UP2 = tf.keras.layers.Conv1DTranspose(256, 3, 2, padding='same')(layer62) # tf.keras.layers.UpSampling1D(2)(layer62)\n",
    "concat2 = tf.keras.layers.concatenate([UP2,layer32], axis=-1)\n",
    "layer71 = tf.keras.layers.Conv1D(256, 3, padding='same', activation='relu')(concat2)\n",
    "layer72 = tf.keras.layers.Conv1D(256, 3, padding='same', activation='relu')(layer71)\n",
    "\n",
    "UP3 = tf.keras.layers.Conv1DTranspose(128, 3, 2, padding='same')(layer72) # tf.keras.layers.UpSampling1D(2)(layer72)\n",
    "concat3 = tf.keras.layers.concatenate([UP3,layer22], axis=-1)\n",
    "layer81 = tf.keras.layers.Conv1D(128, 3, padding='same', activation='relu')(concat3)\n",
    "layer82 = tf.keras.layers.Conv1D(128, 3, padding='same', activation='relu')(layer81)\n",
    "\n",
    "UP4 = tf.keras.layers.Conv1DTranspose(64, 3, 2, padding='same')(layer82) # tf.keras.layers.UpSampling1D(2)(layer82)\n",
    "concat4 = tf.keras.layers.concatenate([UP4,layer14], axis=-1)\n",
    "layer91 = tf.keras.layers.Conv1D(64, 3, padding='same', activation='relu')(concat4)\n",
    "layer92 = tf.keras.layers.Conv1D(64, 3, padding='same', activation='relu')(layer91)\n",
    "###################################################################################\n",
    "Flatten = tf.keras.layers.Flatten()(layer92)\n",
    "cnn_output = tf.keras.layers.Dense(400)(Flatten)\n",
    "cnn_output = tf.keras.layers.Dense(600)(cnn_output)\n",
    "cnn_output = tf.keras.layers.Dense(400)(cnn_output)\n",
    "\n",
    "cnn_model_2 = tf.keras.models.Model(inputs_1, cnn_output, name=\"CNN_model2\")\n",
    "cnn_model_2.summary()"
   ]
  },
  {
   "cell_type": "markdown",
   "id": "d371e81e",
   "metadata": {},
   "source": [
    "\n",
    "# VA model\n"
   ]
  },
  {
   "cell_type": "code",
   "execution_count": null,
   "id": "60d7cdba",
   "metadata": {},
   "outputs": [],
   "source": [
    "vae_input = tf.keras.layers.Input(shape=(400,5), name=\"VAE_input\")\n",
    "vae_decoder_output = cnn_model_2(cnn_model(vae_input))\n",
    "vae = Model(vae_input, vae_decoder_output)"
   ]
  },
  {
   "cell_type": "code",
   "execution_count": null,
   "id": "6b18629c",
   "metadata": {},
   "outputs": [],
   "source": [
    "vae.compile(optimizer=tf.keras.optimizers.Adam(learning_rate=3e-4),\n",
    "                         loss= tf.keras.losses.MSE,#  tf.keras.losses.log_cosh, #\n",
    "                         metrics=[tf.keras.metrics.CosineSimilarity(axis=-1)])"
   ]
  },
  {
   "cell_type": "code",
   "execution_count": null,
   "id": "96e3fcc6",
   "metadata": {
    "scrolled": true
   },
   "outputs": [],
   "source": [
    "callback = tf.keras.callbacks.EarlyStopping(monitor='val_loss', patience=1000, min_delta=1e-7)\n",
    "vae.fit(x_train, y_train, \n",
    "          batch_size= 32,\n",
    "          validation_split=0.1,\n",
    "          epochs=50000,\n",
    "          callbacks=[callback])\n",
    "\n",
    "vae.evaluate(test_set)\n",
    "os.chdir('/home/aijjeh/Desktop/Phd_Projects/compressive_sensing_project/signal_prediction/h5_models/')\n",
    "vae.save('ann_model_signal_prediction_VAE_4.h5')"
   ]
  },
  {
   "cell_type": "code",
   "execution_count": null,
   "id": "40551212",
   "metadata": {},
   "outputs": [],
   "source": []
  },
  {
   "cell_type": "code",
   "execution_count": null,
   "id": "b812cedf",
   "metadata": {},
   "outputs": [],
   "source": []
  },
  {
   "cell_type": "code",
   "execution_count": null,
   "id": "9f3c03dd",
   "metadata": {},
   "outputs": [],
   "source": []
  },
  {
   "cell_type": "code",
   "execution_count": null,
   "id": "c196cf26",
   "metadata": {},
   "outputs": [],
   "source": []
  },
  {
   "cell_type": "code",
   "execution_count": null,
   "id": "08cceda3",
   "metadata": {},
   "outputs": [],
   "source": []
  },
  {
   "cell_type": "code",
   "execution_count": null,
   "id": "9d41ee80",
   "metadata": {},
   "outputs": [],
   "source": []
  },
  {
   "cell_type": "code",
   "execution_count": null,
   "id": "060711b1",
   "metadata": {},
   "outputs": [],
   "source": []
  },
  {
   "cell_type": "code",
   "execution_count": null,
   "id": "0f1c730d",
   "metadata": {},
   "outputs": [],
   "source": []
  },
  {
   "cell_type": "code",
   "execution_count": null,
   "id": "59550935",
   "metadata": {},
   "outputs": [],
   "source": []
  }
 ],
 "metadata": {
  "kernelspec": {
   "display_name": "Python 3 (ipykernel)",
   "language": "python",
   "name": "python3"
  },
  "language_info": {
   "codemirror_mode": {
    "name": "ipython",
    "version": 3
   },
   "file_extension": ".py",
   "mimetype": "text/x-python",
   "name": "python",
   "nbconvert_exporter": "python",
   "pygments_lexer": "ipython3",
   "version": "3.7.10"
  }
 },
 "nbformat": 4,
 "nbformat_minor": 5
}
