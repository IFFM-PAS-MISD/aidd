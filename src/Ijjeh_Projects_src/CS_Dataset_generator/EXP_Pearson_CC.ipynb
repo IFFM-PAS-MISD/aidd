{
 "cells": [
  {
   "cell_type": "code",
   "execution_count": null,
   "id": "c31c874a",
   "metadata": {},
   "outputs": [],
   "source": [
    "import numpy as np\n",
    "import matplotlib.pyplot as plt\n",
    "import matplotlib.patches as patches\n",
    "import os\n",
    "import cv2\n",
    "import numpy as np\n",
    "import math\n",
    "from scipy.stats.stats import pearsonr\n",
    "from skimage.metrics import peak_signal_noise_ratio\n",
    "\n",
    "import csv"
   ]
  },
  {
   "cell_type": "code",
   "execution_count": null,
   "id": "ba14a922",
   "metadata": {},
   "outputs": [],
   "source": [
    "def append_list_as_row(csv_file, f_num, psnr_num):\n",
    "    with open(csv_file, 'a', newline='') as f:\n",
    "        writer = csv.writer(f)\n",
    "        writer.writerows([f_num])\n",
    "        writer.writerows([psnr_num])\n"
   ]
  },
  {
   "cell_type": "code",
   "execution_count": null,
   "id": "c12d84c1",
   "metadata": {},
   "outputs": [],
   "source": [
    "def calculate_psnr(img1, img2):\n",
    "    # img1 and img2 have range [0, 255]\n",
    "    img1 = img1.astype(np.float64)\n",
    "    img2 = img2.astype(np.float64)\n",
    "    mse = np.mean((img1 - img2)**2)\n",
    "    if mse == 0:\n",
    "        return float('inf')\n",
    "    return 20 * math.log10(255.0 / math.sqrt(mse))"
   ]
  },
  {
   "cell_type": "code",
   "execution_count": null,
   "id": "111d47aa",
   "metadata": {},
   "outputs": [],
   "source": [
    "def normalize(y_true, y_pred):\n",
    "    # cast the target images to integer\n",
    "    y_true = y_true * 255.0\n",
    "    y_true = y_true.astype(np.uint8)\n",
    "    y_true = np.clip(y_true, 0, 255)\n",
    "    \n",
    "    # cast the predicted images to integer\n",
    "    y_pred = y_pred * 255.0\n",
    "    y_pred = y_pred.astype(np.uint8)\n",
    "    y_pred = np.clip(y_pred, 0, 255)\n",
    "    # return the psnr\n",
    "    return y_true, y_pred"
   ]
  },
  {
   "cell_type": "code",
   "execution_count": null,
   "id": "8bdd71ae",
   "metadata": {
    "scrolled": true
   },
   "outputs": [],
   "source": [
    "PSNR = []\n",
    "Pearson_CC = []\n",
    "frames = []\n",
    "for f in range(1,513):\n",
    "    print('f :', f)\n",
    "    frames.append(f)\n",
    "    os.chdir('/aijjeh_odroid_sensors/aidd/data/interim/exp/L3_S4_B/compressed/389286p_512x512/')\n",
    "    ref_data = cv2.imread('frame_%d_389286p_512x512.png' %f, 0)        \n",
    "    ref_img = np.asarray(ref_data) # / 255.0\n",
    "    \n",
    "    \n",
    "    os.chdir('/home/aijjeh/Desktop/Phd_Projects/compressive_sensing_project/Experimental/Uniform_mesh_2nd_model/Upated_version_FFT2D/')\n",
    "    pred_data = cv2.imread('Ijjeh_SR_Pred_output_%d_frame_UNIFORM_MESH_custom_loss.png' %f, 0) \n",
    "    pred_img = np.asarray(pred_data) # / 255.0        \n",
    "    \n",
    "    # ref_img = ref_img[113:213, 256-50:256+50]\n",
    "    # pred_img = pred_img[113:213, 256-50:256+50]\n",
    "    \n",
    "    ref_img = ref_img - np.mean(ref_img)\n",
    "    pred_img = pred_img - np.mean(pred_img)\n",
    "    \n",
    "    temp_pearson = np.corrcoef(ref_img.flat, pred_img.flat)\n",
    "    print('Pearson_CC :', temp_pearson[0][1])\n",
    "    Pearson_CC.append(temp_pearson[0][1])\n",
    "    \n",
    "    # ref_img, pred_img = normalize(ref_img, pred_img)\n",
    "    \n",
    "    \n",
    "    temp_psnr = peak_signal_noise_ratio(ref_img, pred_img, data_range=128)\n",
    "    print('PSNR :', temp_psnr)\n",
    "    PSNR.append(temp_psnr)\n",
    "    \n",
    "    # damage_area = np.zeros((512,512))\n",
    "    # damage_area[113:213, 256-50:256+50]= 255\n",
    "    # ref_img = ref_img+ damage_area\n",
    "    # fig = plt.figure(figsize=(20, 20))  \n",
    "    # damage_area = ref_img\n",
    "    # ax = fig.add_subplot(111)\n",
    "    # ax.imshow(ref_img)  \n",
    "    # ax.add_patch(patches.Rectangle((256-50, 112), 100, 100, linewidth=1, edgecolor='r', facecolor='none')) \n",
    "    # ax.axis('off')\n",
    "    # plt.show()\n",
    "    \n",
    "os.chdir('/home/aijjeh/Desktop/Phd_Projects/compressive_sensing_project/')    \n",
    "file_pearson = 'Pearson_CC_exp_512_frames__custim_loss_spatial_Fourier.csv'\n",
    "file_psnr = 'PSNR_exp_512_frames_custim_loss_spatial_Fourier.csv'\n",
    "append_list_as_row(file_pearson, frames, Pearson_CC)\n",
    "append_list_as_row(file_psnr, frames, PSNR)\n",
    "# "
   ]
  },
  {
   "cell_type": "code",
   "execution_count": null,
   "id": "78980718",
   "metadata": {},
   "outputs": [],
   "source": [
    "PSNR = np.asarray(PSNR)\n",
    "Pearson_CC = np.asarray(Pearson_CC)\n",
    "print(np.mean(Pearson_CC))\n",
    "print(np.mean(PSNR))"
   ]
  },
  {
   "cell_type": "code",
   "execution_count": null,
   "id": "3ef0b036",
   "metadata": {},
   "outputs": [],
   "source": [
    "print((np.min(Pearson_CC)))"
   ]
  },
  {
   "cell_type": "code",
   "execution_count": null,
   "id": "2d76b11d",
   "metadata": {},
   "outputs": [],
   "source": [
    "print(np.max(PSNR))"
   ]
  },
  {
   "cell_type": "code",
   "execution_count": null,
   "id": "43a0a73e",
   "metadata": {},
   "outputs": [],
   "source": [
    "os.chdir('/home/aijjeh/Desktop/Phd_Projects/compressive_sensing_project/Experimental/Uniform_mesh_2nd_model/Compression_ration_0.215/')\n",
    "plt.figure(figsize=(20/2.53,10/2.53), dpi=600)\n",
    "plt.plot(Pearson_CC)\n",
    "plt.xlabel('frame')\n",
    "plt.ylabel('Pearson CC')\n",
    "# plt.savefig(\"Pearson_CC_for_512_frames_exp_delamination_region.png\")\n",
    "plt.show()"
   ]
  },
  {
   "cell_type": "code",
   "execution_count": null,
   "id": "9206f8ce",
   "metadata": {},
   "outputs": [],
   "source": [
    "os.chdir('/home/aijjeh/Desktop/Phd_Projects/compressive_sensing_project/Experimental/Uniform_mesh_2nd_model/Compression_ration_0.215/')\n",
    "plt.figure(figsize=(20/2.53,10/2.53), dpi=600)\n",
    "plt.plot(PSNR)\n",
    "plt.xlabel('frame')\n",
    "plt.ylabel('PSNR')\n",
    "# plt.savefig(\"PSNR_for_512_frames_exp_delamination_region.png\")\n",
    "plt.show()"
   ]
  },
  {
   "cell_type": "code",
   "execution_count": null,
   "id": "c47ab3b0",
   "metadata": {},
   "outputs": [],
   "source": []
  },
  {
   "cell_type": "code",
   "execution_count": null,
   "id": "ccd1b389",
   "metadata": {},
   "outputs": [],
   "source": []
  }
 ],
 "metadata": {
  "kernelspec": {
   "display_name": "Python 3 (ipykernel)",
   "language": "python",
   "name": "python3"
  },
  "language_info": {
   "codemirror_mode": {
    "name": "ipython",
    "version": 3
   },
   "file_extension": ".py",
   "mimetype": "text/x-python",
   "name": "python",
   "nbconvert_exporter": "python",
   "pygments_lexer": "ipython3",
   "version": "3.7.10"
  }
 },
 "nbformat": 4,
 "nbformat_minor": 5
}
