{
 "cells": [
  {
   "cell_type": "code",
   "execution_count": null,
   "id": "671d874f",
   "metadata": {},
   "outputs": [],
   "source": [
    "import os\n",
    "from IPython.display import Image, display\n",
    "from tensorflow.keras.preprocessing.image import load_img\n",
    "import PIL\n",
    "from PIL import ImageOps\n",
    "import re\n",
    "import numpy as np\n",
    "import tensorflow as tf\n",
    "import keras\n",
    "from keras import layers\n",
    "from tensorflow.python.client import device_lib\n",
    "import random\n",
    "from tensorflow.keras.models import Model\n",
    "from keras.models import load_model\n",
    "import matplotlib.pyplot as plt\n",
    "import matplotlib\n",
    "import cv2\n",
    "import csv"
   ]
  },
  {
   "cell_type": "code",
   "execution_count": null,
   "id": "71d6d868",
   "metadata": {},
   "outputs": [],
   "source": [
    "os.environ[\"CUDA_DEVICE_ORDER\"] = \"PCI_BUS_ID\"\n",
    "os.environ[\"CUDA_VISIBLE_DEVICES\"] = '1'\n",
    "print(device_lib.list_local_devices())"
   ]
  },
  {
   "cell_type": "code",
   "execution_count": null,
   "id": "b56fdd14",
   "metadata": {},
   "outputs": [],
   "source": [
    "os.chdir('/home/aijjeh/Desktop/Phd_Projects/Sequence_prediction/Sequence_to_sequence/h5_models/')\n",
    "model_name = \"UNet_Xception_style_model_24.h5\" \n",
    "# model_name = 'saeed_model.h5'\n",
    "\n",
    "model = load_model(model_name, compile=False)\n",
    "model.summary()"
   ]
  },
  {
   "cell_type": "code",
   "execution_count": null,
   "id": "e7aec2fa",
   "metadata": {},
   "outputs": [],
   "source": [
    "exp_gt = 'label_L3_S4_B_333x333p_50kHz_10HC_18Vpp_x10_pzt.png'"
   ]
  },
  {
   "cell_type": "code",
   "execution_count": null,
   "id": "102b4497",
   "metadata": {},
   "outputs": [],
   "source": [
    "input_dir = '/home/aijjeh/Desktop/Phd_Projects/compressive_sensing_project/Experimental/median_filter_output_exp/' \n",
    "target_dir = \"/aijjeh_odroid_sensors/aidd/data/interim/exp/new_exp/\""
   ]
  },
  {
   "cell_type": "code",
   "execution_count": null,
   "id": "80913290",
   "metadata": {},
   "outputs": [],
   "source": [
    "height =  512 \n",
    "width =  512 \n",
    "img_size = (height, width)\n",
    "num_classes = 2\n",
    "batch_size = 1\n",
    "time_stamps = 24 \n",
    "input_img_paths_total = [None]*1"
   ]
  },
  {
   "cell_type": "code",
   "execution_count": null,
   "id": "9ebd3e4a",
   "metadata": {},
   "outputs": [],
   "source": [
    "def atoi(text):\n",
    "    return int(text) if text.isdigit() else text\n",
    "\n",
    "def natural_keys(text):\n",
    "    return [ atoi(c) for c in re.split(r'(\\d+)', text) ]"
   ]
  },
  {
   "cell_type": "code",
   "execution_count": null,
   "id": "f1ebef78",
   "metadata": {},
   "outputs": [],
   "source": [
    "path_to_csv = '/home/aijjeh/aijjeh_rexio_share/PhD/cmap_flipped_jet256.csv'\n",
    "cmap = matplotlib.colors.ListedColormap([\"blue\", \"green\", \"red\"], name=path_to_csv, N=None)"
   ]
  },
  {
   "cell_type": "code",
   "execution_count": null,
   "id": "2ad467fd",
   "metadata": {},
   "outputs": [],
   "source": [
    "my_list = os.listdir(input_dir)\n",
    "my_list.sort(key=natural_keys)\n",
    "print(len(my_list))"
   ]
  },
  {
   "cell_type": "code",
   "execution_count": null,
   "id": "77f12927",
   "metadata": {},
   "outputs": [],
   "source": [
    "input_img_paths = sorted(\n",
    "    [\n",
    "        os.path.join(input_dir, fname) \n",
    "        for fname in os.listdir(input_dir)    \n",
    "        if fname.endswith(\".png\")\n",
    "    ])\n",
    "input_img_paths.sort(key=natural_keys)\n",
    "input_img_paths_total[0]= input_img_paths\n",
    "print((input_img_paths_total))"
   ]
  },
  {
   "cell_type": "code",
   "execution_count": null,
   "id": "8a77625f",
   "metadata": {},
   "outputs": [],
   "source": [
    "target_img_paths = sorted(\n",
    "    [\n",
    "        os.path.join(target_dir, fname)\n",
    "        for fname in os.listdir(target_dir)\n",
    "        if fname.endswith(exp_gt) and not fname.startswith(\".\")\n",
    "    ]\n",
    ")\n",
    "target_img_paths.sort(key=natural_keys)\n",
    "print((target_img_paths))"
   ]
  },
  {
   "cell_type": "code",
   "execution_count": null,
   "id": "4ee317c6",
   "metadata": {},
   "outputs": [],
   "source": [
    "class Full_wavefield_frames(keras.utils.Sequence):\n",
    "    def __init__(self, batch_size, img_size, input_img_paths_total_, target_img_paths_, time_stamps, frame_init):\n",
    "        self.batch_size = batch_size\n",
    "        self.img_size = img_size\n",
    "        self.input_img_paths_total = input_img_paths_total_\n",
    "        self.target_img_paths = target_img_paths_\n",
    "        self.time_stamps = time_stamps\n",
    "        self.frame_num = frame_init\n",
    "    def __len__(self):\n",
    "        return len(self.target_img_paths) // self.batch_size\n",
    "\n",
    "    def __getitem__(self, idx):\n",
    "        \"\"\"Returns tuple (input, target) correspond to batch #idx.\"\"\"\n",
    "        i = idx * self.batch_size        \n",
    "        batch_input_img_paths = self.input_img_paths_total[i:i+self.batch_size]      \n",
    "        batch_target_img_paths = self.target_img_paths[i:i+self.batch_size] \n",
    "        \n",
    "        x = np.zeros((self.batch_size,) + (self.time_stamps,) + self.img_size + (1,), dtype=\"float32\") #  \n",
    "        \n",
    "        for batch_num in range(self.batch_size):\n",
    "            batch_input_img_paths = batch_input_img_paths[batch_num][self.frame_num:self.frame_num+self.time_stamps] \n",
    "            for j, path in enumerate(batch_input_img_paths):\n",
    "                img = load_img(path, target_size=self.img_size, color_mode=\"grayscale\")            \n",
    "                img = np.expand_dims(img,2)\n",
    "                img = img / 255.0\n",
    "                x[batch_num][j] = img\n",
    "        y = np.zeros((self.batch_size,) + self.img_size + (1,), dtype=\"float32\")\n",
    "        for j, path in enumerate(batch_target_img_paths):\n",
    "            img = load_img(path, target_size=self.img_size, color_mode=\"grayscale\")            \n",
    "            img = np.expand_dims(img, 2)\n",
    "            img = img / 255.0\n",
    "            y[j] = img                \n",
    "        return x, y"
   ]
  },
  {
   "cell_type": "code",
   "execution_count": null,
   "id": "6cfb76dd",
   "metadata": {},
   "outputs": [],
   "source": [
    "test_input_img_paths = input_img_paths_total[:]\n",
    "test_target_img_paths = target_img_paths[:]"
   ]
  },
  {
   "cell_type": "code",
   "execution_count": null,
   "id": "f47d8f0c",
   "metadata": {},
   "outputs": [],
   "source": [
    "def calc_IoU(predicted_image, truth_img, frame):\n",
    "    predicted_image = np.asarray(predicted_image) # \n",
    "    predicted_image = predicted_image.astype('float64')\n",
    "    ret, predicted_image = cv2.threshold(predicted_image, .5, 1.0, cv2.THRESH_BINARY)\n",
    "    truth_img = np.asarray(truth_img)# \n",
    "    truth_img = truth_img.astype('float64')\n",
    "    ret_, truth_img = cv2.threshold(truth_img, .5, 1.0, cv2.THRESH_BINARY)\n",
    "\n",
    "    truth_img = truth_img[:,:,0]\n",
    "    InterSectionArray = cv2.bitwise_and(predicted_image, truth_img)\n",
    "    UnionArray = cv2.bitwise_or(predicted_image, truth_img)\n",
    "    I1 = np.count_nonzero(InterSectionArray)\n",
    "    U = np.count_nonzero(UnionArray)\n",
    "    IoU = I1 / U\n",
    "    print('frame_%d_iou : ' % frame,IoU)\n",
    "    return IoU"
   ]
  },
  {
   "cell_type": "code",
   "execution_count": null,
   "id": "315f6559",
   "metadata": {},
   "outputs": [],
   "source": [
    "total_IoU  = 0"
   ]
  },
  {
   "cell_type": "code",
   "execution_count": null,
   "id": "402e6c0e",
   "metadata": {},
   "outputs": [],
   "source": [
    "exp_path = '/home/aijjeh/Desktop/Phd_Projects/compressive_sensing_project/Experimental/Exp_results_Full_wavefield/'\n",
    "os.chdir(exp_path)"
   ]
  },
  {
   "cell_type": "code",
   "execution_count": null,
   "id": "8c6dc24f",
   "metadata": {},
   "outputs": [],
   "source": [
    "def plot_res(img, ext, frame):\n",
    "    ############################################################################################################\n",
    "    plt.figure(figsize=(1, 1), dpi=512)\n",
    "    plt.gca().set_axis_off()\n",
    "    plt.axis('off')\n",
    "    plt.subplots_adjust(left=0.0, bottom=0.0, right=1, top=1.0, wspace=0.0, hspace=0.0)\n",
    "    plt.margins(0, 0)\n",
    "    plt.gca().xaxis.set_major_locator(plt.NullLocator())\n",
    "    plt.gca().yaxis.set_major_locator(plt.NullLocator())\n",
    "    ############################################################################################################\n",
    "    # plt.imshow(img, cmap=cmap)\n",
    "    img = np.asarray(img)\n",
    "    # img = img *255\n",
    "    # img = img.astype(np.uint8)\n",
    "    cv2.imwrite('frame_%d_exp.png' % frame, img)\n",
    "    # plt.savefig('frame_%d_case_%d.png' % (frame, case))\n",
    "    # np.save('frame_%d_case_%d' % (frame, case), img)\n",
    "    # plt.show()\n",
    "    plt.close('all')"
   ]
  },
  {
   "cell_type": "code",
   "execution_count": null,
   "id": "8ec053d2",
   "metadata": {},
   "outputs": [],
   "source": [
    "list_frames = []\n",
    "list_iou = []"
   ]
  },
  {
   "cell_type": "code",
   "execution_count": null,
   "id": "a0900ec4",
   "metadata": {
    "scrolled": true
   },
   "outputs": [],
   "source": [
    "for frame_init in range(0, len(my_list)-24):\n",
    "    val_gen = Full_wavefield_frames(batch_size, img_size, input_img_paths_total, target_img_paths, time_stamps, frame_init)\n",
    "    val_preds = model.predict(val_gen)\n",
    "    \n",
    "    # Display ground-truth target mask\n",
    "    \n",
    "    img_GT_ = PIL.ImageOps.autocontrast(load_img(test_target_img_paths[0], target_size= img_size))\n",
    "    \n",
    "    # Display mask predicted by our model\n",
    "    \n",
    "    mask = val_preds[0]\n",
    "    img_pred_ = PIL.ImageOps.autocontrast(keras.preprocessing.image.array_to_img(mask)) # \n",
    "    plot_res(keras.preprocessing.image.array_to_img(mask), 'predicted_output', frame_init)\n",
    "    iou = calc_IoU(img_pred_, img_GT_, frame_init)       \n",
    "    total_IoU = total_IoU + iou\n",
    "    list_frames.append(frame_init)\n",
    "    list_iou.append(iou)"
   ]
  },
  {
   "cell_type": "code",
   "execution_count": null,
   "id": "2de9a88f",
   "metadata": {},
   "outputs": [],
   "source": []
  }
 ],
 "metadata": {
  "kernelspec": {
   "display_name": "Python 3 (ipykernel)",
   "language": "python",
   "name": "python3"
  },
  "language_info": {
   "codemirror_mode": {
    "name": "ipython",
    "version": 3
   },
   "file_extension": ".py",
   "mimetype": "text/x-python",
   "name": "python",
   "nbconvert_exporter": "python",
   "pygments_lexer": "ipython3",
   "version": "3.7.10"
  }
 },
 "nbformat": 4,
 "nbformat_minor": 5
}
