{
 "cells": [
  {
   "cell_type": "code",
   "execution_count": 1,
   "id": "01511516",
   "metadata": {
    "scrolled": true
   },
   "outputs": [
    {
     "name": "stderr",
     "output_type": "stream",
     "text": [
      "2022-07-10 14:24:38.598858: I tensorflow/stream_executor/platform/default/dso_loader.cc:49] Successfully opened dynamic library libcudart.so.11.0\n",
      "Using TensorFlow backend.\n"
     ]
    }
   ],
   "source": [
    "import os\n",
    "from IPython.display import Image, display\n",
    "from tensorflow.keras.preprocessing.image import load_img\n",
    "import PIL\n",
    "from PIL import ImageOps\n",
    "from PIL import Image\n",
    "import re\n",
    "import numpy as np\n",
    "import tensorflow as tf\n",
    "import keras\n",
    "from keras import layers\n",
    "from tensorflow.python.client import device_lib\n",
    "import random\n",
    "from tensorflow.keras.models import Model\n",
    "from keras.models import load_model\n",
    "import matplotlib.pyplot as plt\n",
    "import matplotlib\n",
    "import cv2\n",
    "import csv\n",
    "from matplotlib.cm import ScalarMappable"
   ]
  },
  {
   "cell_type": "markdown",
   "id": "0bbb25a9",
   "metadata": {},
   "source": [
    "# Enter case number (381-475)"
   ]
  },
  {
   "cell_type": "code",
   "execution_count": 12,
   "id": "c9d61cb3",
   "metadata": {},
   "outputs": [
    {
     "name": "stdout",
     "output_type": "stream",
     "text": [
      "(475,)\n",
      "211\n"
     ]
    }
   ],
   "source": [
    "os.chdir(\n",
    "    '/home/aijjeh/Desktop/Phd_Projects/Sequence_prediction/Full_wavefield_frames_time_series_project/Datasets/label_set')\n",
    "fn = np.load('frames_initial.npy')\n",
    "print(fn.shape)\n",
    "print(fn[455])\n",
    "path_to_csv = '/home/aijjeh/aijjeh_rexio_share/PhD/cmap_flipped_jet256.csv'\n",
    "cmap = matplotlib.colors.ListedColormap([\"blue\", \"green\", \"red\"], name=path_to_csv, N=None)"
   ]
  },
  {
   "cell_type": "code",
   "execution_count": null,
   "id": "ad4abc26",
   "metadata": {
    "scrolled": true
   },
   "outputs": [],
   "source": [
    "for case in [438, 448, 456, 475]:\n",
    "    # os.chdir('/home/aijjeh/Desktop/Phd_Projects/compressive_sensing_project/Numerical_results_Full_wavefield/SR_Num_input_Prediction_frames_case_%d' % case)\n",
    "    os.chdir('/home/aijjeh/Desktop/Phd_Projects/compressive_sensing_project/Numerical/filtered/SR_Num_input_Prediction_frames_case_%d' % case)\n",
    "    Total_images = np.zeros((512,512))\n",
    "    for i in range(25,200): \n",
    "        data = cv2.imread('frame_%d_case_%d.png' %(i, case), 0)    \n",
    "        Total_images = Total_images + data**2\n",
    "        \n",
    "    Total_images = np.sqrt(Total_images / 175)\n",
    "    \n",
    "    Total_images = Total_images/np.max(Total_images)\n",
    "    \n",
    "    Total_images = Total_images * 255\n",
    "    Total_images = Total_images.astype(np.uint8)\n",
    "    \n",
    "    os.chdir('/home/aijjeh/Desktop/Phd_Projects/compressive_sensing_project/Numerical/filtered/num_RMS')\n",
    "    cv2.imwrite('Num_RMS_case_%d.png' % case,Total_images)\n",
    "    \n",
    "    # ##########################################################################################################\n",
    "    # plt.figure(figsize=(1,1), dpi=512)\n",
    "    # plt.gca().set_axis_off()\n",
    "    # plt.axis('off')\n",
    "    # plt.subplots_adjust(left=0.0, bottom=0.0, right=1, top=1.0, wspace=0.0, hspace=0.0)\n",
    "    # plt.margins(0, 0)\n",
    "    # plt.gca().xaxis.set_major_locator(plt.NullLocator())\n",
    "    # plt.gca().yaxis.set_major_locator(plt.NullLocator())\n",
    "    # #############################################################################################################\n",
    "    # custom_cmap = plt.cm.get_cmap('viridis')\n",
    "    # sm = ScalarMappable(cmap=custom_cmap, norm=plt.Normalize(0,1))\n",
    "    # plt.imshow(Total_images,cmap = cmap)\n",
    "    # plt.colorbar(sm)\n",
    "    # plt.show()\n",
    "    # plt.savefig('Num_RMS_case_%d.png' % case, bbox_inches='tight', transparent=\"True\", pad_inches=0)\n",
    "    # plt.close()"
   ]
  },
  {
   "cell_type": "code",
   "execution_count": null,
   "id": "24f85c1e",
   "metadata": {
    "scrolled": true
   },
   "outputs": [],
   "source": [
    "for case in range(475,476):\n",
    "    os.chdir('/home/aijjeh/Desktop/Phd_Projects/compressive_sensing_project/Numerical/filtered/num_RMS')\n",
    "    img = cv2.imread('Num_RMS_case_%d.png' % case, 0)\n",
    "    \n",
    "    # img = img / np.max(img)\n",
    "    \n",
    "    # img = img * 255\n",
    "    # img = img.astype(np.uint8)\n",
    "    \n",
    "    (T, img) = cv2.threshold(img, 1, 255, cv2.THRESH_BINARY_INV)\n",
    "    img[img<int(np.max(img)/4)] = 0\n",
    "    img[img>=int(np.max(img)/4)] = 255\n",
    "    print(np.max(img))\n",
    "    ###########################################################################################################\n",
    "    plt.figure(figsize=(1,1), dpi=512)\n",
    "    plt.gca().set_axis_off()\n",
    "    plt.axis('off')\n",
    "    plt.subplots_adjust(left=0.0, bottom=0.0, right=1, top=1.0, wspace=0.0, hspace=0.0)\n",
    "    plt.margins(0, 0)\n",
    "    plt.gca().xaxis.set_major_locator(plt.NullLocator())\n",
    "    plt.gca().yaxis.set_major_locator(plt.NullLocator())\n",
    "    #############################################################################################################\n",
    "    os.chdir('/home/aijjeh/Desktop/Phd_Projects/compressive_sensing_project/Numerical/filtered/Thresholded_RMS_num')\n",
    "    plt.imshow(img, cmap=cmap)\n",
    "    # plt.show()\n",
    "    # cv2.imwrite('Threshodled_Num_RMS_case_%d.png' % case, img)\n",
    "    plt.savefig('Thresholded_Num_RMS_case_%d.png' % case, bbox_inches='tight', transparent=\"True\", pad_inches=0)\n",
    "    plt.close()"
   ]
  },
  {
   "cell_type": "code",
   "execution_count": null,
   "id": "b44562f1",
   "metadata": {},
   "outputs": [],
   "source": []
  }
 ],
 "metadata": {
  "kernelspec": {
   "display_name": "Python 3 (ipykernel)",
   "language": "python",
   "name": "python3"
  },
  "language_info": {
   "codemirror_mode": {
    "name": "ipython",
    "version": 3
   },
   "file_extension": ".py",
   "mimetype": "text/x-python",
   "name": "python",
   "nbconvert_exporter": "python",
   "pygments_lexer": "ipython3",
   "version": "3.7.10"
  }
 },
 "nbformat": 4,
 "nbformat_minor": 5
}
