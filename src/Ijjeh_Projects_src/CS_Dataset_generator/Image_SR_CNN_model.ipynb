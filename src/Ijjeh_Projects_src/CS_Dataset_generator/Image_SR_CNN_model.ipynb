{
 "cells": [
  {
   "cell_type": "code",
   "execution_count": null,
   "id": "ad7b68fb-2731-4a3f-a074-9ee4749a5a5e",
   "metadata": {},
   "outputs": [],
   "source": [
    "import math\n",
    "import os\n",
    "from IPython.display import Image, display\n",
    "from tensorflow.keras.preprocessing.image import load_img\n",
    "import PIL\n",
    "from PIL import ImageOps\n",
    "import re\n",
    "import numpy as np\n",
    "import tensorflow as tf\n",
    "import tensorflow_addons as tfa\n",
    "import keras\n",
    "from keras import layers\n",
    "from tensorflow.python.client import device_lib\n",
    "import random\n",
    "from tensorflow.keras.models import Model\n",
    "import matplotlib.pyplot as plt\n",
    "from tensorflow.keras import backend as K\n",
    "import natsort\n",
    "from keras.preprocessing.image import ImageDataGenerator, array_to_img, img_to_array, load_img\n",
    "from scipy import signal\n",
    "from sewar.full_ref import mse, rmse, psnr, uqi, ssim, ergas, scc, rase, sam, msssim, vifp\n",
    "import neptune\n",
    "from decouple import config\n",
    "from keras.callbacks import Callback\n"
   ]
  },
  {
   "cell_type": "code",
   "execution_count": null,
   "id": "84a9eb66-06a1-4c22-95cc-3b07bc9ffe00",
   "metadata": {},
   "outputs": [],
   "source": [
    "########################################################################################################################\n",
    "os.environ[\"CUDA_DEVICE_ORDER\"] = \"PCI_BUS_ID\"\n",
    "os.environ[\"CUDA_VISIBLE_DEVICES\"] = '2'\n",
    "print(device_lib.list_local_devices())\n",
    "########################################################################################################################"
   ]
  },
  {
   "cell_type": "code",
   "execution_count": null,
   "id": "99372d81-6903-49c5-a6b5-6517d3a324c6",
   "metadata": {},
   "outputs": [],
   "source": [
    "random.seed(42)\n",
    "np.random.seed(42)\n",
    "tf.random.set_seed(42)"
   ]
  },
  {
   "cell_type": "code",
   "execution_count": null,
   "id": "51d6d022-88e1-4d7f-8662-0eb6d4012ace",
   "metadata": {},
   "outputs": [],
   "source": [
    "########################################################################################################################\n",
    "# Link to neptune ai for monitoring\n",
    "########################################################################################################################\n",
    "run = neptune.init(project_qualified_name='abdalraheem.ijjeh/aidd',\n",
    "                   api_token='eyJhcGlfYWRkcmVzcyI6Imh0dHBzOi8vYXBwLm5lcHR1bmUuYWkiLCJhcGlfdXJsIjoiaHR0cHM6Ly9hcHAubmVwdHVuZS5haSIsImFwaV9rZXkiOiJhZGJjNTcyNC0yN2ViLTQ5YzctOGFkZC1jODNlZmU1Y2Q4ZDcifQ==')\n",
    "neptune.create_experiment('Variational_AutoEncoder_with_FFT')\n",
    "neptune.append_tag('VAE_FFT')"
   ]
  },
  {
   "cell_type": "code",
   "execution_count": null,
   "id": "88fce77f-51f8-4a59-9a81-bfa0375d814b",
   "metadata": {},
   "outputs": [],
   "source": []
  },
  {
   "cell_type": "code",
   "execution_count": null,
   "id": "7b3ff11b-b866-47ec-890e-1dd6985e4207",
   "metadata": {},
   "outputs": [],
   "source": []
  },
  {
   "cell_type": "code",
   "execution_count": null,
   "id": "e3ae7324-4353-41c0-87b0-afd5e2a8f06d",
   "metadata": {},
   "outputs": [],
   "source": [
    "path = '/home/aijjeh/Desktop/Phd_Projects/Sequence_prediction/Sequence_to_sequence/Dataset_Full_wavefield_outputs_bottom'\n",
    "os.chdir(path)"
   ]
  },
  {
   "cell_type": "code",
   "execution_count": null,
   "id": "0e22e312-bb0e-41c3-bc9b-024c47bd7b6a",
   "metadata": {},
   "outputs": [],
   "source": [
    "Full_W_dataset = np.load('dataset_labels_Full_wavefield_475_512_512_512.npy', mmap_mode='r+')\n",
    "print(Full_W_dataset.shape)"
   ]
  },
  {
   "cell_type": "code",
   "execution_count": null,
   "id": "9a768414-5e9d-4128-a0c7-9abfd1f688e4",
   "metadata": {},
   "outputs": [],
   "source": [
    "path_cs_dataset = '/home/aijjeh/Desktop/Phd_Projects/compressive_sensing_project/cs_datasets'\n",
    "os.chdir(path_cs_dataset)"
   ]
  },
  {
   "cell_type": "code",
   "execution_count": null,
   "id": "1148c0b3-0349-4867-a032-a9ae9570fdc9",
   "metadata": {},
   "outputs": [],
   "source": [
    "CS_arr = np.load('CS_dataset_CR_50_percent.npy', mmap_mode='r+')"
   ]
  },
  {
   "cell_type": "code",
   "execution_count": null,
   "id": "34056d31-76be-4c2b-a4a1-d8a0927cc2ab",
   "metadata": {},
   "outputs": [],
   "source": [
    "print(CS_arr.shape)"
   ]
  },
  {
   "cell_type": "code",
   "execution_count": null,
   "id": "876b9a3e-55d4-4e1f-85cf-80e1da7f3250",
   "metadata": {},
   "outputs": [],
   "source": [
    "x_train = CS_arr[:304]\n",
    "y_train = Full_W_dataset[:304]\n",
    "x_val = CS_arr[304:380]\n",
    "y_val = Full_W_dataset[304:380]\n",
    "x_test = CS_arr[380:]\n",
    "y_test = Full_W_dataset[380:]"
   ]
  },
  {
   "cell_type": "code",
   "execution_count": null,
   "id": "289d1255-84ba-4b55-8b62-e9a83007300f",
   "metadata": {
    "tags": []
   },
   "outputs": [],
   "source": [
    "train_dataset = tf.data.Dataset.from_tensor_slices((x_train, y_train))\n",
    "val_dataset = tf.data.Dataset.from_tensor_slices((x_val, y_val))\n",
    "test_dataset = tf.data.Dataset.from_tensor_slices((x_test, y_test))\n",
    "BATCH_SIZE = 1\n",
    "train_dataset = train_dataset.batch(BATCH_SIZE)\n",
    "val_dataset = val_dataset.batch(BATCH_SIZE)\n",
    "test_dataset = test_dataset.batch(BATCH_SIZE)"
   ]
  },
  {
   "cell_type": "code",
   "execution_count": null,
   "id": "15d2043c-cbe1-4663-a292-7919a5b215ff",
   "metadata": {},
   "outputs": [],
   "source": [
    "Input_img = tf.keras.layers.Input(shape=(512, 256, 256))  \n",
    "    \n",
    "#encoding architecture\n",
    "x1 = tf.keras.layers.Conv2D(64,\n",
    "            (3, 3),\n",
    "            activation='relu',\n",
    "            data_format='channels_first',\n",
    "            padding='same',\n",
    "            kernel_regularizer=regularizers.l1(10e-10))(Input_img)\n",
    "x2 = tf.keras.layers.Conv2D(64,\n",
    "            (3, 3), \n",
    "            activation='relu',\n",
    "            padding='same',\n",
    "            kernel_regularizer=regularizers.l1(10e-10))(x1)\n",
    "x3 = tf.keras.layers.MaxPool2D(padding='same')(x2)\n",
    "\n",
    "x4 = tf.keras.layers.Conv2D(128,\n",
    "            (3, 3), \n",
    "            activation='relu', \n",
    "            padding='same',\n",
    "            kernel_regularizer=regularizers.l1(10e-10))(x3)\n",
    "x5 = tf.keras.layers.Conv2D(128,\n",
    "            (3, 3),\n",
    "            activation='relu',\n",
    "            padding='same', \n",
    "            kernel_regularizer=regularizers.l1(10e-10))(x4)\n",
    "x6 = tf.keras.layers.MaxPool2D(padding='same')(x5)\n",
    "encoded = tf.keras.layers.Conv2D(256,\n",
    "                 (3, 3), \n",
    "                 activation='relu', \n",
    "                 padding='same', \n",
    "                 kernel_regularizer=regularizers.l1(10e-10))(x6)\n",
    "#encoded = Conv2D(64, (3, 3), activation='relu', padding='same')(x2)\n",
    "# decoding architecture\n",
    "x7 = tf.keras.layers.UpSampling2D()(encoded)\n",
    "x8 = tf.keras.layers.Conv2D(128, \n",
    "            (3, 3), \n",
    "            activation='relu', \n",
    "            padding='same',\n",
    "            kernel_regularizer=regularizers.l1(10e-10))(x7)\n",
    "x9 = tf.keras.layers.Conv2D(128,\n",
    "            (3, 3),\n",
    "            activation='relu', \n",
    "            padding='same',\n",
    "            kernel_regularizer=regularizers.l1(10e-10))(x8)\n",
    "x10 = tf.keras.layers.Add()([x5, x9])\n",
    "x11 = tf.keras.layers.UpSampling2D()(x10)\n",
    "x12 = tf.keras.layers.Conv2D(64,\n",
    "             (3, 3),\n",
    "             activation='relu', \n",
    "             padding='same', \n",
    "             kernel_regularizer=regularizers.l1(10e-10))(x11)\n",
    "x13 = tf.keras.layers.Conv2D(64, \n",
    "             (3, 3),\n",
    "             activation='relu', \n",
    "             padding='same', \n",
    "             kernel_regularizer=regularizers.l1(10e-10))(x12)\n",
    "x14 = tf.keras.layers.Add()([x2, x13])\n",
    "# x3 = UpSampling2D((2, 2))(x3)\n",
    "# x2 = Conv2D(128, (3, 3), activation='relu', padding='same')(x3)\n",
    "# x1 = Conv2D(256, (3, 3), activation='relu', padding='same')(x2)\n",
    "decoded = tf.keras.layers.Conv2D(512, \n",
    "                 (3, 3),\n",
    "                 padding='same',\n",
    "                 activation='relu', \n",
    "                 kernel_regularizer=regularizers.l1(10e-10))(x14)\n",
    "autoencoder = Model(Input_img, decoded)\n",
    "autoencoder.compile(optimizer='adam', loss='mse', metrics=['accuracy'])"
   ]
  },
  {
   "cell_type": "code",
   "execution_count": null,
   "id": "fdf019f8-5d7a-43aa-a26b-46bac2e97b15",
   "metadata": {},
   "outputs": [],
   "source": []
  },
  {
   "cell_type": "code",
   "execution_count": null,
   "id": "10b8fe61-2fa0-4d14-a322-89b5cffdfb28",
   "metadata": {},
   "outputs": [],
   "source": []
  },
  {
   "cell_type": "code",
   "execution_count": null,
   "id": "66574ee2-28b2-436b-8092-ce7ea10026ea",
   "metadata": {},
   "outputs": [],
   "source": []
  }
 ],
 "metadata": {
  "kernelspec": {
   "display_name": "Python 3 (ipykernel)",
   "language": "python",
   "name": "python3"
  },
  "language_info": {
   "codemirror_mode": {
    "name": "ipython",
    "version": 3
   },
   "file_extension": ".py",
   "mimetype": "text/x-python",
   "name": "python",
   "nbconvert_exporter": "python",
   "pygments_lexer": "ipython3",
   "version": "3.7.10"
  }
 },
 "nbformat": 4,
 "nbformat_minor": 5
}
