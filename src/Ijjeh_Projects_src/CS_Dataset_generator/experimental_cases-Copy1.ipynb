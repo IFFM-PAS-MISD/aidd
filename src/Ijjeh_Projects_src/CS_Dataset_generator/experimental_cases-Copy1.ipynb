{
 "cells": [
  {
   "cell_type": "code",
   "execution_count": null,
   "id": "52bd1edd-eec0-4280-b93b-1296ad757263",
   "metadata": {},
   "outputs": [],
   "source": [
    "import csv\n",
    "import gc\n",
    "import cv2\n",
    "from tensorflow import keras\n",
    "import numpy as np\n",
    "from keras.models import load_model\n",
    "import matplotlib.pyplot as plt\n",
    "import neptune\n",
    "from tensorflow.python.client import device_lib\n",
    "from PIL import Image\n",
    "import tensorflow as tf\n",
    "import os\n",
    "from keras.layers import LeakyReLU\n",
    "from pathlib import Path\n",
    "from decouple import config\n",
    "import matplotlib\n",
    "from matplotlib import cm\n",
    "import itertools\n",
    "from pathlib import Path\n",
    "from scipy.io import savemat\n"
   ]
  },
  {
   "cell_type": "code",
   "execution_count": null,
   "id": "8452b104",
   "metadata": {},
   "outputs": [],
   "source": [
    "# Numerical Case 399\n",
    "# os.chdir('/aijjeh_odroid_sensors/aidd/data/raw/num/wavefield_dataset2_bottom_out/399_output/')\n",
    "# \n",
    "# images = []\n",
    "# for i in range(512):\n",
    "#     data = cv2.imread('%d_flat_shell_Vz_399_500x500bottom.png' % (i+1), 0) \n",
    "#     img = cv2.resize(data, (512,512), interpolation=cv2.INTER_CUBIC)\n",
    "#     images.append(img)\n",
    "# images = np.asarray(images)    \n",
    "# images = np.reshape(images, (512, 512, 512, 1))\n",
    "# images = images.astype('float32')\n",
    "# images = images / 255.0\n",
    "# # for j in range(512):    \n",
    "# #     plt.imshow(images[j])\n",
    "# #     plt.show()\n",
    "# #     print(j)\n",
    "#     \n",
    "# \n",
    "# os.chdir('/home/aijjeh/Desktop/Phd_Projects/compressive_sensing_project/experimental_cases_set/')\n",
    "# \n",
    "# np.save('GT_Num_output_case_399', images)"
   ]
  },
  {
   "cell_type": "code",
   "execution_count": null,
   "id": "9b8cb545-0a36-4148-a5da-90bf96b11afe",
   "metadata": {
    "tags": []
   },
   "outputs": [],
   "source": [
    "# os.chdir('/aijjeh_odroid_sensors/aidd/data/interim/exp/L3_S4_B/compressed/389286p_512x512/')\n",
    "# \n",
    "# images = []\n",
    "# for i in range(1,513):\n",
    "#     data = cv2.imread('frame_%d_389286p_512x512.png' % i, 0) \n",
    "#     images.append(data)\n",
    "# images = np.asarray(images)    \n",
    "# images = np.reshape(images, (512, 512, 512, 1))\n",
    "# images = images.astype('float32')\n",
    "# images = images / 255.0\n",
    "# # for j in range(512):    \n",
    "# #     plt.imshow(images[j])\n",
    "# #     plt.show()\n",
    "# #     print(j)\n",
    "#     \n",
    "# \n",
    "# os.chdir('/home/aijjeh/Desktop/Phd_Projects/compressive_sensing_project/experimental_cases_set/')\n",
    "# \n",
    "# np.save('389286p_na_512x512p_New_exp', images)"
   ]
  },
  {
   "cell_type": "code",
   "execution_count": null,
   "id": "6771a547-1677-4fa1-82f1-e102906d0e21",
   "metadata": {},
   "outputs": [],
   "source": [
    "os.environ[\"CUDA_DEVICE_ORDER\"] = \"PCI_BUS_ID\"\n",
    "os.environ[\"CUDA_VISIBLE_DEVICES\"] = '1'\n",
    "print(device_lib.list_local_devices())"
   ]
  },
  {
   "cell_type": "code",
   "execution_count": null,
   "id": "be17d816-9384-436f-bad1-d064968cf43e",
   "metadata": {},
   "outputs": [],
   "source": [
    "########################################################################################################################\n",
    "# Load dataset\n",
    "########################################################################################################################\n",
    "def load_dataset():    \n",
    "    os.chdir('/home/aijjeh/Desktop/Phd_Projects/compressive_sensing_project/experimental_cases_set/')            \n",
    "    Full_W_dataset = np.load('389286p_na_512x512p_New_exp.npy')\n",
    "    print(Full_W_dataset.shape)\n",
    "    CS_arr = np.load('32x32p_50kHz_5HC_14Vpp_x10_New_exp.npy')\n",
    "    print(CS_arr.shape)\n",
    "    x_test = CS_arr\n",
    "    y_test = Full_W_dataset    \n",
    "    return x_test, y_test  "
   ]
  },
  {
   "cell_type": "code",
   "execution_count": null,
   "id": "2e112c5a-ee70-4273-972f-becec907cf6c",
   "metadata": {
    "tags": []
   },
   "outputs": [],
   "source": [
    "########################################################################################################################\n",
    "os.chdir('/home/aijjeh/Desktop/Phd_Projects/compressive_sensing_project/Saeed_model/h5_model')\n",
    "new_dim = 32\n",
    "CR = (new_dim ** 2) / (69 ** 2)  # Compression Ratio\n",
    "rescale_factor = int(512 / new_dim)\n",
    "model_name = 'Sub_pix_latest.h5' \n",
    "model = load_model(model_name, compile=False)\n",
    "model.summary()"
   ]
  },
  {
   "cell_type": "code",
   "execution_count": null,
   "id": "b34878a8-ee1a-4bd8-a22e-78057576cbcf",
   "metadata": {},
   "outputs": [],
   "source": [
    "def testing():   \n",
    "    x_test, y_test = load_dataset()                 \n",
    "    print(x_test.shape)\n",
    "    print(y_test.shape)\n",
    "    \n",
    "    prediction = model.predict(x_test, batch_size=1)\n",
    "    prediction = np.asarray(prediction)\n",
    "    frames = x_test.shape[0]\n",
    "    \n",
    "    print(frames)\n",
    "    for i in range(frames):\n",
    "        SR_pred = prediction[i].astype('float32')            \n",
    "        original = x_test[i].astype('float32')\n",
    "        GT_label_input = y_test[i].astype('float32')\n",
    "        ############################################################################################################\n",
    "        plt.figure(figsize=(1, 1), dpi=512)\n",
    "        plt.gca().set_axis_off()\n",
    "        plt.axis('off')\n",
    "        plt.subplots_adjust(left=0.0, bottom=0.0, right=1, top=1.0, wspace=0.0, hspace=0.0)\n",
    "        plt.margins(0, 0)\n",
    "        plt.gca().xaxis.set_major_locator(plt.NullLocator())\n",
    "        plt.gca().yaxis.set_major_locator(plt.NullLocator())\n",
    "        ############################################################################################################\n",
    "        SR_pred = SR_pred * 255\n",
    "        SR_pred= SR_pred.astype(np.uint8)\n",
    "        # ax1 = plt.subplot(1, 3, 1)\n",
    "        # ax1.set_title('Original input')\n",
    "        # ax1.imshow(original)\n",
    "        # plt.axis('off')\n",
    "\n",
    "        # ax2 = plt.subplot(1, 4, 2)\n",
    "        # ax2.set_title('lr input')\n",
    "        # ax2.imshow(lr_input)\n",
    "        # plt.axis('off')\n",
    " \n",
    "        \n",
    "        # ax1.set_title('SR output')        \n",
    "        plt.imshow(SR_pred)        \n",
    "        plt.axis('off')\n",
    "        # ax3 = plt.subplot(1, 3, 3)\n",
    "        # ax3.set_title('GT')\n",
    "        # ax3.imshow(GT_label_input)\n",
    "        # plt.axis('off')            \n",
    "        \n",
    "        path = '/home/aijjeh/Desktop/Phd_Projects/compressive_sensing_project/Saeed_model/Saeed_CS_Exp/'\n",
    "        Path(path).mkdir(parents=True, exist_ok=True)\n",
    "        os.chdir(path)  \n",
    "        cv2.imwrite('Saeed_SR_Pred_frame_%d_UNIFORM_MESH.png' % (i+1), SR_pred)\n",
    "        # plt.savefig('Saeed_SR_Pred_frame_%d_UNIFORM_MESH.png' % (i+1))\n",
    "        plt.close('all')"
   ]
  },
  {
   "cell_type": "code",
   "execution_count": null,
   "id": "2b8654a5-3e22-4a2d-bd6f-d7c578e81237",
   "metadata": {
    "scrolled": true,
    "tags": []
   },
   "outputs": [],
   "source": [
    "testing()\n"
   ]
  },
  {
   "cell_type": "code",
   "execution_count": null,
   "id": "c4b0544a",
   "metadata": {},
   "outputs": [],
   "source": []
  }
 ],
 "metadata": {
  "kernelspec": {
   "display_name": "Python 3 (ipykernel)",
   "language": "python",
   "name": "python3"
  },
  "language_info": {
   "codemirror_mode": {
    "name": "ipython",
    "version": 3
   },
   "file_extension": ".py",
   "mimetype": "text/x-python",
   "name": "python",
   "nbconvert_exporter": "python",
   "pygments_lexer": "ipython3",
   "version": "3.7.10"
  }
 },
 "nbformat": 4,
 "nbformat_minor": 5
}
