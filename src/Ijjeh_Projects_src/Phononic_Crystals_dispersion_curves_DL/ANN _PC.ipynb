{
 "cells": [
  {
   "cell_type": "code",
   "execution_count": null,
   "id": "1ce5c417",
   "metadata": {},
   "outputs": [],
   "source": [
    "import os\n",
    "from IPython.display import Image, display\n",
    "from tensorflow.keras.preprocessing.image import load_img\n",
    "import PIL\n",
    "from PIL import ImageOps\n",
    "import re\n",
    "import numpy as np\n",
    "import tensorflow as tf\n",
    "import keras\n",
    "from keras import layers\n",
    "from keras.layers import MaxPooling3D, \\\n",
    "    Input, ConvLSTM2D, UpSampling2D, \\\n",
    "    MaxPooling2D, Conv2D, Concatenate, Conv3D, \\\n",
    "    Dropout, BatchNormalization, Add, MaxPool2D, Conv2DTranspose, MaxPool3D, Conv3DTranspose, UpSampling3D, \\\n",
    "    concatenate, MaxPooling3D, Bidirectional, TimeDistributed\n",
    "from tensorflow.python.client import device_lib\n",
    "import random\n",
    "from tensorflow.keras.models import Model\n",
    "import matplotlib.pyplot as plt\n",
    "from keras import backend as K\n",
    "import neptune\n",
    "from keras.callbacks import Callback\n",
    "from sklearn.model_selection import train_test_split\n"
   ]
  },
  {
   "cell_type": "code",
   "execution_count": null,
   "id": "06acaede",
   "metadata": {
    "scrolled": true
   },
   "outputs": [],
   "source": [
    "os.environ[\"CUDA_DEVICE_ORDER\"] = \"PCI_BUS_ID\"\n",
    "os.environ[\"CUDA_VISIBLE_DEVICES\"] = '1'\n",
    "\n",
    "os.chdir('/home/aijjeh/Desktop/Phd_Projects/PC_uint_cell_dispersion_curves/dataset/')\n",
    "X_train = np.load('train_x.npy')\n",
    "Y_train = np.load('train_y_mat.npy')\n",
    "Y_train = (Y_train[:,:,0] / 5.2667e5)\n",
    "\n",
    "# x_train, x_test, y_train, y_test = train_test_split(X_train, Y_train, test_size=0.07, random_state=42)\n",
    "\n",
    "x_train = X_train[:450]\n",
    "y_train = Y_train[:450]\n",
    "\n",
    "\n",
    "x_test = X_train[450:]\n",
    "y_test = Y_train[450:]\n",
    "\n",
    "# batches = 32\n",
    "# train_set = tf.data.Dataset.from_tensor_slices((x_train, y_train)).batch(batches)\n",
    "# # val_set = tf.data.Dataset.from_tensor_slices((x_val, y_val)).batch(batches)\n",
    "# test_set = tf.data.Dataset.from_tensor_slices((x_test, y_test)).batch(batches)"
   ]
  },
  {
   "cell_type": "code",
   "execution_count": null,
   "id": "b876c1ec",
   "metadata": {},
   "outputs": [],
   "source": [
    "def conv_block(in_blk, num):\n",
    "    layer11 = tf.keras.layers.Conv1D(num, 3,\n",
    "                                     padding='same',\n",
    "                                     activation='relu')(in_blk)\n",
    "    layer12 = tf.keras.layers.Conv1D(num, 3,\n",
    "                                     padding='same',\n",
    "                                     activation='relu')(layer11)\n",
    "    return tf.keras.layers.concatenate([layer11, layer12], axis=-1)"
   ]
  },
  {
   "cell_type": "code",
   "execution_count": null,
   "id": "6890369f",
   "metadata": {},
   "outputs": [],
   "source": [
    "filter_size = 16\n",
    "img_shape = (256, 256 ,1)\n",
    "epochs= 3000"
   ]
  },
  {
   "cell_type": "code",
   "execution_count": null,
   "id": "4d6dde88",
   "metadata": {},
   "outputs": [],
   "source": [
    "########################################################################################################################\n",
    "# First CNN model\n",
    "########################################################################################################################\n",
    "# Encoder\n",
    "########################################################################################################################\n",
    "inputs_1 = tf.keras.Input(shape=img_shape)\n",
    "blk1 = conv_block(inputs_1, filter_size)\n",
    "\n",
    "DS1 = tf.keras.layers.MaxPool2D((2, 2))(blk1)\n",
    "\n",
    "blk2 = conv_block(DS1, filter_size * 2)\n",
    "\n",
    "DS2 = tf.keras.layers.MaxPool2D((2, 2))(blk2)\n",
    "\n",
    "blk3 = conv_block(DS2, filter_size * 4)\n",
    "\n",
    "DS3 = tf.keras.layers.MaxPool2D((2, 2))(blk3)\n",
    "\n",
    "blk4 = conv_block(DS3, filter_size * 8)\n",
    "\n",
    "DS4 = tf.keras.layers.MaxPool2D((2, 2))(blk4)\n",
    "\n",
    "blk5 = conv_block(DS4, filter_size * 8)\n",
    "\n",
    "DS5 = tf.keras.layers.MaxPool2D((2, 2))(blk5)\n",
    "\n",
    "blk6 = conv_block(DS5, filter_size * 8)\n",
    "\n",
    "DS6 = tf.keras.layers.MaxPool2D((2, 2))(blk6)"
   ]
  },
  {
   "cell_type": "code",
   "execution_count": null,
   "id": "1df97b39",
   "metadata": {},
   "outputs": [],
   "source": [
    "########################################################################################################################\n",
    "# BottleNeck\n",
    "########################################################################################################################\n",
    "bottleneck = conv_block(DS6, filter_size * 8)\n",
    "bottleneck = tf.keras.layers.Flatten()(bottleneck)\n",
    "print(tf.shape(bottleneck))\n",
    "output1 = tf.keras.layers.Dense(4096, activation='relu')(bottleneck)\n",
    "# output1 = tf.keras.layers.Dropout(0.4)(output1)\n",
    "output1 = tf.keras.layers.Dense(4096, activation='relu')(output1)\n",
    "output1 = tf.keras.layers.Dropout(0.5)(output1)\n",
    "output1 = tf.keras.layers.Dense(4096, activation='relu')(output1)\n",
    "output1 = tf.keras.layers.Dropout(0.5)(output1)\n",
    "output1 = tf.keras.layers.Dense(1464, activation='relu')(output1)\n",
    "\n",
    "output1 = tf.keras.layers.Reshape((1464, 1))(output1)\n"
   ]
  },
  {
   "cell_type": "code",
   "execution_count": null,
   "id": "8615f8be",
   "metadata": {},
   "outputs": [],
   "source": [
    "########################################################################################################################\n",
    "# Decoder\n",
    "########################################################################################################################\n",
    "# UP1 = tf.keras.layers.UpSampling2D((2, 2))(bottleneck)\n",
    "# blk5 = conv_block(UP1, filter_size * 8)\n",
    "# UP2 = tf.keras.layers.UpSampling2D((2, 1))(blk5)\n",
    "# blk6 = conv_block(UP2, filter_size * 4)\n",
    "# UP3 = tf.keras.layers.UpSampling2D((2, 1))(blk6)\n",
    "# blk7 = conv_block(UP3, filter_size * 2)\n",
    "# UP4 = tf.keras.layers.UpSampling2D((2, 1))(blk7)\n",
    "# blk8 = conv_block(UP4, filter_size)"
   ]
  },
  {
   "cell_type": "code",
   "execution_count": null,
   "id": "e08b43c5",
   "metadata": {
    "scrolled": true
   },
   "outputs": [],
   "source": [
    "########################################################################################################################\n",
    "# Output layer\n",
    "########################################################################################################################\n",
    "cnn_model = tf.keras.models.Model(inputs=inputs_1, outputs=output1)\n",
    "cnn_model.summary()"
   ]
  },
  {
   "cell_type": "code",
   "execution_count": null,
   "id": "bb6ab173",
   "metadata": {},
   "outputs": [],
   "source": [
    "########################################################################################################################\n",
    "# Model compile and training\n",
    "########################################################################################################################\n",
    "cnn_model.compile(optimizer=tf.keras.optimizers.Adam(learning_rate=3e-4),\n",
    "                  loss=tf.keras.losses.MeanSquaredError(),\n",
    "                  metrics=[tf.keras.metrics.MeanSquaredError(),\n",
    "                          tf.keras.metrics.CosineSimilarity()],)"
   ]
  },
  {
   "cell_type": "code",
   "execution_count": null,
   "id": "0b8bd079",
   "metadata": {
    "scrolled": true
   },
   "outputs": [],
   "source": [
    "callback = tf.keras.callbacks.EarlyStopping(monitor='val_loss', patience=2000, min_delta=1e-6)\n",
    "cnn_model.fit(x=x_train, \n",
    "              y=y_train,\n",
    "              batch_size=16,\n",
    "              validation_split=0.1,\n",
    "              epochs=epochs,             \n",
    "              callbacks=[callback])"
   ]
  },
  {
   "cell_type": "code",
   "execution_count": null,
   "id": "620c41e2",
   "metadata": {},
   "outputs": [],
   "source": [
    "os.chdir('/home/aijjeh/Desktop/Phd_Projects/PC_uint_cell_dispersion_curves/h5_models/')\n",
    "cnn_model.save(\"VAE_ANN_PC_uint_cell_ver_5.h5\")"
   ]
  }
 ],
 "metadata": {
  "kernelspec": {
   "display_name": "Python 3 (ipykernel)",
   "language": "python",
   "name": "python3"
  },
  "language_info": {
   "codemirror_mode": {
    "name": "ipython",
    "version": 3
   },
   "file_extension": ".py",
   "mimetype": "text/x-python",
   "name": "python",
   "nbconvert_exporter": "python",
   "pygments_lexer": "ipython3",
   "version": "3.7.10"
  }
 },
 "nbformat": 4,
 "nbformat_minor": 5
}
